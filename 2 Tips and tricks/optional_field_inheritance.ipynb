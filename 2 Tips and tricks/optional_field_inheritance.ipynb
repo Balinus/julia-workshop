{
 "cells": [
  {
   "cell_type": "markdown",
   "metadata": {},
   "source": [
    "In Julia, subtypes \"inherit\" behavior and not implementation details.\n",
    "\n",
    "What if you really really really want inheritance of fields? There are solutions via metaprogramming. One simple solution is the `@def` macro. "
   ]
  },
  {
   "cell_type": "code",
   "execution_count": 1,
   "metadata": {},
   "outputs": [
    {
     "data": {
      "text/plain": [
       "@def (macro with 1 method)"
      ]
     },
     "execution_count": 1,
     "metadata": {},
     "output_type": "execute_result"
    }
   ],
   "source": [
    "macro def(name, definition)\n",
    "  return quote\n",
    "      macro $(esc(name))()\n",
    "          esc($(Expr(:quote, definition)))\n",
    "      end\n",
    "  end\n",
    "end"
   ]
  },
  {
   "cell_type": "markdown",
   "metadata": {},
   "source": [
    "This macro is very simple. What it does is compile-time copy/paste. For example:"
   ]
  },
  {
   "cell_type": "code",
   "execution_count": 3,
   "metadata": {},
   "outputs": [
    {
     "data": {
      "text/plain": [
       "@give_it_a_name (macro with 1 method)"
      ]
     },
     "execution_count": 3,
     "metadata": {},
     "output_type": "execute_result"
    }
   ],
   "source": [
    "@def give_it_a_name begin\n",
    "  a = 2\n",
    "  println(a)\n",
    "end"
   ]
  },
  {
   "cell_type": "markdown",
   "metadata": {},
   "source": [
    "defines a macro `@give_it_a_name` that will paste in those two lines of code wherever it is used.\n",
    "\n",
    "One can use this macro to give multiple types the same fields (the same implementation) like so"
   ]
  },
  {
   "cell_type": "code",
   "execution_count": 4,
   "metadata": {},
   "outputs": [
    {
     "data": {
      "text/plain": [
       "@add_generic_fields (macro with 1 method)"
      ]
     },
     "execution_count": 4,
     "metadata": {},
     "output_type": "execute_result"
    }
   ],
   "source": [
    "@def add_generic_fields begin\n",
    "        method_string::String\n",
    "        n::Int64\n",
    "        x::Array{T}\n",
    "        f_x::T\n",
    "        f_calls::Int64\n",
    "        g_calls::Int64\n",
    "        h_calls::Int64\n",
    "end"
   ]
  },
  {
   "cell_type": "code",
   "execution_count": null,
   "metadata": {},
   "outputs": [],
   "source": [
    "mutable struct A{T}\n",
    "    @add_generic_fields\n",
    "    exlusive_for_A::Float64\n",
    "    # ... more fields ... \n",
    "end\n",
    "\n",
    "mutable struct B{T}\n",
    "    @add_generic_fields\n",
    "    exlusive_for_B::Float64\n",
    "    another_exlusive_for_B::String\n",
    "    # ... more fields ... \n",
    "end"
   ]
  },
  {
   "cell_type": "markdown",
   "metadata": {},
   "source": [
    "Because `@def` works at compile-time, there is no cost associated with this. Similar metaprogramming can be used to build an \"inheritance feature\" for Julia. One package which does this is [ConcreteAbstractions.jl](https://github.com/tbreloff/ConcreteAbstractions.jl) which allows you to add fields to abstract types and make the child types inherit the fields:"
   ]
  },
  {
   "cell_type": "markdown",
   "metadata": {},
   "source": [
    "```julia\n",
    "# The abstract type\n",
    "@base mutable struct AbstractFoo{T}\n",
    "    a\n",
    "    b::Int\n",
    "    c::T\n",
    "    d::Vector{T}\n",
    "end\n",
    "\n",
    "# Inheritance\n",
    "@extend mutable struct Foo <: AbstractFoo\n",
    "    e::T\n",
    "end\n",
    "```"
   ]
  },
  {
   "cell_type": "code",
   "execution_count": null,
   "metadata": {},
   "outputs": [],
   "source": []
  }
 ],
 "metadata": {
  "kernelspec": {
   "display_name": "Julia 1.0.0",
   "language": "julia",
   "name": "julia-1.0"
  },
  "language_info": {
   "file_extension": ".jl",
   "mimetype": "application/julia",
   "name": "julia",
   "version": "1.0.0"
  }
 },
 "nbformat": 4,
 "nbformat_minor": 2
}
