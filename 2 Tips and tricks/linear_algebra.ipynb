{
 "cells": [
  {
   "cell_type": "markdown",
   "metadata": {},
   "source": [
    "## Example1: Hamiltonian transformation"
   ]
  },
  {
   "cell_type": "code",
   "execution_count": 73,
   "metadata": {},
   "outputs": [],
   "source": [
    "using LinearAlgebra, SparseArrays, BenchmarkTools"
   ]
  },
  {
   "cell_type": "markdown",
   "metadata": {},
   "source": [
    "Let's build a simple Hamiltonian"
   ]
  },
  {
   "cell_type": "code",
   "execution_count": 74,
   "metadata": {},
   "outputs": [],
   "source": [
    "N = 100\n",
    "μ = fill(-0.5, N)\n",
    "t = fill(1, 99);"
   ]
  },
  {
   "cell_type": "code",
   "execution_count": 75,
   "metadata": {},
   "outputs": [
    {
     "data": {
      "text/plain": [
       "100×100 Array{Float64,2}:\n",
       " -0.5   1.0   0.0   0.0   0.0   0.0  …   0.0   0.0   0.0   0.0   0.0   0.0\n",
       "  1.0  -0.5   1.0   0.0   0.0   0.0      0.0   0.0   0.0   0.0   0.0   0.0\n",
       "  0.0   1.0  -0.5   1.0   0.0   0.0      0.0   0.0   0.0   0.0   0.0   0.0\n",
       "  0.0   0.0   1.0  -0.5   1.0   0.0      0.0   0.0   0.0   0.0   0.0   0.0\n",
       "  0.0   0.0   0.0   1.0  -0.5   1.0      0.0   0.0   0.0   0.0   0.0   0.0\n",
       "  0.0   0.0   0.0   0.0   1.0  -0.5  …   0.0   0.0   0.0   0.0   0.0   0.0\n",
       "  0.0   0.0   0.0   0.0   0.0   1.0      0.0   0.0   0.0   0.0   0.0   0.0\n",
       "  0.0   0.0   0.0   0.0   0.0   0.0      0.0   0.0   0.0   0.0   0.0   0.0\n",
       "  0.0   0.0   0.0   0.0   0.0   0.0      0.0   0.0   0.0   0.0   0.0   0.0\n",
       "  0.0   0.0   0.0   0.0   0.0   0.0      0.0   0.0   0.0   0.0   0.0   0.0\n",
       "  0.0   0.0   0.0   0.0   0.0   0.0  …   0.0   0.0   0.0   0.0   0.0   0.0\n",
       "  0.0   0.0   0.0   0.0   0.0   0.0      0.0   0.0   0.0   0.0   0.0   0.0\n",
       "  0.0   0.0   0.0   0.0   0.0   0.0      0.0   0.0   0.0   0.0   0.0   0.0\n",
       "  ⋮                             ⋮    ⋱         ⋮                          \n",
       "  0.0   0.0   0.0   0.0   0.0   0.0      0.0   0.0   0.0   0.0   0.0   0.0\n",
       "  0.0   0.0   0.0   0.0   0.0   0.0      0.0   0.0   0.0   0.0   0.0   0.0\n",
       "  0.0   0.0   0.0   0.0   0.0   0.0  …   0.0   0.0   0.0   0.0   0.0   0.0\n",
       "  0.0   0.0   0.0   0.0   0.0   0.0      0.0   0.0   0.0   0.0   0.0   0.0\n",
       "  0.0   0.0   0.0   0.0   0.0   0.0      0.0   0.0   0.0   0.0   0.0   0.0\n",
       "  0.0   0.0   0.0   0.0   0.0   0.0      1.0   0.0   0.0   0.0   0.0   0.0\n",
       "  0.0   0.0   0.0   0.0   0.0   0.0     -0.5   1.0   0.0   0.0   0.0   0.0\n",
       "  0.0   0.0   0.0   0.0   0.0   0.0  …   1.0  -0.5   1.0   0.0   0.0   0.0\n",
       "  0.0   0.0   0.0   0.0   0.0   0.0      0.0   1.0  -0.5   1.0   0.0   0.0\n",
       "  0.0   0.0   0.0   0.0   0.0   0.0      0.0   0.0   1.0  -0.5   1.0   0.0\n",
       "  0.0   0.0   0.0   0.0   0.0   0.0      0.0   0.0   0.0   1.0  -0.5   1.0\n",
       "  0.0   0.0   0.0   0.0   0.0   0.0      0.0   0.0   0.0   0.0   1.0  -0.5"
      ]
     },
     "execution_count": 75,
     "metadata": {},
     "output_type": "execute_result"
    }
   ],
   "source": [
    "H = diagm(0 => μ, 1 => t, -1 => t)"
   ]
  },
  {
   "cell_type": "code",
   "execution_count": 76,
   "metadata": {},
   "outputs": [
    {
     "data": {
      "text/plain": [
       "transform (generic function with 1 method)"
      ]
     },
     "execution_count": 76,
     "metadata": {},
     "output_type": "execute_result"
    }
   ],
   "source": [
    "function transform(H)\n",
    "    # Some transformation of the Hamiltonian...\n",
    "    return H*H\n",
    "end"
   ]
  },
  {
   "cell_type": "code",
   "execution_count": 77,
   "metadata": {},
   "outputs": [
    {
     "name": "stdout",
     "output_type": "stream",
     "text": [
      "  33.082 μs (2 allocations: 78.20 KiB)\n"
     ]
    }
   ],
   "source": [
    "@btime transform(H);"
   ]
  },
  {
   "cell_type": "code",
   "execution_count": 78,
   "metadata": {},
   "outputs": [
    {
     "data": {
      "text/plain": [
       "Array{Float64,2}"
      ]
     },
     "execution_count": 78,
     "metadata": {},
     "output_type": "execute_result"
    }
   ],
   "source": [
    "typeof(H)"
   ]
  },
  {
   "cell_type": "markdown",
   "metadata": {},
   "source": [
    "The code is generic, so we can use the same piece of code for very different array types."
   ]
  },
  {
   "cell_type": "code",
   "execution_count": 79,
   "metadata": {},
   "outputs": [
    {
     "data": {
      "text/plain": [
       "100×100 SparseMatrixCSC{Float64,Int64} with 298 stored entries:\n",
       "  [1  ,   1]  =  -0.5\n",
       "  [2  ,   1]  =  1.0\n",
       "  [1  ,   2]  =  1.0\n",
       "  [2  ,   2]  =  -0.5\n",
       "  [3  ,   2]  =  1.0\n",
       "  [2  ,   3]  =  1.0\n",
       "  [3  ,   3]  =  -0.5\n",
       "  [4  ,   3]  =  1.0\n",
       "  [3  ,   4]  =  1.0\n",
       "  [4  ,   4]  =  -0.5\n",
       "  [5  ,   4]  =  1.0\n",
       "  [4  ,   5]  =  1.0\n",
       "  ⋮\n",
       "  [97 ,  96]  =  1.0\n",
       "  [96 ,  97]  =  1.0\n",
       "  [97 ,  97]  =  -0.5\n",
       "  [98 ,  97]  =  1.0\n",
       "  [97 ,  98]  =  1.0\n",
       "  [98 ,  98]  =  -0.5\n",
       "  [99 ,  98]  =  1.0\n",
       "  [98 ,  99]  =  1.0\n",
       "  [99 ,  99]  =  -0.5\n",
       "  [100,  99]  =  1.0\n",
       "  [99 , 100]  =  1.0\n",
       "  [100, 100]  =  -0.5"
      ]
     },
     "execution_count": 79,
     "metadata": {},
     "output_type": "execute_result"
    }
   ],
   "source": [
    "Hsparse = sparse(H)"
   ]
  },
  {
   "cell_type": "code",
   "execution_count": 80,
   "metadata": {},
   "outputs": [
    {
     "name": "stdout",
     "output_type": "stream",
     "text": [
      "  19.169 μs (309 allocations: 32.11 KiB)\n"
     ]
    }
   ],
   "source": [
    "@btime transform(Hsparse);"
   ]
  },
  {
   "cell_type": "markdown",
   "metadata": {},
   "source": [
    "Let's exploit the banded structure of the Hamiltonian"
   ]
  },
  {
   "cell_type": "code",
   "execution_count": 158,
   "metadata": {},
   "outputs": [
    {
     "data": {
      "text/plain": [
       "100×100 BandedMatrix{Float64,Array{Float64,2}}:\n",
       " -0.5   1.0    ⋅     ⋅     ⋅     ⋅   …    ⋅     ⋅     ⋅     ⋅     ⋅     ⋅ \n",
       "  1.0  -0.5   1.0    ⋅     ⋅     ⋅        ⋅     ⋅     ⋅     ⋅     ⋅     ⋅ \n",
       "   ⋅    1.0  -0.5   1.0    ⋅     ⋅        ⋅     ⋅     ⋅     ⋅     ⋅     ⋅ \n",
       "   ⋅     ⋅    1.0  -0.5   1.0    ⋅        ⋅     ⋅     ⋅     ⋅     ⋅     ⋅ \n",
       "   ⋅     ⋅     ⋅    1.0  -0.5   1.0       ⋅     ⋅     ⋅     ⋅     ⋅     ⋅ \n",
       "   ⋅     ⋅     ⋅     ⋅    1.0  -0.5  …    ⋅     ⋅     ⋅     ⋅     ⋅     ⋅ \n",
       "   ⋅     ⋅     ⋅     ⋅     ⋅    1.0       ⋅     ⋅     ⋅     ⋅     ⋅     ⋅ \n",
       "   ⋅     ⋅     ⋅     ⋅     ⋅     ⋅        ⋅     ⋅     ⋅     ⋅     ⋅     ⋅ \n",
       "   ⋅     ⋅     ⋅     ⋅     ⋅     ⋅        ⋅     ⋅     ⋅     ⋅     ⋅     ⋅ \n",
       "   ⋅     ⋅     ⋅     ⋅     ⋅     ⋅        ⋅     ⋅     ⋅     ⋅     ⋅     ⋅ \n",
       "   ⋅     ⋅     ⋅     ⋅     ⋅     ⋅   …    ⋅     ⋅     ⋅     ⋅     ⋅     ⋅ \n",
       "   ⋅     ⋅     ⋅     ⋅     ⋅     ⋅        ⋅     ⋅     ⋅     ⋅     ⋅     ⋅ \n",
       "   ⋅     ⋅     ⋅     ⋅     ⋅     ⋅        ⋅     ⋅     ⋅     ⋅     ⋅     ⋅ \n",
       "  ⋮                             ⋮    ⋱         ⋮                          \n",
       "   ⋅     ⋅     ⋅     ⋅     ⋅     ⋅        ⋅     ⋅     ⋅     ⋅     ⋅     ⋅ \n",
       "   ⋅     ⋅     ⋅     ⋅     ⋅     ⋅        ⋅     ⋅     ⋅     ⋅     ⋅     ⋅ \n",
       "   ⋅     ⋅     ⋅     ⋅     ⋅     ⋅   …    ⋅     ⋅     ⋅     ⋅     ⋅     ⋅ \n",
       "   ⋅     ⋅     ⋅     ⋅     ⋅     ⋅        ⋅     ⋅     ⋅     ⋅     ⋅     ⋅ \n",
       "   ⋅     ⋅     ⋅     ⋅     ⋅     ⋅        ⋅     ⋅     ⋅     ⋅     ⋅     ⋅ \n",
       "   ⋅     ⋅     ⋅     ⋅     ⋅     ⋅       1.0    ⋅     ⋅     ⋅     ⋅     ⋅ \n",
       "   ⋅     ⋅     ⋅     ⋅     ⋅     ⋅      -0.5   1.0    ⋅     ⋅     ⋅     ⋅ \n",
       "   ⋅     ⋅     ⋅     ⋅     ⋅     ⋅   …   1.0  -0.5   1.0    ⋅     ⋅     ⋅ \n",
       "   ⋅     ⋅     ⋅     ⋅     ⋅     ⋅        ⋅    1.0  -0.5   1.0    ⋅     ⋅ \n",
       "   ⋅     ⋅     ⋅     ⋅     ⋅     ⋅        ⋅     ⋅    1.0  -0.5   1.0    ⋅ \n",
       "   ⋅     ⋅     ⋅     ⋅     ⋅     ⋅        ⋅     ⋅     ⋅    1.0  -0.5   1.0\n",
       "   ⋅     ⋅     ⋅     ⋅     ⋅     ⋅        ⋅     ⋅     ⋅     ⋅    1.0  -0.5"
      ]
     },
     "execution_count": 158,
     "metadata": {},
     "output_type": "execute_result"
    }
   ],
   "source": [
    "using BandedMatrices\n",
    "Hbanded = BandedMatrix(0 => μ, 1 => t, -1 => t)"
   ]
  },
  {
   "cell_type": "code",
   "execution_count": 82,
   "metadata": {},
   "outputs": [
    {
     "name": "stdout",
     "output_type": "stream",
     "text": [
      "  4.593 μs (2 allocations: 4.11 KiB)\n"
     ]
    }
   ],
   "source": [
    "@btime transform(Hbanded);"
   ]
  },
  {
   "cell_type": "code",
   "execution_count": 83,
   "metadata": {},
   "outputs": [
    {
     "data": {
      "text/plain": [
       "\"asdasd\""
      ]
     },
     "execution_count": 83,
     "metadata": {},
     "output_type": "execute_result"
    }
   ],
   "source": [
    "transform(\"asd\") # Hmmm, maybe this shouldn't work :)"
   ]
  },
  {
   "cell_type": "code",
   "execution_count": 25,
   "metadata": {},
   "outputs": [
    {
     "data": {
      "text/plain": [
       "transform (generic function with 2 methods)"
      ]
     },
     "execution_count": 25,
     "metadata": {},
     "output_type": "execute_result"
    }
   ],
   "source": [
    "function transform(H::AbstractMatrix)\n",
    "    # Some transformation of the Hamiltonian...\n",
    "    return H*H\n",
    "end"
   ]
  },
  {
   "cell_type": "markdown",
   "metadata": {},
   "source": [
    "Put in on a GPU? Sure... (if you have one :D)"
   ]
  },
  {
   "cell_type": "code",
   "execution_count": 27,
   "metadata": {},
   "outputs": [],
   "source": [
    "using GPUArrays"
   ]
  },
  {
   "cell_type": "code",
   "execution_count": 28,
   "metadata": {},
   "outputs": [
    {
     "data": {
      "text/plain": [
       "100×100 JLArray{Float64,2}:\n",
       " -0.5   1.0   0.0   0.0   0.0   0.0  …   0.0   0.0   0.0   0.0   0.0   0.0\n",
       "  1.0  -0.5   1.0   0.0   0.0   0.0      0.0   0.0   0.0   0.0   0.0   0.0\n",
       "  0.0   1.0  -0.5   1.0   0.0   0.0      0.0   0.0   0.0   0.0   0.0   0.0\n",
       "  0.0   0.0   1.0  -0.5   1.0   0.0      0.0   0.0   0.0   0.0   0.0   0.0\n",
       "  0.0   0.0   0.0   1.0  -0.5   1.0      0.0   0.0   0.0   0.0   0.0   0.0\n",
       "  0.0   0.0   0.0   0.0   1.0  -0.5  …   0.0   0.0   0.0   0.0   0.0   0.0\n",
       "  0.0   0.0   0.0   0.0   0.0   1.0      0.0   0.0   0.0   0.0   0.0   0.0\n",
       "  0.0   0.0   0.0   0.0   0.0   0.0      0.0   0.0   0.0   0.0   0.0   0.0\n",
       "  0.0   0.0   0.0   0.0   0.0   0.0      0.0   0.0   0.0   0.0   0.0   0.0\n",
       "  0.0   0.0   0.0   0.0   0.0   0.0      0.0   0.0   0.0   0.0   0.0   0.0\n",
       "  0.0   0.0   0.0   0.0   0.0   0.0  …   0.0   0.0   0.0   0.0   0.0   0.0\n",
       "  0.0   0.0   0.0   0.0   0.0   0.0      0.0   0.0   0.0   0.0   0.0   0.0\n",
       "  0.0   0.0   0.0   0.0   0.0   0.0      0.0   0.0   0.0   0.0   0.0   0.0\n",
       "  ⋮                             ⋮    ⋱         ⋮                          \n",
       "  0.0   0.0   0.0   0.0   0.0   0.0      0.0   0.0   0.0   0.0   0.0   0.0\n",
       "  0.0   0.0   0.0   0.0   0.0   0.0      0.0   0.0   0.0   0.0   0.0   0.0\n",
       "  0.0   0.0   0.0   0.0   0.0   0.0  …   0.0   0.0   0.0   0.0   0.0   0.0\n",
       "  0.0   0.0   0.0   0.0   0.0   0.0      0.0   0.0   0.0   0.0   0.0   0.0\n",
       "  0.0   0.0   0.0   0.0   0.0   0.0      0.0   0.0   0.0   0.0   0.0   0.0\n",
       "  0.0   0.0   0.0   0.0   0.0   0.0      1.0   0.0   0.0   0.0   0.0   0.0\n",
       "  0.0   0.0   0.0   0.0   0.0   0.0     -0.5   1.0   0.0   0.0   0.0   0.0\n",
       "  0.0   0.0   0.0   0.0   0.0   0.0  …   1.0  -0.5   1.0   0.0   0.0   0.0\n",
       "  0.0   0.0   0.0   0.0   0.0   0.0      0.0   1.0  -0.5   1.0   0.0   0.0\n",
       "  0.0   0.0   0.0   0.0   0.0   0.0      0.0   0.0   1.0  -0.5   1.0   0.0\n",
       "  0.0   0.0   0.0   0.0   0.0   0.0      0.0   0.0   0.0   1.0  -0.5   1.0\n",
       "  0.0   0.0   0.0   0.0   0.0   0.0      0.0   0.0   0.0   0.0   1.0  -0.5"
      ]
     },
     "execution_count": 28,
     "metadata": {},
     "output_type": "execute_result"
    }
   ],
   "source": [
    "# Hgpu = CuArray(H) # CUDA, CuArrays.jl\n",
    "# Hgpu = CLArray(H) # Open-CL, CLArrays.jl\n",
    "Hgpu = JLArray(H) # I don't have a GPU so I'll take a fake GPU Array on the CPU :)"
   ]
  },
  {
   "cell_type": "code",
   "execution_count": 29,
   "metadata": {},
   "outputs": [
    {
     "name": "stdout",
     "output_type": "stream",
     "text": [
      "  32.464 μs (3 allocations: 78.23 KiB)\n"
     ]
    }
   ],
   "source": [
    "@btime transform(Hgpu); # of course it's no faster without a real GPU :)"
   ]
  },
  {
   "cell_type": "markdown",
   "metadata": {},
   "source": [
    "Sometimes Julia is internally choosing the right type for you:"
   ]
  },
  {
   "cell_type": "code",
   "execution_count": 30,
   "metadata": {},
   "outputs": [
    {
     "data": {
      "text/html": [
       "inv<i>{T}</i>(A::<b>Union{DenseArray{T,2}, ReinterpretArray{T,2,S,A} where S where A<:Union{SubArray{T,N,A,I,true} where I<:Tuple{AbstractUnitRange,Vararg{Any,N} where N} where A<:DenseArray where N where T, DenseArray}, ReshapedArray{T,2,A,MI} where MI<:Tuple{Vararg{SignedMultiplicativeInverse{Int64},N} where N} where A<:Union{ReinterpretArray{T,N,S,A} where S where A<:Union{SubArray{T,N,A,I,true} where I<:Tuple{AbstractUnitRange,Vararg{Any,N} where N} where A<:DenseArray where N where T, DenseArray} where N where T, SubArray{T,N,A,I,true} where I<:Tuple{AbstractUnitRange,Vararg{Any,N} where N} where A<:DenseArray where N where T, DenseArray}, SubArray{T,2,A,I,L} where L where I<:Tuple{Vararg{Union{Int64, AbstractRange{Int64}, AbstractCartesianIndex},N} where N} where A<:Union{ReinterpretArray{T,N,S,A} where S where A<:Union{SubArray{T,N,A,I,true} where I<:Tuple{AbstractUnitRange,Vararg{Any,N} where N} where A<:DenseArray where N where T, DenseArray} where N where T, ReshapedArray{T,N,A,MI} where MI<:Tuple{Vararg{SignedMultiplicativeInverse{Int64},N} where N} where A<:Union{ReinterpretArray{T,N,S,A} where S where A<:Union{SubArray{T,N,A,I,true} where I<:Tuple{AbstractUnitRange,Vararg{Any,N} where N} where A<:DenseArray where N where T, DenseArray} where N where T, SubArray{T,N,A,I,true} where I<:Tuple{AbstractUnitRange,Vararg{Any,N} where N} where A<:DenseArray where N where T, DenseArray} where N where T, DenseArray}}</b>) in LinearAlgebra at <a href=\"file://C:/cygwin/home/Administrator/buildbot/worker/package_win64/build/usr/share/julia/stdlib/v1.0/LinearAlgebra/src/dense.jl\" target=\"_blank\">C:\\cygwin\\home\\Administrator\\buildbot\\worker\\package_win64\\build\\usr\\share\\julia\\stdlib\\v1.0\\LinearAlgebra\\src\\dense.jl:706</a>"
      ],
      "text/plain": [
       "inv(A::Union{DenseArray{T,2}, ReinterpretArray{T,2,S,A} where S where A<:Union{SubArray{T,N,A,I,true} where I<:Tuple{AbstractUnitRange,Vararg{Any,N} where N} where A<:DenseArray where N where T, DenseArray}, ReshapedArray{T,2,A,MI} where MI<:Tuple{Vararg{SignedMultiplicativeInverse{Int64},N} where N} where A<:Union{ReinterpretArray{T,N,S,A} where S where A<:Union{SubArray{T,N,A,I,true} where I<:Tuple{AbstractUnitRange,Vararg{Any,N} where N} where A<:DenseArray where N where T, DenseArray} where N where T, SubArray{T,N,A,I,true} where I<:Tuple{AbstractUnitRange,Vararg{Any,N} where N} where A<:DenseArray where N where T, DenseArray}, SubArray{T,2,A,I,L} where L where I<:Tuple{Vararg{Union{Int64, AbstractRange{Int64}, AbstractCartesianIndex},N} where N} where A<:Union{ReinterpretArray{T,N,S,A} where S where A<:Union{SubArray{T,N,A,I,true} where I<:Tuple{AbstractUnitRange,Vararg{Any,N} where N} where A<:DenseArray where N where T, DenseArray} where N where T, ReshapedArray{T,N,A,MI} where MI<:Tuple{Vararg{SignedMultiplicativeInverse{Int64},N} where N} where A<:Union{ReinterpretArray{T,N,S,A} where S where A<:Union{SubArray{T,N,A,I,true} where I<:Tuple{AbstractUnitRange,Vararg{Any,N} where N} where A<:DenseArray where N where T, DenseArray} where N where T, SubArray{T,N,A,I,true} where I<:Tuple{AbstractUnitRange,Vararg{Any,N} where N} where A<:DenseArray where N where T, DenseArray} where N where T, DenseArray}}) where T in LinearAlgebra at C:\\cygwin\\home\\Administrator\\buildbot\\worker\\package_win64\\build\\usr\\share\\julia\\stdlib\\v1.0\\LinearAlgebra\\src\\dense.jl:706"
      ]
     },
     "execution_count": 30,
     "metadata": {},
     "output_type": "execute_result"
    }
   ],
   "source": [
    "@which inv(rand(2,2))"
   ]
  },
  {
   "cell_type": "code",
   "execution_count": null,
   "metadata": {},
   "outputs": [],
   "source": [
    "# This is what you find\n",
    "function inv(A::StridedMatrix{T}) where T\n",
    "    checksquare(A)\n",
    "    S = typeof((one(T)*zero(T) + one(T)*zero(T))/one(T))\n",
    "    AA = convert(AbstractArray{S}, A)\n",
    "    if istriu(AA)\n",
    "        Ai = triu!(parent(inv(UpperTriangular(AA))))\n",
    "    elseif istril(AA)\n",
    "        Ai = tril!(parent(inv(LowerTriangular(AA))))\n",
    "    else\n",
    "        Ai = inv!(lu(AA))\n",
    "        Ai = convert(typeof(parent(Ai)), Ai)\n",
    "    end\n",
    "    return Ai\n",
    "end"
   ]
  },
  {
   "cell_type": "markdown",
   "metadata": {},
   "source": [
    "# Solve linear system via QR"
   ]
  },
  {
   "cell_type": "code",
   "execution_count": 19,
   "metadata": {},
   "outputs": [
    {
     "data": {
      "text/plain": [
       "100×100 Array{Float64,2}:\n",
       " 0.0401436  0.104985   0.294819   …  0.0227205  0.864234  0.96692   \n",
       " 0.764288   0.971228   0.505874      0.28095    0.916258  0.18852   \n",
       " 0.70543    0.417744   0.692956      0.933311   0.311001  0.804026  \n",
       " 0.329811   0.973486   0.143118      0.886966   0.626059  0.275685  \n",
       " 0.686068   0.910164   0.792477      0.729922   0.778698  0.929094  \n",
       " 0.682929   0.406345   0.419462   …  0.544496   0.727684  0.123264  \n",
       " 0.80851    0.0040428  0.710261      0.583113   0.993592  0.295004  \n",
       " 0.481344   0.441041   0.114373      0.895226   0.334666  0.530842  \n",
       " 0.399633   0.083931   0.550411      0.626126   0.671109  0.968984  \n",
       " 0.902343   0.508124   0.0994846     0.0853916  0.69569   0.676199  \n",
       " 0.714049   0.102005   0.505394   …  0.0290473  0.918136  0.228599  \n",
       " 0.31789    0.184623   0.263193      0.844261   0.748052  0.778681  \n",
       " 0.322192   0.448564   0.720705      0.0414393  0.412856  0.888708  \n",
       " ⋮                                ⋱                                 \n",
       " 0.955652   0.659908   0.0295417     0.319496   0.525237  0.733867  \n",
       " 0.0736628  0.183577   0.482769      0.44195    0.945022  0.0966272 \n",
       " 0.194065   0.579213   0.715307   …  0.307844   0.480804  0.0922326 \n",
       " 0.363663   0.0364105  0.206449      0.853211   0.382652  0.401195  \n",
       " 0.0129476  0.753737   0.208821      0.413871   0.308376  0.673613  \n",
       " 0.863424   0.220383   0.746841      0.884068   0.628756  0.390389  \n",
       " 0.934285   0.98774    0.726811      0.513145   0.80644   0.915053  \n",
       " 0.386417   0.33121    0.205      …  0.723118   0.698359  0.555218  \n",
       " 0.0161408  0.641485   0.610263      0.125395   0.884057  0.00877975\n",
       " 0.844607   0.826821   0.540938      0.711204   0.519718  0.0881597 \n",
       " 0.613383   0.52564    0.954561      0.968831   0.791002  0.833922  \n",
       " 0.906876   0.594526   0.809033      0.208116   0.578329  0.164674  "
      ]
     },
     "execution_count": 19,
     "metadata": {},
     "output_type": "execute_result"
    }
   ],
   "source": [
    "A = rand(100,100)"
   ]
  },
  {
   "cell_type": "code",
   "execution_count": 20,
   "metadata": {},
   "outputs": [
    {
     "data": {
      "text/plain": [
       "100-element Array{Float64,1}:\n",
       " 0.1841971594752152 \n",
       " 0.7588555112225015 \n",
       " 0.16793792844000177\n",
       " 0.9010735173866136 \n",
       " 0.539069494102639  \n",
       " 0.3946343848228475 \n",
       " 0.9200436543089825 \n",
       " 0.2681383257689185 \n",
       " 0.3025005021164213 \n",
       " 0.8520854341602029 \n",
       " 0.2628453014532266 \n",
       " 0.3228841504239137 \n",
       " 0.2250348002449325 \n",
       " ⋮                  \n",
       " 0.6375923304554434 \n",
       " 0.3391541618040377 \n",
       " 0.8395425814799033 \n",
       " 0.6603490705575132 \n",
       " 0.9151414327261498 \n",
       " 0.17579826744142446\n",
       " 0.738739212581009  \n",
       " 0.9819786987781691 \n",
       " 0.8740697654122553 \n",
       " 0.5647199400506231 \n",
       " 0.9744441868393521 \n",
       " 0.7869804592197356 "
      ]
     },
     "execution_count": 20,
     "metadata": {},
     "output_type": "execute_result"
    }
   ],
   "source": [
    "b = rand(100)"
   ]
  },
  {
   "cell_type": "markdown",
   "metadata": {},
   "source": [
    "Solve Ax = b"
   ]
  },
  {
   "cell_type": "code",
   "execution_count": 21,
   "metadata": {},
   "outputs": [
    {
     "data": {
      "text/plain": [
       "100-element Array{Float64,1}:\n",
       "  0.10058494642256964\n",
       "  1.1531563945175032 \n",
       " -0.7977319358356428 \n",
       " -0.5039332918222177 \n",
       " -0.34216387520272196\n",
       "  0.42696320208612676\n",
       "  0.5031388127742704 \n",
       " -0.6279773043200078 \n",
       " -0.6317797318855028 \n",
       " -0.3419640363510664 \n",
       " -0.2784502298721332 \n",
       " -0.04451932865645835\n",
       "  0.5818556731305737 \n",
       "  ⋮                  \n",
       "  0.17782458894697342\n",
       "  0.38767063462274737\n",
       " -0.6066478347635602 \n",
       "  0.1384713085299932 \n",
       " -0.6475997077417679 \n",
       " -0.6410325446790037 \n",
       " -0.4857333670135712 \n",
       " -1.3573002539361148 \n",
       " -0.5830217158549068 \n",
       "  0.315508367897289  \n",
       "  1.0903059957546373 \n",
       " -0.4053538896982645 "
      ]
     },
     "execution_count": 21,
     "metadata": {},
     "output_type": "execute_result"
    }
   ],
   "source": [
    "A\\b"
   ]
  },
  {
   "cell_type": "code",
   "execution_count": 24,
   "metadata": {},
   "outputs": [],
   "source": [
    "using LinearAlgebra"
   ]
  },
  {
   "cell_type": "code",
   "execution_count": 25,
   "metadata": {},
   "outputs": [
    {
     "data": {
      "text/plain": [
       "LinearAlgebra.QRCompactWY{Float64,Array{Float64,2}}\n",
       "Q factor:\n",
       "100×100 LinearAlgebra.QRCompactWYQ{Float64,Array{Float64,2}}:\n",
       " -0.00735103  -0.0195307   -0.0624177   …   0.062866     0.00874718\n",
       " -0.139955    -0.0890424    0.0848725      -0.0464533   -0.101414  \n",
       " -0.129177     0.0495567   -0.0765523       0.0723093    0.0650716 \n",
       " -0.0603945   -0.190996     0.162426       -0.00979632   0.0999957 \n",
       " -0.125632    -0.0904798   -0.0137641       0.203551     0.0432234 \n",
       " -0.125057     0.0474462   -0.00156741  …   0.165563    -0.0518546 \n",
       " -0.148053     0.187454    -0.152878        0.118474    -0.0410557 \n",
       " -0.088143    -0.009118     0.0800139       0.181476     0.0702027 \n",
       " -0.0731802    0.0701065   -0.117399        0.0831167    0.0546644 \n",
       " -0.165236     0.0706084    0.12309        -0.140084     0.0834489 \n",
       " -0.130756     0.138463    -0.0815162   …  -0.0421172    0.135272  \n",
       " -0.0582116    0.0233299   -0.0210877       0.0729487   -0.00796387\n",
       " -0.0589993   -0.0483072   -0.102567        0.0510688    0.141988  \n",
       "  ⋮                                     ⋱                          \n",
       " -0.174998     0.0412685    0.175021        0.165251     0.00932605\n",
       " -0.013489    -0.0333427   -0.0995239       0.0982774    0.0680767 \n",
       " -0.0355369   -0.114146    -0.0844279   …   0.159844    -0.0668849 \n",
       " -0.0665934    0.0747954   -0.0298092       0.0798669    0.00374161\n",
       " -0.00237094  -0.204419     0.082539        0.0503268   -0.12724   \n",
       " -0.158109     0.140722    -0.119296        0.158597    -0.162347  \n",
       " -0.171085    -0.0539388    0.0351149      -0.0217489    0.0911825 \n",
       " -0.0707602   -0.00103046   0.0274406   …   0.109668    -0.0139982 \n",
       " -0.00295568  -0.172781    -0.0536291       0.0342891   -0.0231496 \n",
       " -0.154663    -0.0305672    0.0526549      -0.0154866    0.0677266 \n",
       " -0.112322    -0.0016055   -0.137109        0.0115659    0.00828386\n",
       " -0.166066     0.0478866   -0.0641168      -0.071462     0.149063  \n",
       "R factor:\n",
       "100×100 Array{Float64,2}:\n",
       " -5.46094  -4.62783  -4.21307  -4.94293   …  -4.62274     -4.21444  \n",
       "  0.0      -3.63354  -2.37892  -1.40957      -1.35803     -1.43873  \n",
       "  0.0       0.0      -3.48278  -0.824444     -0.889257    -0.804808 \n",
       "  0.0       0.0       0.0      -3.21864      -0.354787    -0.449311 \n",
       "  0.0       0.0       0.0       0.0           0.69315      0.889627 \n",
       "  0.0       0.0       0.0       0.0       …  -0.513084    -0.261012 \n",
       "  0.0       0.0       0.0       0.0           0.17371      0.444166 \n",
       "  0.0       0.0       0.0       0.0           1.10064      0.709785 \n",
       "  0.0       0.0       0.0       0.0          -0.195113    -0.178787 \n",
       "  0.0       0.0       0.0       0.0           0.769142     0.0226896\n",
       "  0.0       0.0       0.0       0.0       …  -0.347327    -0.0851282\n",
       "  0.0       0.0       0.0       0.0          -0.122761    -0.582079 \n",
       "  0.0       0.0       0.0       0.0           0.297189     0.412492 \n",
       "  ⋮                                       ⋱                         \n",
       "  0.0       0.0       0.0       0.0           0.201058    -0.15007  \n",
       "  0.0       0.0       0.0       0.0          -0.235383     0.244431 \n",
       "  0.0       0.0       0.0       0.0       …   0.367893    -0.490695 \n",
       "  0.0       0.0       0.0       0.0           0.153967    -0.258745 \n",
       "  0.0       0.0       0.0       0.0          -0.363066    -0.21327  \n",
       "  0.0       0.0       0.0       0.0          -0.266758    -0.490718 \n",
       "  0.0       0.0       0.0       0.0           0.0851923    0.373986 \n",
       "  0.0       0.0       0.0       0.0       …  -0.0519762    0.049059 \n",
       "  0.0       0.0       0.0       0.0           0.00903374   0.277061 \n",
       "  0.0       0.0       0.0       0.0           0.024897     0.0209443\n",
       "  0.0       0.0       0.0       0.0           0.194085     0.443529 \n",
       "  0.0       0.0       0.0       0.0           0.0          0.488645 "
      ]
     },
     "execution_count": 25,
     "metadata": {},
     "output_type": "execute_result"
    }
   ],
   "source": [
    "Aqr = qr(A)"
   ]
  },
  {
   "cell_type": "code",
   "execution_count": 26,
   "metadata": {},
   "outputs": [
    {
     "data": {
      "text/plain": [
       "100-element Array{Float64,1}:\n",
       "  0.10058494642256376\n",
       "  1.153156394517506  \n",
       " -0.7977319358356508 \n",
       " -0.5039332918222181 \n",
       " -0.3421638752027231 \n",
       "  0.42696320208611854\n",
       "  0.5031388127742779 \n",
       " -0.6279773043200008 \n",
       " -0.6317797318855157 \n",
       " -0.3419640363510713 \n",
       " -0.2784502298721311 \n",
       " -0.04451932865646526\n",
       "  0.5818556731305663 \n",
       "  ⋮                  \n",
       "  0.17782458894698103\n",
       "  0.3876706346227465 \n",
       " -0.6066478347635613 \n",
       "  0.13847130852999848\n",
       " -0.647599707741783  \n",
       " -0.6410325446790004 \n",
       " -0.48573336701356806\n",
       " -1.3573002539361225 \n",
       " -0.5830217158549126 \n",
       "  0.3155083678972883 \n",
       "  1.0903059957546295 \n",
       " -0.405353889698265  "
      ]
     },
     "execution_count": 26,
     "metadata": {},
     "output_type": "execute_result"
    }
   ],
   "source": [
    "Aqr\\b"
   ]
  },
  {
   "cell_type": "code",
   "execution_count": 33,
   "metadata": {},
   "outputs": [
    {
     "name": "stdout",
     "output_type": "stream",
     "text": [
      "  299.903 μs (5 allocations: 79.98 KiB)\n",
      "  26.280 μs (6 allocations: 80.03 KiB)\n",
      "  907.438 μs (7 allocations: 134.64 KiB)\n"
     ]
    }
   ],
   "source": [
    "using BenchmarkTools\n",
    "\n",
    "@btime $A\\$b\n",
    "@btime $Aqr\\$b;\n",
    "\n",
    "# @btime qr($A);\n",
    "\n",
    "x = A\\b\n",
    "xqr = Aqr\\b;"
   ]
  },
  {
   "cell_type": "code",
   "execution_count": 35,
   "metadata": {},
   "outputs": [
    {
     "data": {
      "text/plain": [
       "1.532107773982716e-14"
      ]
     },
     "execution_count": 35,
     "metadata": {},
     "output_type": "execute_result"
    }
   ],
   "source": [
    "maximum(abs.(x - xqr))"
   ]
  },
  {
   "cell_type": "markdown",
   "metadata": {},
   "source": [
    "But how to choose the factorization? ([LinearAlgebra section of documentation](https://docs.julialang.org/en/v1.0.0/stdlib/LinearAlgebra/) for more details)."
   ]
  },
  {
   "cell_type": "code",
   "execution_count": 43,
   "metadata": {},
   "outputs": [
    {
     "data": {
      "text/markdown": [
       "```\n",
       "factorize(A)\n",
       "```\n",
       "\n",
       "Compute a convenient factorization of `A`, based upon the type of the input matrix. `factorize` checks `A` to see if it is symmetric/triangular/etc. if `A` is passed as a generic matrix. `factorize` checks every element of `A` to verify/rule out each property. It will short-circuit as soon as it can rule out symmetry/triangular structure. The return value can be reused for efficient solving of multiple systems. For example: `A=factorize(A); x=A\\b; y=A\\C`.\n",
       "\n",
       "| Properties of `A`          | type of factorization                      |\n",
       "|:-------------------------- |:------------------------------------------ |\n",
       "| Positive-definite          | Cholesky (see [`cholesky`](@ref))          |\n",
       "| Dense Symmetric/Hermitian  | Bunch-Kaufman (see [`bunchkaufman`](@ref)) |\n",
       "| Sparse Symmetric/Hermitian | LDLt (see [`ldlt`](@ref))                  |\n",
       "| Triangular                 | Triangular                                 |\n",
       "| Diagonal                   | Diagonal                                   |\n",
       "| Bidiagonal                 | Bidiagonal                                 |\n",
       "| Tridiagonal                | LU (see [`lu`](@ref))                      |\n",
       "| Symmetric real tridiagonal | LDLt (see [`ldlt`](@ref))                  |\n",
       "| General square             | LU (see [`lu`](@ref))                      |\n",
       "| General non-square         | QR (see [`qr`](@ref))                      |\n",
       "\n",
       "If `factorize` is called on a Hermitian positive-definite matrix, for instance, then `factorize` will return a Cholesky factorization.\n",
       "\n",
       "# Examples\n",
       "\n",
       "```jldoctest\n",
       "julia> A = Array(Bidiagonal(fill(1.0, (5, 5)), :U))\n",
       "5×5 Array{Float64,2}:\n",
       " 1.0  1.0  0.0  0.0  0.0\n",
       " 0.0  1.0  1.0  0.0  0.0\n",
       " 0.0  0.0  1.0  1.0  0.0\n",
       " 0.0  0.0  0.0  1.0  1.0\n",
       " 0.0  0.0  0.0  0.0  1.0\n",
       "\n",
       "julia> factorize(A) # factorize will check to see that A is already factorized\n",
       "5×5 Bidiagonal{Float64,Array{Float64,1}}:\n",
       " 1.0  1.0   ⋅    ⋅    ⋅\n",
       "  ⋅   1.0  1.0   ⋅    ⋅\n",
       "  ⋅    ⋅   1.0  1.0   ⋅\n",
       "  ⋅    ⋅    ⋅   1.0  1.0\n",
       "  ⋅    ⋅    ⋅    ⋅   1.0\n",
       "```\n",
       "\n",
       "This returns a `5×5 Bidiagonal{Float64}`, which can now be passed to other linear algebra functions (e.g. eigensolvers) which will use specialized methods for `Bidiagonal` types.\n"
      ],
      "text/plain": [
       "\u001b[36m  factorize(A)\u001b[39m\n",
       "\n",
       "  Compute a convenient factorization of \u001b[36mA\u001b[39m, based upon the type of the input\n",
       "  matrix. \u001b[36mfactorize\u001b[39m checks \u001b[36mA\u001b[39m to see if it is symmetric/triangular/etc. if \u001b[36mA\u001b[39m is\n",
       "  passed as a generic matrix. \u001b[36mfactorize\u001b[39m checks every element of \u001b[36mA\u001b[39m to\n",
       "  verify/rule out each property. It will short-circuit as soon as it can rule\n",
       "  out symmetry/triangular structure. The return value can be reused for\n",
       "  efficient solving of multiple systems. For example: \u001b[36mA=factorize(A); x=A\\b;\n",
       "  y=A\\C\u001b[39m.\n",
       "\n",
       "Properties of \u001b[36mA\u001b[39m            type of factorization           \n",
       "–––––––––––––––––––––––––– ––––––––––––––––––––––––––––––––\n",
       "Positive-definite          Cholesky (see \u001b[36mcholesky\u001b[39m)         \n",
       "Dense Symmetric/Hermitian  Bunch-Kaufman (see \u001b[36mbunchkaufman\u001b[39m)\n",
       "Sparse Symmetric/Hermitian LDLt (see \u001b[36mldlt\u001b[39m)                 \n",
       "Triangular                 Triangular                      \n",
       "Diagonal                   Diagonal                        \n",
       "Bidiagonal                 Bidiagonal                      \n",
       "Tridiagonal                LU (see \u001b[36mlu\u001b[39m)                     \n",
       "Symmetric real tridiagonal LDLt (see \u001b[36mldlt\u001b[39m)                 \n",
       "General square             LU (see \u001b[36mlu\u001b[39m)                     \n",
       "General non-square         QR (see \u001b[36mqr\u001b[39m)                     \n",
       "\n",
       "  If \u001b[36mfactorize\u001b[39m is called on a Hermitian positive-definite matrix, for\n",
       "  instance, then \u001b[36mfactorize\u001b[39m will return a Cholesky factorization.\n",
       "\n",
       "\u001b[1m  Examples\u001b[22m\n",
       "\u001b[1m  ≡≡≡≡≡≡≡≡≡≡\u001b[22m\n",
       "\n",
       "\u001b[36m  julia> A = Array(Bidiagonal(fill(1.0, (5, 5)), :U))\u001b[39m\n",
       "\u001b[36m  5×5 Array{Float64,2}:\u001b[39m\n",
       "\u001b[36m   1.0  1.0  0.0  0.0  0.0\u001b[39m\n",
       "\u001b[36m   0.0  1.0  1.0  0.0  0.0\u001b[39m\n",
       "\u001b[36m   0.0  0.0  1.0  1.0  0.0\u001b[39m\n",
       "\u001b[36m   0.0  0.0  0.0  1.0  1.0\u001b[39m\n",
       "\u001b[36m   0.0  0.0  0.0  0.0  1.0\u001b[39m\n",
       "\u001b[36m  \u001b[39m\n",
       "\u001b[36m  julia> factorize(A) # factorize will check to see that A is already factorized\u001b[39m\n",
       "\u001b[36m  5×5 Bidiagonal{Float64,Array{Float64,1}}:\u001b[39m\n",
       "\u001b[36m   1.0  1.0   ⋅    ⋅    ⋅\u001b[39m\n",
       "\u001b[36m    ⋅   1.0  1.0   ⋅    ⋅\u001b[39m\n",
       "\u001b[36m    ⋅    ⋅   1.0  1.0   ⋅\u001b[39m\n",
       "\u001b[36m    ⋅    ⋅    ⋅   1.0  1.0\u001b[39m\n",
       "\u001b[36m    ⋅    ⋅    ⋅    ⋅   1.0\u001b[39m\n",
       "\n",
       "  This returns a \u001b[36m5×5 Bidiagonal{Float64}\u001b[39m, which can now be passed to other\n",
       "  linear algebra functions (e.g. eigensolvers) which will use specialized\n",
       "  methods for \u001b[36mBidiagonal\u001b[39m types."
      ]
     },
     "execution_count": 43,
     "metadata": {},
     "output_type": "execute_result"
    }
   ],
   "source": [
    "?LinearAlgebra.factorize"
   ]
  },
  {
   "cell_type": "code",
   "execution_count": 40,
   "metadata": {},
   "outputs": [
    {
     "data": {
      "text/plain": [
       "LU{Float64,Array{Float64,2}}"
      ]
     },
     "execution_count": 40,
     "metadata": {},
     "output_type": "execute_result"
    }
   ],
   "source": [
    "Afac = factorize(A);\n",
    "typeof(Afac)"
   ]
  },
  {
   "cell_type": "code",
   "execution_count": null,
   "metadata": {},
   "outputs": [],
   "source": [
    "@btime factorize($A);"
   ]
  },
  {
   "cell_type": "code",
   "execution_count": 42,
   "metadata": {},
   "outputs": [
    {
     "name": "stdout",
     "output_type": "stream",
     "text": [
      "  3.208 μs (1 allocation: 896 bytes)\n"
     ]
    }
   ],
   "source": [
    "@btime $Afac\\$b;"
   ]
  },
  {
   "cell_type": "code",
   "execution_count": 46,
   "metadata": {},
   "outputs": [
    {
     "data": {
      "text/plain": [
       "0.0"
      ]
     },
     "execution_count": 46,
     "metadata": {},
     "output_type": "execute_result"
    }
   ],
   "source": [
    "xfac = Afac\\b;\n",
    "maximum(abs.(xfac-x)) # this is what Julia is doing internally"
   ]
  },
  {
   "cell_type": "code",
   "execution_count": 55,
   "metadata": {},
   "outputs": [
    {
     "data": {
      "text/plain": [
       "LDLt{Float64,SymTridiagonal{Float64,Array{Float64,1}}}([-0.5 -2.0 … 0.0 0.0; -2.0 1.5 … 0.0 0.0; … ; 0.0 0.0 … -0.135807 -7.3634; 0.0 0.0 … -7.3634 6.8634])"
      ]
     },
     "execution_count": 55,
     "metadata": {},
     "output_type": "execute_result"
    }
   ],
   "source": [
    "factorize(H)"
   ]
  },
  {
   "cell_type": "code",
   "execution_count": 61,
   "metadata": {},
   "outputs": [
    {
     "data": {
      "text/plain": [
       "Eigen{Float64,Float64,Array{Float64,2},Array{Float64,1}}\n",
       "eigenvalues:\n",
       "100-element Array{Float64,1}:\n",
       " -2.4990325645839753\n",
       " -2.4961311942671887\n",
       " -2.4912986959380365\n",
       " -2.484539744726553 \n",
       " -2.475860879481513 \n",
       " -2.4652704964445267\n",
       " -2.4527788411272136\n",
       " -2.438397998399332 \n",
       " -2.422141880797449 \n",
       " -2.4040262150654583\n",
       " -2.384068526939977 \n",
       " -2.3622881241953175\n",
       " -2.3387060779644715\n",
       "  ⋮                 \n",
       "  1.362288124195319 \n",
       "  1.3840685269399784\n",
       "  1.4040262150654599\n",
       "  1.422141880797449 \n",
       "  1.4383979983993322\n",
       "  1.452778841127214 \n",
       "  1.4652704964445273\n",
       "  1.4758608794815133\n",
       "  1.484539744726553 \n",
       "  1.4912986959380372\n",
       "  1.4961311942671887\n",
       "  1.4990325645839762\n",
       "eigenvectors:\n",
       "100×100 Array{Float64,2}:\n",
       "  0.00437636   0.00874848  -0.0131121  …  0.0131121   0.00874848  0.00437636\n",
       " -0.00874848  -0.0174631    0.0261102     0.0261102   0.0174631   0.00874848\n",
       "  0.0131121    0.0261102   -0.038881      0.038881    0.0261102   0.0131121 \n",
       " -0.0174631   -0.0346562    0.0513136     0.0513136   0.0346562   0.0174631 \n",
       "  0.0217972    0.0430682   -0.0632996     0.0632996   0.0430682   0.0217972 \n",
       " -0.0261102   -0.0513136    0.0747349  …  0.0747349   0.0513136   0.0261102 \n",
       "  0.0303979    0.0593604   -0.0855198     0.0855198   0.0593604   0.0303979 \n",
       " -0.0346562   -0.0671776    0.0955607     0.0955607   0.0671776   0.0346562 \n",
       "  0.038881     0.0747349   -0.10477       0.10477     0.0747349   0.038881  \n",
       " -0.0430682   -0.082003     0.113068      0.113068    0.082003    0.0430682 \n",
       "  0.0472137    0.0889539   -0.120382   …  0.120382    0.0889539   0.0472137 \n",
       " -0.0513136   -0.0955607    0.126648      0.126648    0.0955607   0.0513136 \n",
       "  0.0553638    0.101798    -0.131812      0.131812    0.101798    0.0553638 \n",
       "  ⋮                                    ⋱                                    \n",
       "  0.0513136   -0.0955607   -0.126648      0.126648   -0.0955607   0.0513136 \n",
       " -0.0472137    0.0889539    0.120382      0.120382   -0.0889539   0.0472137 \n",
       "  0.0430682   -0.082003    -0.113068   …  0.113068   -0.082003    0.0430682 \n",
       " -0.038881     0.0747349    0.10477       0.10477    -0.0747349   0.038881  \n",
       "  0.0346562   -0.0671776   -0.0955607     0.0955607  -0.0671776   0.0346562 \n",
       " -0.0303979    0.0593604    0.0855198     0.0855198  -0.0593604   0.0303979 \n",
       "  0.0261102   -0.0513136   -0.0747349     0.0747349  -0.0513136   0.0261102 \n",
       " -0.0217972    0.0430682    0.0632996  …  0.0632996  -0.0430682   0.0217972 \n",
       "  0.0174631   -0.0346562   -0.0513136     0.0513136  -0.0346562   0.0174631 \n",
       " -0.0131121    0.0261102    0.038881      0.038881   -0.0261102   0.0131121 \n",
       "  0.00874848  -0.0174631   -0.0261102     0.0261102  -0.0174631   0.00874848\n",
       " -0.00437636   0.00874848   0.0131121     0.0131121  -0.00874848  0.00437636"
      ]
     },
     "execution_count": 61,
     "metadata": {},
     "output_type": "execute_result"
    }
   ],
   "source": [
    "eigen(H)"
   ]
  },
  {
   "cell_type": "markdown",
   "metadata": {},
   "source": [
    "# Arpack.jl"
   ]
  },
  {
   "cell_type": "markdown",
   "metadata": {},
   "source": [
    "Wrapper to Fortran library ARPACK which implements iterative eigenvalue and singular value solvers.\n",
    "\n",
    "This is the same library that Scipy uses."
   ]
  },
  {
   "cell_type": "code",
   "execution_count": 63,
   "metadata": {},
   "outputs": [],
   "source": [
    "using Arpack"
   ]
  },
  {
   "cell_type": "code",
   "execution_count": 64,
   "metadata": {},
   "outputs": [
    {
     "name": "stdout",
     "output_type": "stream",
     "text": [
      "search: \u001b[0m\u001b[1me\u001b[22m\u001b[0m\u001b[1mi\u001b[22m\u001b[0m\u001b[1mg\u001b[22m\u001b[0m\u001b[1ms\u001b[22m \u001b[0m\u001b[1me\u001b[22m\u001b[0m\u001b[1mi\u001b[22m\u001b[0m\u001b[1mg\u001b[22mvec\u001b[0m\u001b[1ms\u001b[22m \u001b[0m\u001b[1me\u001b[22m\u001b[0m\u001b[1mi\u001b[22m\u001b[0m\u001b[1mg\u001b[22mval\u001b[0m\u001b[1ms\u001b[22m \u001b[0m\u001b[1me\u001b[22m\u001b[0m\u001b[1mi\u001b[22m\u001b[0m\u001b[1mg\u001b[22mval\u001b[0m\u001b[1ms\u001b[22m! l\u001b[0m\u001b[1me\u001b[22mad\u001b[0m\u001b[1mi\u001b[22mn\u001b[0m\u001b[1mg\u001b[22m_one\u001b[0m\u001b[1ms\u001b[22m l\u001b[0m\u001b[1me\u001b[22mad\u001b[0m\u001b[1mi\u001b[22mn\u001b[0m\u001b[1mg\u001b[22m_zero\u001b[0m\u001b[1ms\u001b[22m \u001b[0m\u001b[1me\u001b[22m\u001b[0m\u001b[1mi\u001b[22m\u001b[0m\u001b[1mg\u001b[22men \u001b[0m\u001b[1me\u001b[22m\u001b[0m\u001b[1mi\u001b[22m\u001b[0m\u001b[1mg\u001b[22mmin\n",
      "\n"
     ]
    },
    {
     "data": {
      "text/markdown": [
       "```\n",
       "eigs(A; nev=6, ncv=max(20,2*nev+1), which=:LM, tol=0.0, maxiter=300, sigma=nothing, ritzvec=true, v0=zeros((0,))) -> (d,[v,],nconv,niter,nmult,resid)\n",
       "```\n",
       "\n",
       "Computes eigenvalues `d` of `A` using implicitly restarted Lanczos or Arnoldi iterations for real symmetric or general nonsymmetric matrices respectively. See [the manual](@ref lib-itereigen) for more information.\n",
       "\n",
       "`eigs` returns the `nev` requested eigenvalues in `d`, the corresponding Ritz vectors `v` (only if `ritzvec=true`), the number of converged eigenvalues `nconv`, the number of iterations `niter` and the number of matrix vector multiplications `nmult`, as well as the final residual vector `resid`.\n",
       "\n",
       "# Examples\n",
       "\n",
       "```jldoctest\n",
       "julia> using Arpack\n",
       "\n",
       "julia> A = Diagonal(1:4);\n",
       "\n",
       "julia> λ, ϕ = eigs(A, nev = 2);\n",
       "\n",
       "julia> λ\n",
       "2-element Array{Float64,1}:\n",
       " 4.0\n",
       " 3.0\n",
       "```\n",
       "\n",
       "---\n",
       "\n",
       "```\n",
       "eigs(A, B; nev=6, ncv=max(20,2*nev+1), which=:LM, tol=0.0, maxiter=300, sigma=nothing, ritzvec=true, v0=zeros((0,))) -> (d,[v,],nconv,niter,nmult,resid)\n",
       "```\n",
       "\n",
       "Computes generalized eigenvalues `d` of `A` and `B` using implicitly restarted Lanczos or Arnoldi iterations for real symmetric or general nonsymmetric matrices respectively. See [the manual](@ref lib-itereigen) for more information.\n"
      ],
      "text/plain": [
       "\u001b[36m  eigs(A; nev=6, ncv=max(20,2*nev+1), which=:LM, tol=0.0, maxiter=300, sigma=nothing, ritzvec=true, v0=zeros((0,))) -> (d,[v,],nconv,niter,nmult,resid)\u001b[39m\n",
       "\n",
       "  Computes eigenvalues \u001b[36md\u001b[39m of \u001b[36mA\u001b[39m using implicitly restarted Lanczos or Arnoldi\n",
       "  iterations for real symmetric or general nonsymmetric matrices respectively.\n",
       "  See the manual for more information.\n",
       "\n",
       "  \u001b[36meigs\u001b[39m returns the \u001b[36mnev\u001b[39m requested eigenvalues in \u001b[36md\u001b[39m, the corresponding Ritz\n",
       "  vectors \u001b[36mv\u001b[39m (only if \u001b[36mritzvec=true\u001b[39m), the number of converged eigenvalues \u001b[36mnconv\u001b[39m,\n",
       "  the number of iterations \u001b[36mniter\u001b[39m and the number of matrix vector\n",
       "  multiplications \u001b[36mnmult\u001b[39m, as well as the final residual vector \u001b[36mresid\u001b[39m.\n",
       "\n",
       "\u001b[1m  Examples\u001b[22m\n",
       "\u001b[1m  ≡≡≡≡≡≡≡≡≡≡\u001b[22m\n",
       "\n",
       "\u001b[36m  julia> using Arpack\u001b[39m\n",
       "\u001b[36m  \u001b[39m\n",
       "\u001b[36m  julia> A = Diagonal(1:4);\u001b[39m\n",
       "\u001b[36m  \u001b[39m\n",
       "\u001b[36m  julia> λ, ϕ = eigs(A, nev = 2);\u001b[39m\n",
       "\u001b[36m  \u001b[39m\n",
       "\u001b[36m  julia> λ\u001b[39m\n",
       "\u001b[36m  2-element Array{Float64,1}:\u001b[39m\n",
       "\u001b[36m   4.0\u001b[39m\n",
       "\u001b[36m   3.0\u001b[39m\n",
       "\n",
       "  ────────────────────────────────────────────────────────────────────────────\n",
       "\n",
       "\u001b[36m  eigs(A, B; nev=6, ncv=max(20,2*nev+1), which=:LM, tol=0.0, maxiter=300, sigma=nothing, ritzvec=true, v0=zeros((0,))) -> (d,[v,],nconv,niter,nmult,resid)\u001b[39m\n",
       "\n",
       "  Computes generalized eigenvalues \u001b[36md\u001b[39m of \u001b[36mA\u001b[39m and \u001b[36mB\u001b[39m using implicitly restarted\n",
       "  Lanczos or Arnoldi iterations for real symmetric or general nonsymmetric\n",
       "  matrices respectively. See the manual for more information."
      ]
     },
     "execution_count": 64,
     "metadata": {},
     "output_type": "execute_result"
    }
   ],
   "source": [
    "?eigs"
   ]
  },
  {
   "cell_type": "code",
   "execution_count": 66,
   "metadata": {},
   "outputs": [
    {
     "name": "stdout",
     "output_type": "stream",
     "text": [
      "  1.918 ms (15 allocations: 272.13 KiB)\n"
     ]
    }
   ],
   "source": [
    "@btime LinearAlgebra.eigen($H);"
   ]
  },
  {
   "cell_type": "code",
   "execution_count": 67,
   "metadata": {},
   "outputs": [
    {
     "ename": "ErrorException",
     "evalue": "eigen(A) not supported for sparse matrices. Use for example eigs(A) from the Arpack package instead.",
     "output_type": "error",
     "traceback": [
      "eigen(A) not supported for sparse matrices. Use for example eigs(A) from the Arpack package instead.",
      "",
      "Stacktrace:",
      " [1] error(::String) at .\\error.jl:33",
      " [2] eigen(::SparseMatrixCSC{Float64,Int64}) at C:\\cygwin\\home\\Administrator\\buildbot\\worker\\package_win64\\build\\usr\\share\\julia\\stdlib\\v1.0\\SparseArrays\\src\\linalg.jl:1113",
      " [3] ##core#561(::SparseMatrixCSC{Float64,Int64}) at C:\\Users\\carsten\\.julia\\packages\\BenchmarkTools\\dtwnm\\src\\execution.jl:293",
      " [4] ##sample#562(::BenchmarkTools.Parameters) at C:\\Users\\carsten\\.julia\\packages\\BenchmarkTools\\dtwnm\\src\\execution.jl:299",
      " [5] #_run#23(::Bool, ::String, ::Base.Iterators.Pairs{Symbol,Integer,NTuple{4,Symbol},NamedTuple{(:samples, :evals, :gctrial, :gcsample),Tuple{Int64,Int64,Bool,Bool}}}, ::Function, ::BenchmarkTools.Benchmark{Symbol(\"##benchmark#560\")}, ::BenchmarkTools.Parameters) at C:\\Users\\carsten\\.julia\\packages\\BenchmarkTools\\dtwnm\\src\\execution.jl:327",
      " [6] (::getfield(BenchmarkTools, Symbol(\"#kw##_run\")))(::NamedTuple{(:verbose, :samples, :evals, :gctrial, :gcsample),Tuple{Bool,Int64,Int64,Bool,Bool}}, ::typeof(BenchmarkTools._run), ::BenchmarkTools.Benchmark{Symbol(\"##benchmark#560\")}, ::BenchmarkTools.Parameters) at .\\none:0",
      " [7] (::getfield(Base, Symbol(\"#inner#2\")){Base.Iterators.Pairs{Symbol,Integer,NTuple{5,Symbol},NamedTuple{(:verbose, :samples, :evals, :gctrial, :gcsample),Tuple{Bool,Int64,Int64,Bool,Bool}}},typeof(BenchmarkTools._run),Tuple{BenchmarkTools.Benchmark{Symbol(\"##benchmark#560\")},BenchmarkTools.Parameters}})() at .\\essentials.jl:689",
      " [8] #invokelatest#1 at .\\essentials.jl:690 [inlined]",
      " [9] #invokelatest at .\\none:0 [inlined]",
      " [10] #run_result#16 at C:\\Users\\carsten\\.julia\\packages\\BenchmarkTools\\dtwnm\\src\\execution.jl:32 [inlined]",
      " [11] #run_result at .\\none:0 [inlined]",
      " [12] #run#18(::Base.Iterators.Pairs{Symbol,Integer,NTuple{5,Symbol},NamedTuple{(:verbose, :samples, :evals, :gctrial, :gcsample),Tuple{Bool,Int64,Int64,Bool,Bool}}}, ::Function, ::BenchmarkTools.Benchmark{Symbol(\"##benchmark#560\")}, ::BenchmarkTools.Parameters) at C:\\Users\\carsten\\.julia\\packages\\BenchmarkTools\\dtwnm\\src\\execution.jl:46",
      " [13] warmup(::BenchmarkTools.Benchmark{Symbol(\"##benchmark#560\")}) at .\\none:0",
      " [14] top-level scope at C:\\Users\\carsten\\.julia\\packages\\BenchmarkTools\\dtwnm\\src\\execution.jl:387",
      " [15] top-level scope at In[67]:3"
     ]
    }
   ],
   "source": [
    "using SparseArrays\n",
    "Hsparse = sparse(H)\n",
    "@btime LinearAlgebra.eigen($Hsparse)"
   ]
  },
  {
   "cell_type": "markdown",
   "metadata": {},
   "source": [
    "The future might be: https://github.com/JuliaLinearAlgebra/SparseLinearAlgebra.jl\n",
    "\n",
    "See also [IterativeSolvers.jl](https://github.com/JuliaMath/IterativeSolvers.jl) (pure Julia matrix-free solvers)."
   ]
  },
  {
   "cell_type": "code",
   "execution_count": 116,
   "metadata": {},
   "outputs": [
    {
     "name": "stdout",
     "output_type": "stream",
     "text": [
      "  2.316 ms (1280 allocations: 79.42 KiB)\n"
     ]
    },
    {
     "data": {
      "text/plain": [
       "([-2.49903, -2.49613, -2.4913, -2.48454, -2.47586, -2.46527], [-0.00437636 0.00874848 … -0.0217972 -0.0261102; 0.00874848 -0.0174631 … 0.0430682 0.0513136; … ; -0.00874848 -0.0174631 … -0.0430682 0.0513136; 0.00437636 0.00874848 … 0.0217972 -0.0261102], 6, 25, 332, [-0.0619055, 0.0269317, -0.138255, -0.147443, 0.0611025, 0.0777528, -0.0779466, -0.113717, -0.085609, -0.151235  …  -0.0313838, -0.123302, -0.094817, -0.015338, -0.0434075, -0.095161, -0.051374, -0.192803, -0.0144217, 0.00767122])"
      ]
     },
     "execution_count": 116,
     "metadata": {},
     "output_type": "execute_result"
    }
   ],
   "source": [
    "@btime eigs($Hsparse)"
   ]
  },
  {
   "cell_type": "markdown",
   "metadata": {},
   "source": [
    "## Linear operators / maps"
   ]
  },
  {
   "cell_type": "markdown",
   "metadata": {},
   "source": [
    "See https://github.com/Jutho/LinearMaps.jl"
   ]
  },
  {
   "cell_type": "code",
   "execution_count": 104,
   "metadata": {},
   "outputs": [],
   "source": [
    "using LinearMaps"
   ]
  },
  {
   "cell_type": "code",
   "execution_count": 117,
   "metadata": {},
   "outputs": [
    {
     "name": "stdout",
     "output_type": "stream",
     "text": [
      "search: \u001b[0m\u001b[1mL\u001b[22m\u001b[0m\u001b[1mi\u001b[22m\u001b[0m\u001b[1mn\u001b[22m\u001b[0m\u001b[1me\u001b[22m\u001b[0m\u001b[1ma\u001b[22m\u001b[0m\u001b[1mr\u001b[22m\u001b[0m\u001b[1mM\u001b[22m\u001b[0m\u001b[1ma\u001b[22m\u001b[0m\u001b[1mp\u001b[22m \u001b[0m\u001b[1mL\u001b[22m\u001b[0m\u001b[1mi\u001b[22m\u001b[0m\u001b[1mn\u001b[22m\u001b[0m\u001b[1me\u001b[22m\u001b[0m\u001b[1ma\u001b[22m\u001b[0m\u001b[1mr\u001b[22m\u001b[0m\u001b[1mM\u001b[22m\u001b[0m\u001b[1ma\u001b[22m\u001b[0m\u001b[1mp\u001b[22ms \u001b[0m\u001b[1mL\u001b[22m\u001b[0m\u001b[1mi\u001b[22m\u001b[0m\u001b[1mn\u001b[22m\u001b[0m\u001b[1me\u001b[22m\u001b[0m\u001b[1ma\u001b[22m\u001b[0m\u001b[1mr\u001b[22mI\u001b[0m\u001b[1mm\u001b[22mplicitEuler\n",
      "\n"
     ]
    },
    {
     "data": {
      "text/markdown": [
       "```\n",
       "LinearMap(A; kwargs...)\n",
       "LinearMap{T=Float64}(f, [fc,], M::Int, N::Int = M; kwargs...)\n",
       "```\n",
       "\n",
       "Construct a linear map object, either from an existing `LinearMap` or `AbstractMatrix` `A`, with the purpose of redefining its properties via the keyword arguments `kwargs`, or from a function or callable object `f`. In the latter case, one also needs to specify the size of the equivalent matrix representation `(M, N)`, i.e. for functions `f` acting on length `N` vectors and producing length `M` vectors (with default value `N=M`). Preferably, also the `eltype` `T` of the corresponding matrix representation needs to be specified, i.e. whether the action of `f` on a vector will be similar to e.g. multiplying by numbers of type `T`. If not specified, the devault value `T=Float64` will be assumed. Optionally, a corresponding function `fc` can be specified that implements the transpose/adjoint of `f`.\n",
       "\n",
       "The keyword arguments and their default values for functions `f` are\n",
       "\n",
       "  * issymmetric::Bool = false : whether `A` or `f` acts as a symmetric matrix\n",
       "  * ishermitian::Bool = issymmetric & T<:Real : whether `A` or `f` acts as a Hermitian matrix\n",
       "  * isposdef::Bool = false : whether `A` or `f` acts as a positive definite matrix.\n",
       "\n",
       "For existing linear maps or matrices `A`, the default values will be taken by calling `issymmetric`, `ishermitian` and `isposdef` on the existing object `A`.\n",
       "\n",
       "For functions `f`, there is one more keyword arguments\n",
       "\n",
       "  * ismutating::Bool : flags whether the function acts as a mutating matrix multiplication   `f(y,x)` where the result vector `y` is the first argument (in case of `true`),   or as a normal matrix multiplication that is called as `y=f(x)` (in case of `false`).   The default value is guessed by looking at the number of arguments of the first occurence   of `f` in the method table.\n"
      ],
      "text/plain": [
       "\u001b[36m  LinearMap(A; kwargs...)\u001b[39m\n",
       "\u001b[36m  LinearMap{T=Float64}(f, [fc,], M::Int, N::Int = M; kwargs...)\u001b[39m\n",
       "\n",
       "  Construct a linear map object, either from an existing \u001b[36mLinearMap\u001b[39m or\n",
       "  \u001b[36mAbstractMatrix\u001b[39m \u001b[36mA\u001b[39m, with the purpose of redefining its properties via the\n",
       "  keyword arguments \u001b[36mkwargs\u001b[39m, or from a function or callable object \u001b[36mf\u001b[39m. In the\n",
       "  latter case, one also needs to specify the size of the equivalent matrix\n",
       "  representation \u001b[36m(M, N)\u001b[39m, i.e. for functions \u001b[36mf\u001b[39m acting on length \u001b[36mN\u001b[39m vectors and\n",
       "  producing length \u001b[36mM\u001b[39m vectors (with default value \u001b[36mN=M\u001b[39m). Preferably, also the\n",
       "  \u001b[36meltype\u001b[39m \u001b[36mT\u001b[39m of the corresponding matrix representation needs to be specified,\n",
       "  i.e. whether the action of \u001b[36mf\u001b[39m on a vector will be similar to e.g. multiplying\n",
       "  by numbers of type \u001b[36mT\u001b[39m. If not specified, the devault value \u001b[36mT=Float64\u001b[39m will be\n",
       "  assumed. Optionally, a corresponding function \u001b[36mfc\u001b[39m can be specified that\n",
       "  implements the transpose/adjoint of \u001b[36mf\u001b[39m.\n",
       "\n",
       "  The keyword arguments and their default values for functions \u001b[36mf\u001b[39m are\n",
       "\n",
       "    •    issymmetric::Bool = false : whether \u001b[36mA\u001b[39m or \u001b[36mf\u001b[39m acts as a symmetric\n",
       "        matrix\n",
       "\n",
       "    •    ishermitian::Bool = issymmetric & T<:Real : whether \u001b[36mA\u001b[39m or \u001b[36mf\u001b[39m acts as\n",
       "        a Hermitian matrix\n",
       "\n",
       "    •    isposdef::Bool = false : whether \u001b[36mA\u001b[39m or \u001b[36mf\u001b[39m acts as a positive\n",
       "        definite matrix.\n",
       "\n",
       "  For existing linear maps or matrices \u001b[36mA\u001b[39m, the default values will be taken by\n",
       "  calling \u001b[36missymmetric\u001b[39m, \u001b[36mishermitian\u001b[39m and \u001b[36misposdef\u001b[39m on the existing object \u001b[36mA\u001b[39m.\n",
       "\n",
       "  For functions \u001b[36mf\u001b[39m, there is one more keyword arguments\n",
       "\n",
       "    •    ismutating::Bool : flags whether the function acts as a mutating\n",
       "        matrix multiplication \u001b[36mf(y,x)\u001b[39m where the result vector \u001b[36my\u001b[39m is the\n",
       "        first argument (in case of \u001b[36mtrue\u001b[39m), or as a normal matrix\n",
       "        multiplication that is called as \u001b[36my=f(x)\u001b[39m (in case of \u001b[36mfalse\u001b[39m). The\n",
       "        default value is guessed by looking at the number of arguments of\n",
       "        the first occurence of \u001b[36mf\u001b[39m in the method table."
      ]
     },
     "execution_count": 117,
     "metadata": {},
     "output_type": "execute_result"
    }
   ],
   "source": [
    "?LinearMap"
   ]
  },
  {
   "cell_type": "code",
   "execution_count": 141,
   "metadata": {},
   "outputs": [
    {
     "data": {
      "text/plain": [
       "1000×1000 Array{Int64,2}:\n",
       " 1  0  0  0  0  0  0  0  0   0   0   0  …    0    0    0    0    0    0     0\n",
       " 0  2  0  0  0  0  0  0  0   0   0   0       0    0    0    0    0    0     0\n",
       " 0  0  3  0  0  0  0  0  0   0   0   0       0    0    0    0    0    0     0\n",
       " 0  0  0  4  0  0  0  0  0   0   0   0       0    0    0    0    0    0     0\n",
       " 0  0  0  0  5  0  0  0  0   0   0   0       0    0    0    0    0    0     0\n",
       " 0  0  0  0  0  6  0  0  0   0   0   0  …    0    0    0    0    0    0     0\n",
       " 0  0  0  0  0  0  7  0  0   0   0   0       0    0    0    0    0    0     0\n",
       " 0  0  0  0  0  0  0  8  0   0   0   0       0    0    0    0    0    0     0\n",
       " 0  0  0  0  0  0  0  0  9   0   0   0       0    0    0    0    0    0     0\n",
       " 0  0  0  0  0  0  0  0  0  10   0   0       0    0    0    0    0    0     0\n",
       " 0  0  0  0  0  0  0  0  0   0  11   0  …    0    0    0    0    0    0     0\n",
       " 0  0  0  0  0  0  0  0  0   0   0  12       0    0    0    0    0    0     0\n",
       " 0  0  0  0  0  0  0  0  0   0   0   0       0    0    0    0    0    0     0\n",
       " ⋮              ⋮                ⋮      ⋱              ⋮                     \n",
       " 0  0  0  0  0  0  0  0  0   0   0   0       0    0    0    0    0    0     0\n",
       " 0  0  0  0  0  0  0  0  0   0   0   0       0    0    0    0    0    0     0\n",
       " 0  0  0  0  0  0  0  0  0   0   0   0  …    0    0    0    0    0    0     0\n",
       " 0  0  0  0  0  0  0  0  0   0   0   0       0    0    0    0    0    0     0\n",
       " 0  0  0  0  0  0  0  0  0   0   0   0       0    0    0    0    0    0     0\n",
       " 0  0  0  0  0  0  0  0  0   0   0   0     994    0    0    0    0    0     0\n",
       " 0  0  0  0  0  0  0  0  0   0   0   0       0  995    0    0    0    0     0\n",
       " 0  0  0  0  0  0  0  0  0   0   0   0  …    0    0  996    0    0    0     0\n",
       " 0  0  0  0  0  0  0  0  0   0   0   0       0    0    0  997    0    0     0\n",
       " 0  0  0  0  0  0  0  0  0   0   0   0       0    0    0    0  998    0     0\n",
       " 0  0  0  0  0  0  0  0  0   0   0   0       0    0    0    0    0  999     0\n",
       " 0  0  0  0  0  0  0  0  0   0   0   0       0    0    0    0    0    0  1000"
      ]
     },
     "execution_count": 141,
     "metadata": {},
     "output_type": "execute_result"
    }
   ],
   "source": [
    "H = diagm(0 => 1:1000)"
   ]
  },
  {
   "cell_type": "code",
   "execution_count": 142,
   "metadata": {},
   "outputs": [
    {
     "name": "stdout",
     "output_type": "stream",
     "text": [
      "  153.608 ms (2046 allocations: 7.94 MiB)\n"
     ]
    }
   ],
   "source": [
    "@btime eigs($H);"
   ]
  },
  {
   "cell_type": "code",
   "execution_count": 159,
   "metadata": {},
   "outputs": [
    {
     "name": "stdout",
     "output_type": "stream",
     "text": [
      "  40.323 ms (2533 allocations: 334.16 KiB)\n"
     ]
    }
   ],
   "source": [
    "# Define map through matrix-vector multiplication. In-place version, y is the result.\n",
    "function Hmult!(y::AbstractVector, x::AbstractVector)\n",
    "    N = length(x)\n",
    "    @inbounds for i=1:N\n",
    "        y[i] = i*x[i]\n",
    "    end\n",
    "    nothing\n",
    "end\n",
    "\n",
    "D = LinearMap(Hmult!, 1000; ismutating=true, issymmetric=true, isposdef=true)\n",
    "\n",
    "@btime eigs($D);"
   ]
  },
  {
   "cell_type": "markdown",
   "metadata": {},
   "source": [
    "However, this is not faster than using `SparseMatrixCSC` or `Diagonal`."
   ]
  },
  {
   "cell_type": "code",
   "execution_count": 152,
   "metadata": {},
   "outputs": [
    {
     "name": "stdout",
     "output_type": "stream",
     "text": [
      "  41.547 ms (2075 allocations: 335.95 KiB)\n"
     ]
    }
   ],
   "source": [
    "Hsparse = sparse(H);\n",
    "@btime eigs($Hsparse);"
   ]
  },
  {
   "cell_type": "code",
   "execution_count": 154,
   "metadata": {},
   "outputs": [
    {
     "name": "stdout",
     "output_type": "stream",
     "text": [
      "  42.279 ms (2094 allocations: 328.70 KiB)\n"
     ]
    }
   ],
   "source": [
    "Hdiag = Diagonal(H);\n",
    "@btime eigs($Hdiag);"
   ]
  },
  {
   "cell_type": "code",
   "execution_count": null,
   "metadata": {},
   "outputs": [],
   "source": []
  },
  {
   "cell_type": "code",
   "execution_count": null,
   "metadata": {},
   "outputs": [],
   "source": []
  },
  {
   "cell_type": "markdown",
   "metadata": {},
   "source": [
    "## Example 3: Differential equation with unitful quantities"
   ]
  },
  {
   "cell_type": "markdown",
   "metadata": {},
   "source": [
    "Note that $$ \\frac{dy}{dt} = f(t,y). $$ We must have that `f` is a rate, i.e. `f` is a change in `y` per unit time."
   ]
  },
  {
   "cell_type": "code",
   "execution_count": 95,
   "metadata": {},
   "outputs": [
    {
     "ename": "MethodError",
     "evalue": "MethodError: no method matching Quantity{Float64,D,U} where U where D(::Int64)\nClosest candidates are:\n  Quantity{Float64,D,U} where U where D(::T<:Number) where T<:Number at boot.jl:725\n  Quantity{Float64,D,U} where U where D(!Matched::Base.TwicePrecision) where T<:Number at twiceprecision.jl:243\n  Quantity{Float64,D,U} where U where D(!Matched::AbstractChar) where T<:Union{AbstractChar, Number} at char.jl:50",
     "output_type": "error",
     "traceback": [
      "MethodError: no method matching Quantity{Float64,D,U} where U where D(::Int64)\nClosest candidates are:\n  Quantity{Float64,D,U} where U where D(::T<:Number) where T<:Number at boot.jl:725\n  Quantity{Float64,D,U} where U where D(!Matched::Base.TwicePrecision) where T<:Number at twiceprecision.jl:243\n  Quantity{Float64,D,U} where U where D(!Matched::AbstractChar) where T<:Union{AbstractChar, Number} at char.jl:50",
      "",
      "Stacktrace:",
      " [1] macro expansion at .\\logging.jl:318 [inlined]",
      " [2] macro expansion at .\\logging.jl:307 [inlined]",
      " [3] #__init#203(::Int64, ::Array{Quantity{Float64,Unitful.Dimensions{(Unitful.Dimension{:Time}(1//1),)},Unitful.FreeUnits{(Unitful.Unit{:Second,Unitful.Dimensions{(Unitful.Dimension{:Time}(1//1),)}}(0, 1//1),),Unitful.Dimensions{(Unitful.Dimension{:Time}(1//1),)}}},1}, ::Array{Quantity{Float64,Unitful.Dimensions{(Unitful.Dimension{:Time}(1//1),)},Unitful.FreeUnits{(Unitful.Unit{:Second,Unitful.Dimensions{(Unitful.Dimension{:Time}(1//1),)}}(0, 1//1),),Unitful.Dimensions{(Unitful.Dimension{:Time}(1//1),)}}},1}, ::Array{Quantity{Float64,Unitful.Dimensions{(Unitful.Dimension{:Time}(1//1),)},Unitful.FreeUnits{(Unitful.Unit{:Second,Unitful.Dimensions{(Unitful.Dimension{:Time}(1//1),)}}(0, 1//1),),Unitful.Dimensions{(Unitful.Dimension{:Time}(1//1),)}}},1}, ::Nothing, ::Bool, ::Nothing, ::Bool, ::Bool, ::Nothing, ::Bool, ::Bool, ::Quantity{Float64,Unitful.Dimensions{(Unitful.Dimension{:Time}(1//1),)},Unitful.FreeUnits{(Unitful.Unit{:Second,Unitful.Dimensions{(Unitful.Dimension{:Time}(1//1),)}}(0, 1//1),),Unitful.Dimensions{(Unitful.Dimension{:Time}(1//1),)}}}, ::Bool, ::Rational{Int64}, ::Nothing, ::Nothing, ::Int64, ::Rational{Int64}, ::Int64, ::Int64, ::Rational{Int64}, ::Bool, ::Int64, ::Nothing, ::Nothing, ::Int64, ::Quantity{Float64,Unitful.Dimensions{(Unitful.Dimension{:Time}(1//1),)},Unitful.FreeUnits{(Unitful.Unit{:Second,Unitful.Dimensions{(Unitful.Dimension{:Time}(1//1),)}}(0, 1//1),),Unitful.Dimensions{(Unitful.Dimension{:Time}(1//1),)}}}, ::Float64, ::typeof(DiffEqBase.ODE_DEFAULT_NORM), ::typeof(LinearAlgebra.opnorm), ::typeof(DiffEqBase.ODE_DEFAULT_ISOUTOFDOMAIN), ::typeof(DiffEqBase.ODE_DEFAULT_UNSTABLE_CHECK), ::Bool, ::Bool, ::Bool, ::Bool, ::Bool, ::Bool, ::Bool, ::Bool, ::Int64, ::String, ::typeof(DiffEqBase.ODE_DEFAULT_PROG_MESSAGE), ::Nothing, ::Bool, ::Bool, ::Base.Iterators.Pairs{Symbol,Bool,Tuple{Symbol},NamedTuple{(:default_set,),Tuple{Bool}}}, ::typeof(DiffEqBase.__init), ::ODEProblem{Array{Quantity{Float64,D,U} where U where D,1},Tuple{Quantity{Float64,Unitful.Dimensions{(Unitful.Dimension{:Time}(1//1),)},Unitful.FreeUnits{(Unitful.Unit{:Second,Unitful.Dimensions{(Unitful.Dimension{:Time}(1//1),)}}(0, 1//1),),Unitful.Dimensions{(Unitful.Dimension{:Time}(1//1),)}}},Quantity{Float64,Unitful.Dimensions{(Unitful.Dimension{:Time}(1//1),)},Unitful.FreeUnits{(Unitful.Unit{:Second,Unitful.Dimensions{(Unitful.Dimension{:Time}(1//1),)}}(0, 1//1),),Unitful.Dimensions{(Unitful.Dimension{:Time}(1//1),)}}}},true,Array{Quantity{Float64,D,U} where U where D,1},ODEFunction{true,typeof(f_harmonic!),LinearAlgebra.UniformScaling{Bool},Nothing,Nothing,Nothing,Nothing,Nothing,Nothing,Nothing,Nothing},Nothing,DiffEqBase.StandardODEProblem}, ::CompositeAlgorithm{Tuple{Vern9,Rodas5{0,false,LinSolveFactorize{typeof(LinearAlgebra.lu!)},DataType}},AutoSwitch{Vern9,Rodas5{0,false,LinSolveFactorize{typeof(LinearAlgebra.lu!)},DataType},Rational{Int64},Float64}}, ::Array{Any,1}, ::Array{Any,1}, ::Array{Any,1}, ::Type{Val{true}}) at C:\\Users\\carsten\\.julia\\packages\\OrdinaryDiffEq\\d47lJ\\src\\solve.jl:72",
      " [4] (::getfield(DiffEqBase, Symbol(\"#kw##__init\")))(::NamedTuple{(:default_set,),Tuple{Bool}}, ::typeof(DiffEqBase.__init), ::ODEProblem{Array{Quantity{Float64,D,U} where U where D,1},Tuple{Quantity{Float64,Unitful.Dimensions{(Unitful.Dimension{:Time}(1//1),)},Unitful.FreeUnits{(Unitful.Unit{:Second,Unitful.Dimensions{(Unitful.Dimension{:Time}(1//1),)}}(0, 1//1),),Unitful.Dimensions{(Unitful.Dimension{:Time}(1//1),)}}},Quantity{Float64,Unitful.Dimensions{(Unitful.Dimension{:Time}(1//1),)},Unitful.FreeUnits{(Unitful.Unit{:Second,Unitful.Dimensions{(Unitful.Dimension{:Time}(1//1),)}}(0, 1//1),),Unitful.Dimensions{(Unitful.Dimension{:Time}(1//1),)}}}},true,Array{Quantity{Float64,D,U} where U where D,1},ODEFunction{true,typeof(f_harmonic!),LinearAlgebra.UniformScaling{Bool},Nothing,Nothing,Nothing,Nothing,Nothing,Nothing,Nothing,Nothing},Nothing,DiffEqBase.StandardODEProblem}, ::CompositeAlgorithm{Tuple{Vern9,Rodas5{0,false,LinSolveFactorize{typeof(LinearAlgebra.lu!)},DataType}},AutoSwitch{Vern9,Rodas5{0,false,LinSolveFactorize{typeof(LinearAlgebra.lu!)},DataType},Rational{Int64},Float64}}, ::Array{Any,1}, ::Array{Any,1}, ::Array{Any,1}, ::Type{Val{true}}) at .\\none:0",
      " [5] #__solve#202(::Base.Iterators.Pairs{Symbol,Bool,Tuple{Symbol},NamedTuple{(:default_set,),Tuple{Bool}}}, ::Function, ::ODEProblem{Array{Quantity{Float64,D,U} where U where D,1},Tuple{Quantity{Float64,Unitful.Dimensions{(Unitful.Dimension{:Time}(1//1),)},Unitful.FreeUnits{(Unitful.Unit{:Second,Unitful.Dimensions{(Unitful.Dimension{:Time}(1//1),)}}(0, 1//1),),Unitful.Dimensions{(Unitful.Dimension{:Time}(1//1),)}}},Quantity{Float64,Unitful.Dimensions{(Unitful.Dimension{:Time}(1//1),)},Unitful.FreeUnits{(Unitful.Unit{:Second,Unitful.Dimensions{(Unitful.Dimension{:Time}(1//1),)}}(0, 1//1),),Unitful.Dimensions{(Unitful.Dimension{:Time}(1//1),)}}}},true,Array{Quantity{Float64,D,U} where U where D,1},ODEFunction{true,typeof(f_harmonic!),LinearAlgebra.UniformScaling{Bool},Nothing,Nothing,Nothing,Nothing,Nothing,Nothing,Nothing,Nothing},Nothing,DiffEqBase.StandardODEProblem}, ::CompositeAlgorithm{Tuple{Vern9,Rodas5{0,false,LinSolveFactorize{typeof(LinearAlgebra.lu!)},DataType}},AutoSwitch{Vern9,Rodas5{0,false,LinSolveFactorize{typeof(LinearAlgebra.lu!)},DataType},Rational{Int64},Float64}}, ::Array{Any,1}, ::Array{Any,1}, ::Array{Any,1}, ::Type{Val{true}}) at C:\\Users\\carsten\\.julia\\packages\\OrdinaryDiffEq\\d47lJ\\src\\solve.jl:6",
      " [6] (::getfield(DiffEqBase, Symbol(\"#kw##__solve\")))(::NamedTuple{(:default_set,),Tuple{Bool}}, ::typeof(DiffEqBase.__solve), ::ODEProblem{Array{Quantity{Float64,D,U} where U where D,1},Tuple{Quantity{Float64,Unitful.Dimensions{(Unitful.Dimension{:Time}(1//1),)},Unitful.FreeUnits{(Unitful.Unit{:Second,Unitful.Dimensions{(Unitful.Dimension{:Time}(1//1),)}}(0, 1//1),),Unitful.Dimensions{(Unitful.Dimension{:Time}(1//1),)}}},Quantity{Float64,Unitful.Dimensions{(Unitful.Dimension{:Time}(1//1),)},Unitful.FreeUnits{(Unitful.Unit{:Second,Unitful.Dimensions{(Unitful.Dimension{:Time}(1//1),)}}(0, 1//1),),Unitful.Dimensions{(Unitful.Dimension{:Time}(1//1),)}}}},true,Array{Quantity{Float64,D,U} where U where D,1},ODEFunction{true,typeof(f_harmonic!),LinearAlgebra.UniformScaling{Bool},Nothing,Nothing,Nothing,Nothing,Nothing,Nothing,Nothing,Nothing},Nothing,DiffEqBase.StandardODEProblem}, ::CompositeAlgorithm{Tuple{Vern9,Rodas5{0,false,LinSolveFactorize{typeof(LinearAlgebra.lu!)},DataType}},AutoSwitch{Vern9,Rodas5{0,false,LinSolveFactorize{typeof(LinearAlgebra.lu!)},DataType},Rational{Int64},Float64}}, ::Array{Any,1}, ::Array{Any,1}, ::Array{Any,1}, ::Type{Val{true}}) at .\\none:0 (repeats 5 times)",
      " [7] #__solve#2(::Bool, ::Base.Iterators.Pairs{Union{},Union{},Tuple{},NamedTuple{(),Tuple{}}}, ::Function, ::ODEProblem{Array{Quantity{Float64,D,U} where U where D,1},Tuple{Quantity{Float64,Unitful.Dimensions{(Unitful.Dimension{:Time}(1//1),)},Unitful.FreeUnits{(Unitful.Unit{:Second,Unitful.Dimensions{(Unitful.Dimension{:Time}(1//1),)}}(0, 1//1),),Unitful.Dimensions{(Unitful.Dimension{:Time}(1//1),)}}},Quantity{Float64,Unitful.Dimensions{(Unitful.Dimension{:Time}(1//1),)},Unitful.FreeUnits{(Unitful.Unit{:Second,Unitful.Dimensions{(Unitful.Dimension{:Time}(1//1),)}}(0, 1//1),),Unitful.Dimensions{(Unitful.Dimension{:Time}(1//1),)}}}},true,Array{Quantity{Float64,D,U} where U where D,1},ODEFunction{true,typeof(f_harmonic!),LinearAlgebra.UniformScaling{Bool},Nothing,Nothing,Nothing,Nothing,Nothing,Nothing,Nothing,Nothing},Nothing,DiffEqBase.StandardODEProblem}, ::Nothing) at C:\\Users\\carsten\\.julia\\packages\\DifferentialEquations\\9VjqD\\src\\default_solve.jl:15",
      " [8] #__solve at .\\none:0 [inlined]",
      " [9] #__solve#1 at C:\\Users\\carsten\\.julia\\packages\\DifferentialEquations\\9VjqD\\src\\default_solve.jl:5 [inlined]",
      " [10] __solve at C:\\Users\\carsten\\.julia\\packages\\DifferentialEquations\\9VjqD\\src\\default_solve.jl:2 [inlined]",
      " [11] #solve#429(::Base.Iterators.Pairs{Union{},Union{},Tuple{},NamedTuple{(),Tuple{}}}, ::Function, ::ODEProblem{Array{Quantity{Float64,D,U} where U where D,1},Tuple{Quantity{Float64,Unitful.Dimensions{(Unitful.Dimension{:Time}(1//1),)},Unitful.FreeUnits{(Unitful.Unit{:Second,Unitful.Dimensions{(Unitful.Dimension{:Time}(1//1),)}}(0, 1//1),),Unitful.Dimensions{(Unitful.Dimension{:Time}(1//1),)}}},Quantity{Float64,Unitful.Dimensions{(Unitful.Dimension{:Time}(1//1),)},Unitful.FreeUnits{(Unitful.Unit{:Second,Unitful.Dimensions{(Unitful.Dimension{:Time}(1//1),)}}(0, 1//1),),Unitful.Dimensions{(Unitful.Dimension{:Time}(1//1),)}}}},true,Array{Quantity{Float64,D,U} where U where D,1},ODEFunction{true,typeof(f_harmonic!),LinearAlgebra.UniformScaling{Bool},Nothing,Nothing,Nothing,Nothing,Nothing,Nothing,Nothing,Nothing},Nothing,DiffEqBase.StandardODEProblem}) at C:\\Users\\carsten\\.julia\\packages\\DiffEqBase\\r9HLg\\src\\solve.jl:31",
      " [12] solve(::ODEProblem{Array{Quantity{Float64,D,U} where U where D,1},Tuple{Quantity{Float64,Unitful.Dimensions{(Unitful.Dimension{:Time}(1//1),)},Unitful.FreeUnits{(Unitful.Unit{:Second,Unitful.Dimensions{(Unitful.Dimension{:Time}(1//1),)}}(0, 1//1),),Unitful.Dimensions{(Unitful.Dimension{:Time}(1//1),)}}},Quantity{Float64,Unitful.Dimensions{(Unitful.Dimension{:Time}(1//1),)},Unitful.FreeUnits{(Unitful.Unit{:Second,Unitful.Dimensions{(Unitful.Dimension{:Time}(1//1),)}}(0, 1//1),),Unitful.Dimensions{(Unitful.Dimension{:Time}(1//1),)}}}},true,Array{Quantity{Float64,D,U} where U where D,1},ODEFunction{true,typeof(f_harmonic!),LinearAlgebra.UniformScaling{Bool},Nothing,Nothing,Nothing,Nothing,Nothing,Nothing,Nothing,Nothing},Nothing,DiffEqBase.StandardODEProblem}) at C:\\Users\\carsten\\.julia\\packages\\DiffEqBase\\r9HLg\\src\\solve.jl:21",
      " [13] top-level scope at In[95]:20"
     ]
    }
   ],
   "source": [
    "using DifferentialEquations\n",
    "import Unitful: s, m, kg, N\n",
    "\n",
    "# coordinate: u = [position, momentum]\n",
    "# parameters: p = [mass, force constanst]\n",
    "function f_harmonic!(du,u,p,t)\n",
    "  du[1] = u[2]/p[1]\n",
    "  du[2] = -p[2]/p[1]*u[1]\n",
    "end\n",
    "\n",
    "mass = 1.0kg\n",
    "k = 1.0N/m\n",
    "p = [mass, k]\n",
    "\n",
    "u0 = [1.0m, 0.0kg*m/s] # initial values (position, momentum)\n",
    "\n",
    "tspan = (0.0s, 10.0s)\n",
    "\n",
    "prob = ODEProblem(f_harmonic!, u0, tspan, p)\n",
    "\n",
    "sol = solve(prob)"
   ]
  },
  {
   "cell_type": "markdown",
   "metadata": {},
   "source": [
    "# Without units"
   ]
  },
  {
   "cell_type": "code",
   "execution_count": 92,
   "metadata": {},
   "outputs": [],
   "source": [
    "using DifferentialEquations\n",
    "\n",
    "# u = [position, momentum]\n",
    "# p = [mass, force constanst]\n",
    "function f_harmonic!(du,u,p,t)\n",
    "  du[1] = u[2]/p[1]\n",
    "  du[2] = -p[2]/p[1]*u[1]\n",
    "end\n",
    "\n",
    "mass = 1.0\n",
    "k = 1.0    # force constant\n",
    "p = [mass, k] # parameters\n",
    "\n",
    "u0 = [10, 0.4] # initial values (position, momentum)\n",
    "\n",
    "tspan = (0.0, 10.0)\n",
    "\n",
    "prob = ODEProblem(f_harmonic!, u0, tspan, p)\n",
    "\n",
    "sol = solve(prob, saveat = 0.1);"
   ]
  },
  {
   "cell_type": "code",
   "execution_count": 93,
   "metadata": {},
   "outputs": [
    {
     "data": {
      "image/png": "[encoded data removed]",
      "text/plain": [
       "Figure(PyObject <Figure size 640x480 with 1 Axes>)"
      ]
     },
     "metadata": {},
     "output_type": "display_data"
    }
   ],
   "source": [
    "using PyPlot\n",
    "plot(getindex.(sol.u, 1), sol.t)\n",
    "xlabel(\"position\")\n",
    "ylabel(\"time\");"
   ]
  },
  {
   "cell_type": "code",
   "execution_count": null,
   "metadata": {},
   "outputs": [],
   "source": []
  },
  {
   "cell_type": "code",
   "execution_count": null,
   "metadata": {},
   "outputs": [],
   "source": []
  },
  {
   "cell_type": "code",
   "execution_count": null,
   "metadata": {},
   "outputs": [],
   "source": []
  },
  {
   "cell_type": "code",
   "execution_count": null,
   "metadata": {},
   "outputs": [],
   "source": []
  },
  {
   "cell_type": "code",
   "execution_count": null,
   "metadata": {},
   "outputs": [],
   "source": []
  },
  {
   "cell_type": "code",
   "execution_count": null,
   "metadata": {},
   "outputs": [],
   "source": []
  },
  {
   "cell_type": "code",
   "execution_count": 4,
   "metadata": {},
   "outputs": [
    {
     "ename": "Unitful.DimensionError",
     "evalue": "DimensionError: N s^-1 and 0.016666666666666666 N^2 s^-1 are not dimensionally compatible.",
     "output_type": "error",
     "traceback": [
      "DimensionError: N s^-1 and 0.016666666666666666 N^2 s^-1 are not dimensionally compatible.",
      "",
      "Stacktrace:",
      " [1] convert(::Type{Quantity{Float64,Unitful.Dimensions{(Unitful.Dimension{:Length}(1//1), Unitful.Dimension{:Mass}(1//1), Unitful.Dimension{:Time}(-3//1))},Unitful.FreeUnits{(Unitful.Unit{:Newton,Unitful.Dimensions{(Unitful.Dimension{:Length}(1//1), Unitful.Dimension{:Mass}(1//1), Unitful.Dimension{:Time}(-2//1))}}(0, 1//1), Unitful.Unit{:Second,Unitful.Dimensions{(Unitful.Dimension{:Time}(1//1),)}}(0, -1//1)),Unitful.Dimensions{(Unitful.Dimension{:Length}(1//1), Unitful.Dimension{:Mass}(1//1), Unitful.Dimension{:Time}(-3//1))}}}}, ::Quantity{Float64,Unitful.Dimensions{(Unitful.Dimension{:Length}(2//1), Unitful.Dimension{:Mass}(2//1), Unitful.Dimension{:Time}(-5//1))},Unitful.FreeUnits{(Unitful.Unit{:Newton,Unitful.Dimensions{(Unitful.Dimension{:Length}(1//1), Unitful.Dimension{:Mass}(1//1), Unitful.Dimension{:Time}(-2//1))}}(0, 2//1), Unitful.Unit{:Second,Unitful.Dimensions{(Unitful.Dimension{:Time}(1//1),)}}(0, -1//1)),Unitful.Dimensions{(Unitful.Dimension{:Length}(2//1), Unitful.Dimension{:Mass}(2//1), Unitful.Dimension{:Time}(-5//1))}}}) at C:\\Users\\carsten\\.julia\\packages\\Unitful\\RG8e9\\src\\conversion.jl:93",
      " [2] setproperty!(::OrdinaryDiffEq.ODEIntegrator{Tsit5,Quantity{Float64,Unitful.Dimensions{(Unitful.Dimension{:Length}(1//1), Unitful.Dimension{:Mass}(1//1), Unitful.Dimension{:Time}(-2//1))},Unitful.FreeUnits{(Unitful.Unit{:Newton,Unitful.Dimensions{(Unitful.Dimension{:Length}(1//1), Unitful.Dimension{:Mass}(1//1), Unitful.Dimension{:Time}(-2//1))}}(0, 1//1),),Unitful.Dimensions{(Unitful.Dimension{:Length}(1//1), Unitful.Dimension{:Mass}(1//1), Unitful.Dimension{:Time}(-2//1))}}},Quantity{Float64,Unitful.Dimensions{(Unitful.Dimension{:Time}(1//1),)},Unitful.FreeUnits{(Unitful.Unit{:Second,Unitful.Dimensions{(Unitful.Dimension{:Time}(1//1),)}}(0, 1//1),),Unitful.Dimensions{(Unitful.Dimension{:Time}(1//1),)}}},Nothing,Quantity{Float64,Unitful.Dimensions{(Unitful.Dimension{:Time}(-1//1),)},Unitful.FreeUnits{(Unitful.Unit{:Second,Unitful.Dimensions{(Unitful.Dimension{:Time}(1//1),)}}(0, -1//1),),Unitful.Dimensions{(Unitful.Dimension{:Time}(-1//1),)}}},Float64,Float64,Array{Quantity{Float64,Unitful.Dimensions{(Unitful.Dimension{:Length}(1//1), Unitful.Dimension{:Mass}(1//1), Unitful.Dimension{:Time}(-3//1))},Unitful.FreeUnits{(Unitful.Unit{:Newton,Unitful.Dimensions{(Unitful.Dimension{:Length}(1//1), Unitful.Dimension{:Mass}(1//1), Unitful.Dimension{:Time}(-2//1))}}(0, 1//1), Unitful.Unit{:Second,Unitful.Dimensions{(Unitful.Dimension{:Time}(1//1),)}}(0, -1//1)),Unitful.Dimensions{(Unitful.Dimension{:Length}(1//1), Unitful.Dimension{:Mass}(1//1), Unitful.Dimension{:Time}(-3//1))}}},1},ODESolution{Quantity{Float64,Unitful.Dimensions{(Unitful.Dimension{:Length}(1//1), Unitful.Dimension{:Mass}(1//1), Unitful.Dimension{:Time}(-2//1))},Unitful.FreeUnits{(Unitful.Unit{:Newton,Unitful.Dimensions{(Unitful.Dimension{:Length}(1//1), Unitful.Dimension{:Mass}(1//1), Unitful.Dimension{:Time}(-2//1))}}(0, 1//1),),Unitful.Dimensions{(Unitful.Dimension{:Length}(1//1), Unitful.Dimension{:Mass}(1//1), Unitful.Dimension{:Time}(-2//1))}}},1,Array{Quantity{Float64,Unitful.Dimensions{(Unitful.Dimension{:Length}(1//1), Unitful.Dimension{:Mass}(1//1), Unitful.Dimension{:Time}(-2//1))},Unitful.FreeUnits{(Unitful.Unit{:Newton,Unitful.Dimensions{(Unitful.Dimension{:Length}(1//1), Unitful.Dimension{:Mass}(1//1), Unitful.Dimension{:Time}(-2//1))}}(0, 1//1),),Unitful.Dimensions{(Unitful.Dimension{:Length}(1//1), Unitful.Dimension{:Mass}(1//1), Unitful.Dimension{:Time}(-2//1))}}},1},Nothing,Nothing,Array{Quantity{Float64,Unitful.Dimensions{(Unitful.Dimension{:Time}(1//1),)},Unitful.FreeUnits{(Unitful.Unit{:Second,Unitful.Dimensions{(Unitful.Dimension{:Time}(1//1),)}}(0, 1//1),),Unitful.Dimensions{(Unitful.Dimension{:Time}(1//1),)}}},1},Array{Array{Quantity{Float64,Unitful.Dimensions{(Unitful.Dimension{:Length}(1//1), Unitful.Dimension{:Mass}(1//1), Unitful.Dimension{:Time}(-3//1))},Unitful.FreeUnits{(Unitful.Unit{:Newton,Unitful.Dimensions{(Unitful.Dimension{:Length}(1//1), Unitful.Dimension{:Mass}(1//1), Unitful.Dimension{:Time}(-2//1))}}(0, 1//1), Unitful.Unit{:Second,Unitful.Dimensions{(Unitful.Dimension{:Time}(1//1),)}}(0, -1//1)),Unitful.Dimensions{(Unitful.Dimension{:Length}(1//1), Unitful.Dimension{:Mass}(1//1), Unitful.Dimension{:Time}(-3//1))}}},1},1},ODEProblem{Quantity{Float64,Unitful.Dimensions{(Unitful.Dimension{:Length}(1//1), Unitful.Dimension{:Mass}(1//1), Unitful.Dimension{:Time}(-2//1))},Unitful.FreeUnits{(Unitful.Unit{:Newton,Unitful.Dimensions{(Unitful.Dimension{:Length}(1//1), Unitful.Dimension{:Mass}(1//1), Unitful.Dimension{:Time}(-2//1))}}(0, 1//1),),Unitful.Dimensions{(Unitful.Dimension{:Length}(1//1), Unitful.Dimension{:Mass}(1//1), Unitful.Dimension{:Time}(-2//1))}}},Tuple{Quantity{Float64,Unitful.Dimensions{(Unitful.Dimension{:Time}(1//1),)},Unitful.FreeUnits{(Unitful.Unit{:Second,Unitful.Dimensions{(Unitful.Dimension{:Time}(1//1),)}}(0, 1//1),),Unitful.Dimensions{(Unitful.Dimension{:Time}(1//1),)}}},Quantity{Float64,Unitful.Dimensions{(Unitful.Dimension{:Time}(1//1),)},Unitful.FreeUnits{(Unitful.Unit{:Second,Unitful.Dimensions{(Unitful.Dimension{:Time}(1//1),)}}(0, 1//1),),Unitful.Dimensions{(Unitful.Dimension{:Time}(1//1),)}}}},false,Nothing,ODEFunction{false,typeof(f),LinearAlgebra.UniformScaling{Bool},Nothing,Nothing,Nothing,Nothing,Nothing,Nothing,Nothing,Nothing},Nothing,DiffEqBase.StandardODEProblem},Tsit5,OrdinaryDiffEq.InterpolationData{ODEFunction{false,typeof(f),LinearAlgebra.UniformScaling{Bool},Nothing,Nothing,Nothing,Nothing,Nothing,Nothing,Nothing,Nothing},Array{Quantity{Float64,Unitful.Dimensions{(Unitful.Dimension{:Length}(1//1), Unitful.Dimension{:Mass}(1//1), Unitful.Dimension{:Time}(-2//1))},Unitful.FreeUnits{(Unitful.Unit{:Newton,Unitful.Dimensions{(Unitful.Dimension{:Length}(1//1), Unitful.Dimension{:Mass}(1//1), Unitful.Dimension{:Time}(-2//1))}}(0, 1//1),),Unitful.Dimensions{(Unitful.Dimension{:Length}(1//1), Unitful.Dimension{:Mass}(1//1), Unitful.Dimension{:Time}(-2//1))}}},1},Array{Quantity{Float64,Unitful.Dimensions{(Unitful.Dimension{:Time}(1//1),)},Unitful.FreeUnits{(Unitful.Unit{:Second,Unitful.Dimensions{(Unitful.Dimension{:Time}(1//1),)}}(0, 1//1),),Unitful.Dimensions{(Unitful.Dimension{:Time}(1//1),)}}},1},Array{Array{Quantity{Float64,Unitful.Dimensions{(Unitful.Dimension{:Length}(1//1), Unitful.Dimension{:Mass}(1//1), Unitful.Dimension{:Time}(-3//1))},Unitful.FreeUnits{(Unitful.Unit{:Newton,Unitful.Dimensions{(Unitful.Dimension{:Length}(1//1), Unitful.Dimension{:Mass}(1//1), Unitful.Dimension{:Time}(-2//1))}}(0, 1//1), Unitful.Unit{:Second,Unitful.Dimensions{(Unitful.Dimension{:Time}(1//1),)}}(0, -1//1)),Unitful.Dimensions{(Unitful.Dimension{:Length}(1//1), Unitful.Dimension{:Mass}(1//1), Unitful.Dimension{:Time}(-3//1))}}},1},1},OrdinaryDiffEq.Tsit5ConstantCache{Float64,Float64}}},ODEFunction{false,typeof(f),LinearAlgebra.UniformScaling{Bool},Nothing,Nothing,Nothing,Nothing,Nothing,Nothing,Nothing,Nothing},OrdinaryDiffEq.Tsit5ConstantCache{Float64,Float64},OrdinaryDiffEq.DEOptions{Quantity{Float64,Unitful.Dimensions{(Unitful.Dimension{:Length}(1//1), Unitful.Dimension{:Mass}(1//1), Unitful.Dimension{:Time}(-2//1))},Unitful.FreeUnits{(Unitful.Unit{:Newton,Unitful.Dimensions{(Unitful.Dimension{:Length}(1//1), Unitful.Dimension{:Mass}(1//1), Unitful.Dimension{:Time}(-2//1))}}(0, 1//1),),Unitful.Dimensions{(Unitful.Dimension{:Length}(1//1), Unitful.Dimension{:Mass}(1//1), Unitful.Dimension{:Time}(-2//1))}}},Float64,Float64,Quantity{Float64,Unitful.Dimensions{(Unitful.Dimension{:Time}(1//1),)},Unitful.FreeUnits{(Unitful.Unit{:Second,Unitful.Dimensions{(Unitful.Dimension{:Time}(1//1),)}}(0, 1//1),),Unitful.Dimensions{(Unitful.Dimension{:Time}(1//1),)}}},typeof(DiffEqBase.ODE_DEFAULT_NORM),typeof(LinearAlgebra.opnorm),CallbackSet{Tuple{},Tuple{}},typeof(DiffEqBase.ODE_DEFAULT_ISOUTOFDOMAIN),typeof(DiffEqBase.ODE_DEFAULT_PROG_MESSAGE),typeof(DiffEqBase.ODE_DEFAULT_UNSTABLE_CHECK),DataStructures.BinaryHeap{Quantity{Float64,Unitful.Dimensions{(Unitful.Dimension{:Time}(1//1),)},Unitful.FreeUnits{(Unitful.Unit{:Second,Unitful.Dimensions{(Unitful.Dimension{:Time}(1//1),)}}(0, 1//1),),Unitful.Dimensions{(Unitful.Dimension{:Time}(1//1),)}}},DataStructures.LessThan},DataStructures.BinaryHeap{Quantity{Float64,Unitful.Dimensions{(Unitful.Dimension{:Time}(1//1),)},Unitful.FreeUnits{(Unitful.Unit{:Second,Unitful.Dimensions{(Unitful.Dimension{:Time}(1//1),)}}(0, 1//1),),Unitful.Dimensions{(Unitful.Dimension{:Time}(1//1),)}}},DataStructures.LessThan},Nothing,Nothing,Int64,Array{Quantity{Float64,Unitful.Dimensions{(Unitful.Dimension{:Time}(1//1),)},Unitful.FreeUnits{(Unitful.Unit{:Second,Unitful.Dimensions{(Unitful.Dimension{:Time}(1//1),)}}(0, 1//1),),Unitful.Dimensions{(Unitful.Dimension{:Time}(1//1),)}}},1},Array{Quantity{Float64,Unitful.Dimensions{(Unitful.Dimension{:Time}(1//1),)},Unitful.FreeUnits{(Unitful.Unit{:Second,Unitful.Dimensions{(Unitful.Dimension{:Time}(1//1),)}}(0, 1//1),),Unitful.Dimensions{(Unitful.Dimension{:Time}(1//1),)}}},1},Array{Quantity{Float64,Unitful.Dimensions{(Unitful.Dimension{:Time}(1//1),)},Unitful.FreeUnits{(Unitful.Unit{:Second,Unitful.Dimensions{(Unitful.Dimension{:Time}(1//1),)}}(0, 1//1),),Unitful.Dimensions{(Unitful.Dimension{:Time}(1//1),)}}},1}},Quantity{Float64,Unitful.Dimensions{(Unitful.Dimension{:Length}(1//1), Unitful.Dimension{:Mass}(1//1), Unitful.Dimension{:Time}(-3//1))},Unitful.FreeUnits{(Unitful.Unit{:Newton,Unitful.Dimensions{(Unitful.Dimension{:Length}(1//1), Unitful.Dimension{:Mass}(1//1), Unitful.Dimension{:Time}(-2//1))}}(0, 1//1), Unitful.Unit{:Second,Unitful.Dimensions{(Unitful.Dimension{:Time}(1//1),)}}(0, -1//1)),Unitful.Dimensions{(Unitful.Dimension{:Length}(1//1), Unitful.Dimension{:Mass}(1//1), Unitful.Dimension{:Time}(-3//1))}}}}, ::Symbol, ::Quantity{Float64,Unitful.Dimensions{(Unitful.Dimension{:Length}(2//1), Unitful.Dimension{:Mass}(2//1), Unitful.Dimension{:Time}(-5//1))},Unitful.FreeUnits{(Unitful.Unit{:Newton,Unitful.Dimensions{(Unitful.Dimension{:Length}(1//1), Unitful.Dimension{:Mass}(1//1), Unitful.Dimension{:Time}(-2//1))}}(0, 2//1), Unitful.Unit{:Second,Unitful.Dimensions{(Unitful.Dimension{:Time}(1//1),)}}(0, -1//1)),Unitful.Dimensions{(Unitful.Dimension{:Length}(2//1), Unitful.Dimension{:Mass}(2//1), Unitful.Dimension{:Time}(-5//1))}}}) at .\\sysimg.jl:19",
      " [3] initialize!(::OrdinaryDiffEq.ODEIntegrator{Tsit5,Quantity{Float64,Unitful.Dimensions{(Unitful.Dimension{:Length}(1//1), Unitful.Dimension{:Mass}(1//1), Unitful.Dimension{:Time}(-2//1))},Unitful.FreeUnits{(Unitful.Unit{:Newton,Unitful.Dimensions{(Unitful.Dimension{:Length}(1//1), Unitful.Dimension{:Mass}(1//1), Unitful.Dimension{:Time}(-2//1))}}(0, 1//1),),Unitful.Dimensions{(Unitful.Dimension{:Length}(1//1), Unitful.Dimension{:Mass}(1//1), Unitful.Dimension{:Time}(-2//1))}}},Quantity{Float64,Unitful.Dimensions{(Unitful.Dimension{:Time}(1//1),)},Unitful.FreeUnits{(Unitful.Unit{:Second,Unitful.Dimensions{(Unitful.Dimension{:Time}(1//1),)}}(0, 1//1),),Unitful.Dimensions{(Unitful.Dimension{:Time}(1//1),)}}},Nothing,Quantity{Float64,Unitful.Dimensions{(Unitful.Dimension{:Time}(-1//1),)},Unitful.FreeUnits{(Unitful.Unit{:Second,Unitful.Dimensions{(Unitful.Dimension{:Time}(1//1),)}}(0, -1//1),),Unitful.Dimensions{(Unitful.Dimension{:Time}(-1//1),)}}},Float64,Float64,Array{Quantity{Float64,Unitful.Dimensions{(Unitful.Dimension{:Length}(1//1), Unitful.Dimension{:Mass}(1//1), Unitful.Dimension{:Time}(-3//1))},Unitful.FreeUnits{(Unitful.Unit{:Newton,Unitful.Dimensions{(Unitful.Dimension{:Length}(1//1), Unitful.Dimension{:Mass}(1//1), Unitful.Dimension{:Time}(-2//1))}}(0, 1//1), Unitful.Unit{:Second,Unitful.Dimensions{(Unitful.Dimension{:Time}(1//1),)}}(0, -1//1)),Unitful.Dimensions{(Unitful.Dimension{:Length}(1//1), Unitful.Dimension{:Mass}(1//1), Unitful.Dimension{:Time}(-3//1))}}},1},ODESolution{Quantity{Float64,Unitful.Dimensions{(Unitful.Dimension{:Length}(1//1), Unitful.Dimension{:Mass}(1//1), Unitful.Dimension{:Time}(-2//1))},Unitful.FreeUnits{(Unitful.Unit{:Newton,Unitful.Dimensions{(Unitful.Dimension{:Length}(1//1), Unitful.Dimension{:Mass}(1//1), Unitful.Dimension{:Time}(-2//1))}}(0, 1//1),),Unitful.Dimensions{(Unitful.Dimension{:Length}(1//1), Unitful.Dimension{:Mass}(1//1), Unitful.Dimension{:Time}(-2//1))}}},1,Array{Quantity{Float64,Unitful.Dimensions{(Unitful.Dimension{:Length}(1//1), Unitful.Dimension{:Mass}(1//1), Unitful.Dimension{:Time}(-2//1))},Unitful.FreeUnits{(Unitful.Unit{:Newton,Unitful.Dimensions{(Unitful.Dimension{:Length}(1//1), Unitful.Dimension{:Mass}(1//1), Unitful.Dimension{:Time}(-2//1))}}(0, 1//1),),Unitful.Dimensions{(Unitful.Dimension{:Length}(1//1), Unitful.Dimension{:Mass}(1//1), Unitful.Dimension{:Time}(-2//1))}}},1},Nothing,Nothing,Array{Quantity{Float64,Unitful.Dimensions{(Unitful.Dimension{:Time}(1//1),)},Unitful.FreeUnits{(Unitful.Unit{:Second,Unitful.Dimensions{(Unitful.Dimension{:Time}(1//1),)}}(0, 1//1),),Unitful.Dimensions{(Unitful.Dimension{:Time}(1//1),)}}},1},Array{Array{Quantity{Float64,Unitful.Dimensions{(Unitful.Dimension{:Length}(1//1), Unitful.Dimension{:Mass}(1//1), Unitful.Dimension{:Time}(-3//1))},Unitful.FreeUnits{(Unitful.Unit{:Newton,Unitful.Dimensions{(Unitful.Dimension{:Length}(1//1), Unitful.Dimension{:Mass}(1//1), Unitful.Dimension{:Time}(-2//1))}}(0, 1//1), Unitful.Unit{:Second,Unitful.Dimensions{(Unitful.Dimension{:Time}(1//1),)}}(0, -1//1)),Unitful.Dimensions{(Unitful.Dimension{:Length}(1//1), Unitful.Dimension{:Mass}(1//1), Unitful.Dimension{:Time}(-3//1))}}},1},1},ODEProblem{Quantity{Float64,Unitful.Dimensions{(Unitful.Dimension{:Length}(1//1), Unitful.Dimension{:Mass}(1//1), Unitful.Dimension{:Time}(-2//1))},Unitful.FreeUnits{(Unitful.Unit{:Newton,Unitful.Dimensions{(Unitful.Dimension{:Length}(1//1), Unitful.Dimension{:Mass}(1//1), Unitful.Dimension{:Time}(-2//1))}}(0, 1//1),),Unitful.Dimensions{(Unitful.Dimension{:Length}(1//1), Unitful.Dimension{:Mass}(1//1), Unitful.Dimension{:Time}(-2//1))}}},Tuple{Quantity{Float64,Unitful.Dimensions{(Unitful.Dimension{:Time}(1//1),)},Unitful.FreeUnits{(Unitful.Unit{:Second,Unitful.Dimensions{(Unitful.Dimension{:Time}(1//1),)}}(0, 1//1),),Unitful.Dimensions{(Unitful.Dimension{:Time}(1//1),)}}},Quantity{Float64,Unitful.Dimensions{(Unitful.Dimension{:Time}(1//1),)},Unitful.FreeUnits{(Unitful.Unit{:Second,Unitful.Dimensions{(Unitful.Dimension{:Time}(1//1),)}}(0, 1//1),),Unitful.Dimensions{(Unitful.Dimension{:Time}(1//1),)}}}},false,Nothing,ODEFunction{false,typeof(f),LinearAlgebra.UniformScaling{Bool},Nothing,Nothing,Nothing,Nothing,Nothing,Nothing,Nothing,Nothing},Nothing,DiffEqBase.StandardODEProblem},Tsit5,OrdinaryDiffEq.InterpolationData{ODEFunction{false,typeof(f),LinearAlgebra.UniformScaling{Bool},Nothing,Nothing,Nothing,Nothing,Nothing,Nothing,Nothing,Nothing},Array{Quantity{Float64,Unitful.Dimensions{(Unitful.Dimension{:Length}(1//1), Unitful.Dimension{:Mass}(1//1), Unitful.Dimension{:Time}(-2//1))},Unitful.FreeUnits{(Unitful.Unit{:Newton,Unitful.Dimensions{(Unitful.Dimension{:Length}(1//1), Unitful.Dimension{:Mass}(1//1), Unitful.Dimension{:Time}(-2//1))}}(0, 1//1),),Unitful.Dimensions{(Unitful.Dimension{:Length}(1//1), Unitful.Dimension{:Mass}(1//1), Unitful.Dimension{:Time}(-2//1))}}},1},Array{Quantity{Float64,Unitful.Dimensions{(Unitful.Dimension{:Time}(1//1),)},Unitful.FreeUnits{(Unitful.Unit{:Second,Unitful.Dimensions{(Unitful.Dimension{:Time}(1//1),)}}(0, 1//1),),Unitful.Dimensions{(Unitful.Dimension{:Time}(1//1),)}}},1},Array{Array{Quantity{Float64,Unitful.Dimensions{(Unitful.Dimension{:Length}(1//1), Unitful.Dimension{:Mass}(1//1), Unitful.Dimension{:Time}(-3//1))},Unitful.FreeUnits{(Unitful.Unit{:Newton,Unitful.Dimensions{(Unitful.Dimension{:Length}(1//1), Unitful.Dimension{:Mass}(1//1), Unitful.Dimension{:Time}(-2//1))}}(0, 1//1), Unitful.Unit{:Second,Unitful.Dimensions{(Unitful.Dimension{:Time}(1//1),)}}(0, -1//1)),Unitful.Dimensions{(Unitful.Dimension{:Length}(1//1), Unitful.Dimension{:Mass}(1//1), Unitful.Dimension{:Time}(-3//1))}}},1},1},OrdinaryDiffEq.Tsit5ConstantCache{Float64,Float64}}},ODEFunction{false,typeof(f),LinearAlgebra.UniformScaling{Bool},Nothing,Nothing,Nothing,Nothing,Nothing,Nothing,Nothing,Nothing},OrdinaryDiffEq.Tsit5ConstantCache{Float64,Float64},OrdinaryDiffEq.DEOptions{Quantity{Float64,Unitful.Dimensions{(Unitful.Dimension{:Length}(1//1), Unitful.Dimension{:Mass}(1//1), Unitful.Dimension{:Time}(-2//1))},Unitful.FreeUnits{(Unitful.Unit{:Newton,Unitful.Dimensions{(Unitful.Dimension{:Length}(1//1), Unitful.Dimension{:Mass}(1//1), Unitful.Dimension{:Time}(-2//1))}}(0, 1//1),),Unitful.Dimensions{(Unitful.Dimension{:Length}(1//1), Unitful.Dimension{:Mass}(1//1), Unitful.Dimension{:Time}(-2//1))}}},Float64,Float64,Quantity{Float64,Unitful.Dimensions{(Unitful.Dimension{:Time}(1//1),)},Unitful.FreeUnits{(Unitful.Unit{:Second,Unitful.Dimensions{(Unitful.Dimension{:Time}(1//1),)}}(0, 1//1),),Unitful.Dimensions{(Unitful.Dimension{:Time}(1//1),)}}},typeof(DiffEqBase.ODE_DEFAULT_NORM),typeof(LinearAlgebra.opnorm),CallbackSet{Tuple{},Tuple{}},typeof(DiffEqBase.ODE_DEFAULT_ISOUTOFDOMAIN),typeof(DiffEqBase.ODE_DEFAULT_PROG_MESSAGE),typeof(DiffEqBase.ODE_DEFAULT_UNSTABLE_CHECK),DataStructures.BinaryHeap{Quantity{Float64,Unitful.Dimensions{(Unitful.Dimension{:Time}(1//1),)},Unitful.FreeUnits{(Unitful.Unit{:Second,Unitful.Dimensions{(Unitful.Dimension{:Time}(1//1),)}}(0, 1//1),),Unitful.Dimensions{(Unitful.Dimension{:Time}(1//1),)}}},DataStructures.LessThan},DataStructures.BinaryHeap{Quantity{Float64,Unitful.Dimensions{(Unitful.Dimension{:Time}(1//1),)},Unitful.FreeUnits{(Unitful.Unit{:Second,Unitful.Dimensions{(Unitful.Dimension{:Time}(1//1),)}}(0, 1//1),),Unitful.Dimensions{(Unitful.Dimension{:Time}(1//1),)}}},DataStructures.LessThan},Nothing,Nothing,Int64,Array{Quantity{Float64,Unitful.Dimensions{(Unitful.Dimension{:Time}(1//1),)},Unitful.FreeUnits{(Unitful.Unit{:Second,Unitful.Dimensions{(Unitful.Dimension{:Time}(1//1),)}}(0, 1//1),),Unitful.Dimensions{(Unitful.Dimension{:Time}(1//1),)}}},1},Array{Quantity{Float64,Unitful.Dimensions{(Unitful.Dimension{:Time}(1//1),)},Unitful.FreeUnits{(Unitful.Unit{:Second,Unitful.Dimensions{(Unitful.Dimension{:Time}(1//1),)}}(0, 1//1),),Unitful.Dimensions{(Unitful.Dimension{:Time}(1//1),)}}},1},Array{Quantity{Float64,Unitful.Dimensions{(Unitful.Dimension{:Time}(1//1),)},Unitful.FreeUnits{(Unitful.Unit{:Second,Unitful.Dimensions{(Unitful.Dimension{:Time}(1//1),)}}(0, 1//1),),Unitful.Dimensions{(Unitful.Dimension{:Time}(1//1),)}}},1}},Quantity{Float64,Unitful.Dimensions{(Unitful.Dimension{:Length}(1//1), Unitful.Dimension{:Mass}(1//1), Unitful.Dimension{:Time}(-3//1))},Unitful.FreeUnits{(Unitful.Unit{:Newton,Unitful.Dimensions{(Unitful.Dimension{:Length}(1//1), Unitful.Dimension{:Mass}(1//1), Unitful.Dimension{:Time}(-2//1))}}(0, 1//1), Unitful.Unit{:Second,Unitful.Dimensions{(Unitful.Dimension{:Time}(1//1),)}}(0, -1//1)),Unitful.Dimensions{(Unitful.Dimension{:Length}(1//1), Unitful.Dimension{:Mass}(1//1), Unitful.Dimension{:Time}(-3//1))}}}}, ::OrdinaryDiffEq.Tsit5ConstantCache{Float64,Float64}) at C:\\Users\\carsten\\.julia\\packages\\OrdinaryDiffEq\\d47lJ\\src\\perform_step\\low_order_rk_perform_step.jl:524",
      " [4] #__init#203(::Int64, ::Array{Quantity{Float64,Unitful.Dimensions{(Unitful.Dimension{:Time}(1//1),)},Unitful.FreeUnits{(Unitful.Unit{:Second,Unitful.Dimensions{(Unitful.Dimension{:Time}(1//1),)}}(0, 1//1),),Unitful.Dimensions{(Unitful.Dimension{:Time}(1//1),)}}},1}, ::Array{Quantity{Float64,Unitful.Dimensions{(Unitful.Dimension{:Time}(1//1),)},Unitful.FreeUnits{(Unitful.Unit{:Second,Unitful.Dimensions{(Unitful.Dimension{:Time}(1//1),)}}(0, 1//1),),Unitful.Dimensions{(Unitful.Dimension{:Time}(1//1),)}}},1}, ::Array{Quantity{Float64,Unitful.Dimensions{(Unitful.Dimension{:Time}(1//1),)},Unitful.FreeUnits{(Unitful.Unit{:Second,Unitful.Dimensions{(Unitful.Dimension{:Time}(1//1),)}}(0, 1//1),),Unitful.Dimensions{(Unitful.Dimension{:Time}(1//1),)}}},1}, ::Nothing, ::Bool, ::Nothing, ::Bool, ::Bool, ::Nothing, ::Bool, ::Bool, ::Quantity{Float64,Unitful.Dimensions{(Unitful.Dimension{:Time}(1//1),)},Unitful.FreeUnits{(Unitful.Unit{:Second,Unitful.Dimensions{(Unitful.Dimension{:Time}(1//1),)}}(0, 1//1),),Unitful.Dimensions{(Unitful.Dimension{:Time}(1//1),)}}}, ::Bool, ::Rational{Int64}, ::Nothing, ::Nothing, ::Int64, ::Rational{Int64}, ::Int64, ::Int64, ::Rational{Int64}, ::Bool, ::Int64, ::Nothing, ::Nothing, ::Int64, ::Quantity{Float64,Unitful.Dimensions{(Unitful.Dimension{:Time}(1//1),)},Unitful.FreeUnits{(Unitful.Unit{:Second,Unitful.Dimensions{(Unitful.Dimension{:Time}(1//1),)}}(0, 1//1),),Unitful.Dimensions{(Unitful.Dimension{:Time}(1//1),)}}}, ::Float64, ::typeof(DiffEqBase.ODE_DEFAULT_NORM), ::typeof(LinearAlgebra.opnorm), ::typeof(DiffEqBase.ODE_DEFAULT_ISOUTOFDOMAIN), ::typeof(DiffEqBase.ODE_DEFAULT_UNSTABLE_CHECK), ::Bool, ::Bool, ::Bool, ::Bool, ::Bool, ::Bool, ::Bool, ::Bool, ::Int64, ::String, ::typeof(DiffEqBase.ODE_DEFAULT_PROG_MESSAGE), ::Nothing, ::Bool, ::Bool, ::Base.Iterators.Pairs{Union{},Union{},Tuple{},NamedTuple{(),Tuple{}}}, ::typeof(DiffEqBase.__init), ::ODEProblem{Quantity{Float64,Unitful.Dimensions{(Unitful.Dimension{:Length}(1//1), Unitful.Dimension{:Mass}(1//1), Unitful.Dimension{:Time}(-2//1))},Unitful.FreeUnits{(Unitful.Unit{:Newton,Unitful.Dimensions{(Unitful.Dimension{:Length}(1//1), Unitful.Dimension{:Mass}(1//1), Unitful.Dimension{:Time}(-2//1))}}(0, 1//1),),Unitful.Dimensions{(Unitful.Dimension{:Length}(1//1), Unitful.Dimension{:Mass}(1//1), Unitful.Dimension{:Time}(-2//1))}}},Tuple{Quantity{Float64,Unitful.Dimensions{(Unitful.Dimension{:Time}(1//1),)},Unitful.FreeUnits{(Unitful.Unit{:Second,Unitful.Dimensions{(Unitful.Dimension{:Time}(1//1),)}}(0, 1//1),),Unitful.Dimensions{(Unitful.Dimension{:Time}(1//1),)}}},Quantity{Float64,Unitful.Dimensions{(Unitful.Dimension{:Time}(1//1),)},Unitful.FreeUnits{(Unitful.Unit{:Second,Unitful.Dimensions{(Unitful.Dimension{:Time}(1//1),)}}(0, 1//1),),Unitful.Dimensions{(Unitful.Dimension{:Time}(1//1),)}}}},false,Nothing,ODEFunction{false,typeof(f),LinearAlgebra.UniformScaling{Bool},Nothing,Nothing,Nothing,Nothing,Nothing,Nothing,Nothing,Nothing},Nothing,DiffEqBase.StandardODEProblem}, ::Tsit5, ::Array{Any,1}, ::Array{Any,1}, ::Array{Any,1}, ::Type{Val{true}}) at C:\\Users\\carsten\\.julia\\packages\\OrdinaryDiffEq\\d47lJ\\src\\solve.jl:256",
      " [5] __init(::ODEProblem{Quantity{Float64,Unitful.Dimensions{(Unitful.Dimension{:Length}(1//1), Unitful.Dimension{:Mass}(1//1), Unitful.Dimension{:Time}(-2//1))},Unitful.FreeUnits{(Unitful.Unit{:Newton,Unitful.Dimensions{(Unitful.Dimension{:Length}(1//1), Unitful.Dimension{:Mass}(1//1), Unitful.Dimension{:Time}(-2//1))}}(0, 1//1),),Unitful.Dimensions{(Unitful.Dimension{:Length}(1//1), Unitful.Dimension{:Mass}(1//1), Unitful.Dimension{:Time}(-2//1))}}},Tuple{Quantity{Float64,Unitful.Dimensions{(Unitful.Dimension{:Time}(1//1),)},Unitful.FreeUnits{(Unitful.Unit{:Second,Unitful.Dimensions{(Unitful.Dimension{:Time}(1//1),)}}(0, 1//1),),Unitful.Dimensions{(Unitful.Dimension{:Time}(1//1),)}}},Quantity{Float64,Unitful.Dimensions{(Unitful.Dimension{:Time}(1//1),)},Unitful.FreeUnits{(Unitful.Unit{:Second,Unitful.Dimensions{(Unitful.Dimension{:Time}(1//1),)}}(0, 1//1),),Unitful.Dimensions{(Unitful.Dimension{:Time}(1//1),)}}}},false,Nothing,ODEFunction{false,typeof(f),LinearAlgebra.UniformScaling{Bool},Nothing,Nothing,Nothing,Nothing,Nothing,Nothing,Nothing,Nothing},Nothing,DiffEqBase.StandardODEProblem}, ::Tsit5, ::Array{Any,1}, ::Array{Any,1}, ::Array{Any,1}, ::Type{Val{true}}) at C:\\Users\\carsten\\.julia\\packages\\OrdinaryDiffEq\\d47lJ\\src\\solve.jl:61",
      " [6] #__solve#202(::Base.Iterators.Pairs{Union{},Union{},Tuple{},NamedTuple{(),Tuple{}}}, ::Function, ::ODEProblem{Quantity{Float64,Unitful.Dimensions{(Unitful.Dimension{:Length}(1//1), Unitful.Dimension{:Mass}(1//1), Unitful.Dimension{:Time}(-2//1))},Unitful.FreeUnits{(Unitful.Unit{:Newton,Unitful.Dimensions{(Unitful.Dimension{:Length}(1//1), Unitful.Dimension{:Mass}(1//1), Unitful.Dimension{:Time}(-2//1))}}(0, 1//1),),Unitful.Dimensions{(Unitful.Dimension{:Length}(1//1), Unitful.Dimension{:Mass}(1//1), Unitful.Dimension{:Time}(-2//1))}}},Tuple{Quantity{Float64,Unitful.Dimensions{(Unitful.Dimension{:Time}(1//1),)},Unitful.FreeUnits{(Unitful.Unit{:Second,Unitful.Dimensions{(Unitful.Dimension{:Time}(1//1),)}}(0, 1//1),),Unitful.Dimensions{(Unitful.Dimension{:Time}(1//1),)}}},Quantity{Float64,Unitful.Dimensions{(Unitful.Dimension{:Time}(1//1),)},Unitful.FreeUnits{(Unitful.Unit{:Second,Unitful.Dimensions{(Unitful.Dimension{:Time}(1//1),)}}(0, 1//1),),Unitful.Dimensions{(Unitful.Dimension{:Time}(1//1),)}}}},false,Nothing,ODEFunction{false,typeof(f),LinearAlgebra.UniformScaling{Bool},Nothing,Nothing,Nothing,Nothing,Nothing,Nothing,Nothing,Nothing},Nothing,DiffEqBase.StandardODEProblem}, ::Tsit5, ::Array{Any,1}, ::Array{Any,1}, ::Array{Any,1}, ::Type{Val{true}}) at C:\\Users\\carsten\\.julia\\packages\\OrdinaryDiffEq\\d47lJ\\src\\solve.jl:6",
      " [7] __solve at C:\\Users\\carsten\\.julia\\packages\\OrdinaryDiffEq\\d47lJ\\src\\solve.jl:6 [inlined] (repeats 5 times)",
      " [8] #solve#429(::Base.Iterators.Pairs{Union{},Union{},Tuple{},NamedTuple{(),Tuple{}}}, ::Function, ::ODEProblem{Quantity{Float64,Unitful.Dimensions{(Unitful.Dimension{:Length}(1//1), Unitful.Dimension{:Mass}(1//1), Unitful.Dimension{:Time}(-2//1))},Unitful.FreeUnits{(Unitful.Unit{:Newton,Unitful.Dimensions{(Unitful.Dimension{:Length}(1//1), Unitful.Dimension{:Mass}(1//1), Unitful.Dimension{:Time}(-2//1))}}(0, 1//1),),Unitful.Dimensions{(Unitful.Dimension{:Length}(1//1), Unitful.Dimension{:Mass}(1//1), Unitful.Dimension{:Time}(-2//1))}}},Tuple{Quantity{Float64,Unitful.Dimensions{(Unitful.Dimension{:Time}(1//1),)},Unitful.FreeUnits{(Unitful.Unit{:Second,Unitful.Dimensions{(Unitful.Dimension{:Time}(1//1),)}}(0, 1//1),),Unitful.Dimensions{(Unitful.Dimension{:Time}(1//1),)}}},Quantity{Float64,Unitful.Dimensions{(Unitful.Dimension{:Time}(1//1),)},Unitful.FreeUnits{(Unitful.Unit{:Second,Unitful.Dimensions{(Unitful.Dimension{:Time}(1//1),)}}(0, 1//1),),Unitful.Dimensions{(Unitful.Dimension{:Time}(1//1),)}}}},false,Nothing,ODEFunction{false,typeof(f),LinearAlgebra.UniformScaling{Bool},Nothing,Nothing,Nothing,Nothing,Nothing,Nothing,Nothing,Nothing},Nothing,DiffEqBase.StandardODEProblem}, ::Tsit5) at C:\\Users\\carsten\\.julia\\packages\\DiffEqBase\\r9HLg\\src\\solve.jl:29",
      " [9] solve(::ODEProblem{Quantity{Float64,Unitful.Dimensions{(Unitful.Dimension{:Length}(1//1), Unitful.Dimension{:Mass}(1//1), Unitful.Dimension{:Time}(-2//1))},Unitful.FreeUnits{(Unitful.Unit{:Newton,Unitful.Dimensions{(Unitful.Dimension{:Length}(1//1), Unitful.Dimension{:Mass}(1//1), Unitful.Dimension{:Time}(-2//1))}}(0, 1//1),),Unitful.Dimensions{(Unitful.Dimension{:Length}(1//1), Unitful.Dimension{:Mass}(1//1), Unitful.Dimension{:Time}(-2//1))}}},Tuple{Quantity{Float64,Unitful.Dimensions{(Unitful.Dimension{:Time}(1//1),)},Unitful.FreeUnits{(Unitful.Unit{:Second,Unitful.Dimensions{(Unitful.Dimension{:Time}(1//1),)}}(0, 1//1),),Unitful.Dimensions{(Unitful.Dimension{:Time}(1//1),)}}},Quantity{Float64,Unitful.Dimensions{(Unitful.Dimension{:Time}(1//1),)},Unitful.FreeUnits{(Unitful.Unit{:Second,Unitful.Dimensions{(Unitful.Dimension{:Time}(1//1),)}}(0, 1//1),),Unitful.Dimensions{(Unitful.Dimension{:Time}(1//1),)}}}},false,Nothing,ODEFunction{false,typeof(f),LinearAlgebra.UniformScaling{Bool},Nothing,Nothing,Nothing,Nothing,Nothing,Nothing,Nothing,Nothing},Nothing,DiffEqBase.StandardODEProblem}, ::Tsit5) at C:\\Users\\carsten\\.julia\\packages\\DiffEqBase\\r9HLg\\src\\solve.jl:21",
      " [10] top-level scope at In[4]:10"
     ]
    }
   ],
   "source": [
    "using DifferentialEquations, Unitful\n",
    "import Unitful: s, N\n",
    "\n",
    "f(y,p,t) = 0.5*y/3.0 * 1.0N/s\n",
    "u0 = 0.1N\n",
    "tspan = (0.0s,1.0s)\n",
    "\n",
    "\n",
    "prob = ODEProblem(f,u0,tspan)\n",
    "sol = solve(prob,Tsit5())"
   ]
  },
  {
   "cell_type": "markdown",
   "metadata": {},
   "source": [
    "This gives a a normal solution object. Notice that the values are all with the correct units."
   ]
  },
  {
   "cell_type": "code",
   "execution_count": 16,
   "metadata": {},
   "outputs": [
    {
     "data": {
      "image/png": "[encoded data removed]",
      "text/plain": [
       "Figure(PyObject <Figure size 640x480 with 1 Axes>)"
      ]
     },
     "metadata": {},
     "output_type": "display_data"
    }
   ],
   "source": [
    "using PyPlot\n",
    "\n",
    "plot(ustrip.(sol.t),ustrip.(sol[:]),lw=3)\n",
    "\n",
    "xlabel(\"t [$(unit(sol.t[1]))]\"); ylabel(\"y(t) [$(unit(sol[1]))]\");"
   ]
  },
  {
   "cell_type": "code",
   "execution_count": null,
   "metadata": {},
   "outputs": [],
   "source": []
  }
 ],
 "metadata": {
  "kernelspec": {
   "display_name": "Julia 1.0.0",
   "language": "julia",
   "name": "julia-1.0"
  },
  "language_info": {
   "file_extension": ".jl",
   "mimetype": "application/julia",
   "name": "julia",
   "version": "1.0.0"
  }
 },
 "nbformat": 4,
 "nbformat_minor": 2
}
