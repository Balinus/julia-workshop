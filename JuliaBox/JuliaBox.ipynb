{
 "cells": [
  {
   "cell_type": "markdown",
   "metadata": {},
   "source": [
    "# Get started with JuliaBox"
   ]
  },
  {
   "cell_type": "markdown",
   "metadata": {},
   "source": [
    "**What is Julia Box?**\n",
    "\n",
    "It is a webservice that allows you to run Julia in a browser (on remote resources)."
   ]
  },
  {
   "cell_type": "markdown",
   "metadata": {},
   "source": [
    "# GitHub account?"
   ]
  },
  {
   "cell_type": "markdown",
   "metadata": {},
   "source": [
    "I strongly recommend to get a [github](http://github.com) account. Julia itself and the whole ecosystem lives on github.\n",
    "\n",
    "But, you can also use JuliaBox with a Google or LinkedIn(?) account."
   ]
  },
  {
   "cell_type": "markdown",
   "metadata": {},
   "source": [
    "# JuliaBox"
   ]
  },
  {
   "cell_type": "markdown",
   "metadata": {},
   "source": [
    "Go to https://www.juliabox.com/ and log in with the account of your choice."
   ]
  },
  {
   "cell_type": "markdown",
   "metadata": {},
   "source": [
    "You should now see the Dashboard:"
   ]
  },
  {
   "cell_type": "markdown",
   "metadata": {},
   "source": [
    "<img src=\"./first_screen.png\">"
   ]
  },
  {
   "cell_type": "markdown",
   "metadata": {},
   "source": [
    "Click on \"Customize\" and use the first slider to set the number of CPUs to the maximum (3).\n",
    "\n",
    "Close the popup window and click on \"Launch\".\n",
    "\n",
    "The JuliaBox webpage should now basically look like jupyter (except for the top navigation bar). You can always get back to the Dashboard by clicking \"Dashboard\" in the navigation pane at the top."
   ]
  },
  {
   "cell_type": "markdown",
   "metadata": {},
   "source": [
    "# Cloning the workshops github repository"
   ]
  },
  {
   "attachments": {},
   "cell_type": "markdown",
   "metadata": {},
   "source": [
    "Switch to the Dashboard. Click on the Git button (one of the 4 buttons in the middle of the screen).\n",
    "\n",
    "Under \"Git Clone URL\", enter \"https://github.com/crstnbr/julia-workshop.git\" (without quotation marks). Then, click on the little plus sign on the right and confirm that you'd like to clone this repository."
   ]
  },
  {
   "cell_type": "markdown",
   "metadata": {},
   "source": [
    "<img src=\"cloning.png\">"
   ]
  },
  {
   "cell_type": "markdown",
   "metadata": {},
   "source": [
    "Once finished, you can switch back from the Dashboard to Jupyter (top navigation). There should now be a folder \"julia-workshop\" which contains the workshop material."
   ]
  },
  {
   "cell_type": "code",
   "execution_count": null,
   "metadata": {},
   "outputs": [],
   "source": []
  }
 ],
 "metadata": {
  "kernelspec": {
   "display_name": "Julia 1.0.0",
   "language": "julia",
   "name": "julia-1.0"
  },
  "language_info": {
   "file_extension": ".jl",
   "mimetype": "application/julia",
   "name": "julia",
   "version": "1.0.0"
  }
 },
 "nbformat": 4,
 "nbformat_minor": 2
}
