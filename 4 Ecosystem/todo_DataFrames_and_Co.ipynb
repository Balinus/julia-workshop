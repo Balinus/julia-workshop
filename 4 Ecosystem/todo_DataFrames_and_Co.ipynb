{
 "cells": [
  {
   "cell_type": "markdown",
   "metadata": {},
   "source": [
    "# DataFrames and Query"
   ]
  },
  {
   "cell_type": "markdown",
   "metadata": {},
   "source": [
    "Github: https://github.com/JuliaData/DataFrames.jl\n",
    "\n",
    "Documentation: http://juliadata.github.io/DataFrames.jl/stable/\n",
    "\n",
    "Great compact DataFrames tutorial: https://github.com/bkamins/Julia-DataFrames-Tutorial"
   ]
  },
  {
   "cell_type": "code",
   "execution_count": 2,
   "metadata": {},
   "outputs": [],
   "source": [
    "using DataFrames"
   ]
  },
  {
   "cell_type": "code",
   "execution_count": 3,
   "metadata": {},
   "outputs": [
    {
     "data": {
      "text/html": [
       "<table class=\"data-frame\"><thead><tr><th></th><th>x1</th><th>x2</th><th>x3</th><th>x4</th></tr></thead><tbody><tr><th>1</th><td>0.152351</td><td>0.291341</td><td>0.437165</td><td>0.191181</td></tr><tr><th>2</th><td>0.840498</td><td>0.344257</td><td>0.470642</td><td>0.25419</td></tr><tr><th>3</th><td>0.225158</td><td>0.45405</td><td>0.899181</td><td>0.979446</td></tr><tr><th>4</th><td>0.120921</td><td>0.62493</td><td>0.271342</td><td>0.840114</td></tr></tbody></table>"
      ],
      "text/plain": [
       "4×4 DataFrame\n",
       "│ Row │ x1       │ x2       │ x3       │ x4       │\n",
       "│     │ \u001b[90mFloat64\u001b[39m  │ \u001b[90mFloat64\u001b[39m  │ \u001b[90mFloat64\u001b[39m  │ \u001b[90mFloat64\u001b[39m  │\n",
       "├─────┼──────────┼──────────┼──────────┼──────────┤\n",
       "│ 1   │ 0.152351 │ 0.291341 │ 0.437165 │ 0.191181 │\n",
       "│ 2   │ 0.840498 │ 0.344257 │ 0.470642 │ 0.25419  │\n",
       "│ 3   │ 0.225158 │ 0.45405  │ 0.899181 │ 0.979446 │\n",
       "│ 4   │ 0.120921 │ 0.62493  │ 0.271342 │ 0.840114 │"
      ]
     },
     "execution_count": 3,
     "metadata": {},
     "output_type": "execute_result"
    }
   ],
   "source": [
    "df = DataFrame(rand(4,4))"
   ]
  },
  {
   "cell_type": "code",
   "execution_count": 6,
   "metadata": {},
   "outputs": [
    {
     "data": {
      "text/html": [
       "<table class=\"data-frame\"><thead><tr><th></th><th>x</th><th>y</th></tr></thead><tbody><tr><th>1</th><td>1</td><td>A</td></tr><tr><th>2</th><td>2</td><td>B</td></tr><tr><th>3</th><td>3</td><td>C</td></tr></tbody></table>"
      ],
      "text/plain": [
       "3×2 DataFrame\n",
       "│ Row │ x     │ y      │\n",
       "│     │ \u001b[90mInt64\u001b[39m │ \u001b[90mString\u001b[39m │\n",
       "├─────┼───────┼────────┤\n",
       "│ 1   │ 1     │ A      │\n",
       "│ 2   │ 2     │ B      │\n",
       "│ 3   │ 3     │ C      │"
      ]
     },
     "execution_count": 6,
     "metadata": {},
     "output_type": "execute_result"
    }
   ],
   "source": [
    "d = Dict(:x => [1,2,3], :y => [\"A\",\"B\",\"C\"])\n",
    "df = DataFrame(d)"
   ]
  },
  {
   "cell_type": "code",
   "execution_count": 14,
   "metadata": {},
   "outputs": [
    {
     "data": {
      "text/html": [
       "<table class=\"data-frame\"><thead><tr><th></th><th>name</th><th>age</th><th>children</th></tr></thead><tbody><tr><th>1</th><td>John</td><td>54</td><td>0</td></tr><tr><th>2</th><td>Sally</td><td>34</td><td>2</td></tr><tr><th>3</th><td>Roger</td><td>79</td><td>4</td></tr></tbody></table>"
      ],
      "text/plain": [
       "3×3 DataFrame\n",
       "│ Row │ name   │ age   │ children │\n",
       "│     │ \u001b[90mString\u001b[39m │ \u001b[90mInt64\u001b[39m │ \u001b[90mInt64\u001b[39m    │\n",
       "├─────┼────────┼───────┼──────────┤\n",
       "│ 1   │ John   │ 54    │ 0        │\n",
       "│ 2   │ Sally  │ 34    │ 2        │\n",
       "│ 3   │ Roger  │ 79    │ 4        │"
      ]
     },
     "execution_count": 14,
     "metadata": {},
     "output_type": "execute_result"
    }
   ],
   "source": [
    "df = DataFrame(name=[\"John\", \"Sally\", \"Roger\"], age=[54, 34, 79], children=[0, 2, 4])"
   ]
  },
  {
   "cell_type": "code",
   "execution_count": 15,
   "metadata": {},
   "outputs": [
    {
     "data": {
      "text/plain": [
       "3-element Array{String,1}:\n",
       " \"John\" \n",
       " \"Sally\"\n",
       " \"Roger\""
      ]
     },
     "execution_count": 15,
     "metadata": {},
     "output_type": "execute_result"
    }
   ],
   "source": [
    "df[:name]"
   ]
  },
  {
   "cell_type": "code",
   "execution_count": 16,
   "metadata": {},
   "outputs": [
    {
     "data": {
      "text/plain": [
       "3-element Array{String,1}:\n",
       " \"John\" \n",
       " \"Sally\"\n",
       " \"Roger\""
      ]
     },
     "execution_count": 16,
     "metadata": {},
     "output_type": "execute_result"
    }
   ],
   "source": [
    "df[1]"
   ]
  },
  {
   "cell_type": "code",
   "execution_count": 17,
   "metadata": {},
   "outputs": [
    {
     "data": {
      "text/plain": [
       "54"
      ]
     },
     "execution_count": 17,
     "metadata": {},
     "output_type": "execute_result"
    }
   ],
   "source": [
    "df[1,2]"
   ]
  },
  {
   "cell_type": "code",
   "execution_count": 23,
   "metadata": {},
   "outputs": [
    {
     "data": {
      "text/html": [
       "<table class=\"data-frame\"><thead><tr><th></th><th>name</th><th>age</th><th>children</th></tr></thead><tbody><tr><th>1</th><td>John</td><td>54</td><td>0</td></tr></tbody></table>"
      ],
      "text/plain": [
       "1×3 DataFrame\n",
       "│ Row │ name   │ age   │ children │\n",
       "│     │ \u001b[90mString\u001b[39m │ \u001b[90mInt64\u001b[39m │ \u001b[90mInt64\u001b[39m    │\n",
       "├─────┼────────┼───────┼──────────┤\n",
       "│ 1   │ John   │ 54    │ 0        │"
      ]
     },
     "execution_count": 23,
     "metadata": {},
     "output_type": "execute_result"
    }
   ],
   "source": [
    "df[2,:]"
   ]
  },
  {
   "cell_type": "code",
   "execution_count": 18,
   "metadata": {},
   "outputs": [
    {
     "data": {
      "text/html": [
       "<table class=\"data-frame\"><thead><tr><th></th><th>name</th><th>age</th><th>children</th></tr></thead><tbody><tr><th>1</th><td>Sally</td><td>34</td><td>2</td></tr><tr><th>2</th><td>John</td><td>54</td><td>0</td></tr><tr><th>3</th><td>Roger</td><td>79</td><td>4</td></tr></tbody></table>"
      ],
      "text/plain": [
       "3×3 DataFrame\n",
       "│ Row │ name   │ age   │ children │\n",
       "│     │ \u001b[90mString\u001b[39m │ \u001b[90mInt64\u001b[39m │ \u001b[90mInt64\u001b[39m    │\n",
       "├─────┼────────┼───────┼──────────┤\n",
       "│ 1   │ Sally  │ 34    │ 2        │\n",
       "│ 2   │ John   │ 54    │ 0        │\n",
       "│ 3   │ Roger  │ 79    │ 4        │"
      ]
     },
     "execution_count": 18,
     "metadata": {},
     "output_type": "execute_result"
    }
   ],
   "source": [
    "sort!(df, :age)"
   ]
  },
  {
   "cell_type": "markdown",
   "metadata": {},
   "source": [
    "Get infos about a DataFrame"
   ]
  },
  {
   "cell_type": "code",
   "execution_count": 20,
   "metadata": {},
   "outputs": [
    {
     "data": {
      "text/plain": [
       "3-element Array{Symbol,1}:\n",
       " :name    \n",
       " :age     \n",
       " :children"
      ]
     },
     "execution_count": 20,
     "metadata": {},
     "output_type": "execute_result"
    }
   ],
   "source": [
    "names(df)"
   ]
  },
  {
   "cell_type": "code",
   "execution_count": 21,
   "metadata": {},
   "outputs": [
    {
     "data": {
      "text/plain": [
       "3"
      ]
     },
     "execution_count": 21,
     "metadata": {},
     "output_type": "execute_result"
    }
   ],
   "source": [
    "nrow(df)"
   ]
  },
  {
   "cell_type": "code",
   "execution_count": 19,
   "metadata": {},
   "outputs": [
    {
     "data": {
      "text/html": [
       "<table class=\"data-frame\"><thead><tr><th></th><th>variable</th><th>mean</th><th>min</th><th>median</th><th>max</th><th>nunique</th><th>nmissing</th><th>eltype</th></tr></thead><tbody><tr><th>1</th><td>name</td><td></td><td>John</td><td></td><td>Sally</td><td>3</td><td></td><td>String</td></tr><tr><th>2</th><td>age</td><td>55.6667</td><td>34</td><td>54.0</td><td>79</td><td></td><td></td><td>Int64</td></tr><tr><th>3</th><td>children</td><td>2.0</td><td>0</td><td>2.0</td><td>4</td><td></td><td></td><td>Int64</td></tr></tbody></table>"
      ],
      "text/plain": [
       "3×8 DataFrame. Omitted printing of 1 columns\n",
       "│ Row │ variable │ mean    │ min  │ median │ max   │ nunique │ nmissing │\n",
       "│     │ \u001b[90mSymbol\u001b[39m   │ \u001b[90mUnion…\u001b[39m  │ \u001b[90mAny\u001b[39m  │ \u001b[90mUnion…\u001b[39m │ \u001b[90mAny\u001b[39m   │ \u001b[90mUnion…\u001b[39m  │ \u001b[90mNothing\u001b[39m  │\n",
       "├─────┼──────────┼─────────┼──────┼────────┼───────┼─────────┼──────────┤\n",
       "│ 1   │ name     │         │ John │        │ Sally │ 3       │          │\n",
       "│ 2   │ age      │ 55.6667 │ 34   │ 54.0   │ 79    │         │          │\n",
       "│ 3   │ children │ 2.0     │ 0    │ 2.0    │ 4     │         │          │"
      ]
     },
     "execution_count": 19,
     "metadata": {},
     "output_type": "execute_result"
    }
   ],
   "source": [
    "describe(df)"
   ]
  },
  {
   "cell_type": "markdown",
   "metadata": {},
   "source": [
    "Extracting parts of a DataFrame"
   ]
  },
  {
   "cell_type": "code",
   "execution_count": 25,
   "metadata": {},
   "outputs": [
    {
     "data": {
      "text/html": [
       "<table class=\"data-frame\"><thead><tr><th></th><th>name</th><th>age</th><th>children</th></tr></thead><tbody><tr><th>1</th><td>Sally</td><td>34</td><td>2</td></tr><tr><th>2</th><td>Roger</td><td>79</td><td>4</td></tr></tbody></table>"
      ],
      "text/plain": [
       "2×3 DataFrame\n",
       "│ Row │ name   │ age   │ children │\n",
       "│     │ \u001b[90mString\u001b[39m │ \u001b[90mInt64\u001b[39m │ \u001b[90mInt64\u001b[39m    │\n",
       "├─────┼────────┼───────┼──────────┤\n",
       "│ 1   │ Sally  │ 34    │ 2        │\n",
       "│ 2   │ Roger  │ 79    │ 4        │"
      ]
     },
     "execution_count": 25,
     "metadata": {},
     "output_type": "execute_result"
    }
   ],
   "source": [
    "df[df[:children].>1, :]"
   ]
  },
  {
   "cell_type": "code",
   "execution_count": 31,
   "metadata": {},
   "outputs": [
    {
     "data": {
      "text/html": [
       "<table class=\"data-frame\"><thead><tr><th></th><th>name</th><th>age</th><th>children</th></tr></thead><tbody><tr><th>1</th><td>Sally</td><td>34</td><td>2</td></tr><tr><th>2</th><td>Roger</td><td>79</td><td>4</td></tr></tbody></table>"
      ],
      "text/plain": [
       "2×3 DataFrame\n",
       "│ Row │ name   │ age   │ children │\n",
       "│     │ \u001b[90mString\u001b[39m │ \u001b[90mInt64\u001b[39m │ \u001b[90mInt64\u001b[39m    │\n",
       "├─────┼────────┼───────┼──────────┤\n",
       "│ 1   │ Sally  │ 34    │ 2        │\n",
       "│ 2   │ Roger  │ 79    │ 4        │"
      ]
     },
     "execution_count": 31,
     "metadata": {},
     "output_type": "execute_result"
    }
   ],
   "source": [
    "# for more complex queries\n",
    "using Query\n",
    "\n",
    "q = @from i in df begin\n",
    "    @where i.children > 1\n",
    "    @select i # select everything\n",
    "    @collect DataFrame # output type\n",
    "end"
   ]
  },
  {
   "cell_type": "code",
   "execution_count": 32,
   "metadata": {},
   "outputs": [
    {
     "data": {
      "text/plain": [
       "DataFrame"
      ]
     },
     "execution_count": 32,
     "metadata": {},
     "output_type": "execute_result"
    }
   ],
   "source": [
    "typeof(q)"
   ]
  },
  {
   "cell_type": "code",
   "execution_count": null,
   "metadata": {},
   "outputs": [],
   "source": []
  }
 ],
 "metadata": {
  "kernelspec": {
   "display_name": "Julia 1.0.0",
   "language": "julia",
   "name": "julia-1.0"
  },
  "language_info": {
   "file_extension": ".jl",
   "mimetype": "application/julia",
   "name": "julia",
   "version": "1.0.0"
  }
 },
 "nbformat": 4,
 "nbformat_minor": 2
}
