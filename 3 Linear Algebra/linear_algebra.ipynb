{
 "cells": [
  {
   "cell_type": "markdown",
   "metadata": {},
   "source": [
    "# Linear Algebra"
   ]
  },
  {
   "cell_type": "markdown",
   "metadata": {},
   "source": [
    "[LinearAlgebra section of the Julia documentation](https://docs.julialang.org/en/v1.0.0/stdlib/LinearAlgebra/)\n",
    "\n",
    "After `using LinearAlgebra`, Julia speaks linear algebra fluently.\n",
    "\n",
    "Linear algebra functions in Julia are largely implemented by calling functions from [BLAS](http://www.netlib.org/blas/)/[LAPACK](http://www.netlib.org/lapack/). Sparse factorizations call functions from [SuiteSparse](http://faculty.cse.tamu.edu/davis/suitesparse.html).\n",
    "\n",
    "As per default, Julia uses the [OpenBLAS](https://github.com/xianyi/OpenBLAS) implementation (BLAS, LAPACK, LIBM), which can be replaced by [Intel's MKL](https://software.intel.com/en-us/mkl) (BLAS, LAPACK) and [Intel's Math Library](https://software.intel.com/en-us/node/522653) (LIBM).\n",
    "\n",
    "What is all this stuff?!?\n",
    "\n",
    "* **BLAS**: a collection of low-level matrix and vector arithmetic operations (\"multiply two matrices\", \"multiply a matrix by vector\").\n",
    "* **LAPACK**:  a collection of higher-level linear algebra operations. Things like matrix factorizations (LU, LLt, QR, SVD, Schur, etc) that are used to do things like “find the eigenvalues of a matrix”, or “find the singular values of a matrix”, or “solve a linear system”.\n",
    "* **LIBM**: basic math functions like `sin`, `cos`, `sinh`, etcetera\n",
    "\n",
    "Sparse matrices are more difficult and there exist different collections of routines, one of which is **SuiteSparse**."
   ]
  },
  {
   "cell_type": "code",
   "execution_count": 20,
   "metadata": {},
   "outputs": [],
   "source": [
    "using LinearAlgebra"
   ]
  },
  {
   "cell_type": "code",
   "execution_count": 8,
   "metadata": {},
   "outputs": [
    {
     "data": {
      "text/plain": [
       "4×4 Array{Float64,2}:\n",
       " 0.308571  0.55441    0.378221   0.877523 \n",
       " 0.357562  0.798234   0.0787201  0.207697 \n",
       " 0.869954  0.0657306  0.313206   0.0713177\n",
       " 0.986541  0.814281   0.441768   0.26346  "
      ]
     },
     "execution_count": 8,
     "metadata": {},
     "output_type": "execute_result"
    }
   ],
   "source": [
    "A = rand(4,4)"
   ]
  },
  {
   "cell_type": "code",
   "execution_count": 9,
   "metadata": {},
   "outputs": [
    {
     "data": {
      "text/plain": [
       "Array{Float64,2}"
      ]
     },
     "execution_count": 9,
     "metadata": {},
     "output_type": "execute_result"
    }
   ],
   "source": [
    "typeof(A)"
   ]
  },
  {
   "cell_type": "code",
   "execution_count": 10,
   "metadata": {},
   "outputs": [
    {
     "data": {
      "text/plain": [
       "true"
      ]
     },
     "execution_count": 10,
     "metadata": {},
     "output_type": "execute_result"
    }
   ],
   "source": [
    "Array{Float64, 2} === Matrix{Float64} # equivalent not just equal"
   ]
  },
  {
   "cell_type": "code",
   "execution_count": 18,
   "metadata": {},
   "outputs": [
    {
     "data": {
      "text/plain": [
       "4×4 Array{Float64,2}:\n",
       " -0.0474199   2.43409    3.12083  -2.60576\n",
       " -0.336579    0.342629  -1.42338   1.23626\n",
       " -0.121251   -7.30558   -5.69018   7.70349\n",
       "  1.42115     2.07639    2.2544   -3.18505"
      ]
     },
     "execution_count": 18,
     "metadata": {},
     "output_type": "execute_result"
    }
   ],
   "source": [
    "inv(A)"
   ]
  },
  {
   "cell_type": "code",
   "execution_count": 21,
   "metadata": {},
   "outputs": [
    {
     "data": {
      "text/plain": [
       "0.0635245935265464"
      ]
     },
     "execution_count": 21,
     "metadata": {},
     "output_type": "execute_result"
    }
   ],
   "source": [
    "det(A)"
   ]
  },
  {
   "cell_type": "code",
   "execution_count": 22,
   "metadata": {},
   "outputs": [
    {
     "data": {
      "text/plain": [
       "4"
      ]
     },
     "execution_count": 22,
     "metadata": {},
     "output_type": "execute_result"
    }
   ],
   "source": [
    "rank(A)"
   ]
  },
  {
   "cell_type": "markdown",
   "metadata": {},
   "source": [
    "Taking linear algebra seriously (see for example this [great video](https://www.youtube.com/watch?v=C2RO34b_oPM) or [issue](https://github.com/JuliaLang/julia/issues/4774), [issue](https://github.com/JuliaLang/julia/issues/20978))."
   ]
  },
  {
   "cell_type": "code",
   "execution_count": 36,
   "metadata": {},
   "outputs": [
    {
     "ename": "MethodError",
     "evalue": "MethodError: no method matching +(::Array{Float64,2}, ::Int64)\nClosest candidates are:\n  +(::Any, ::Any, !Matched::Any, !Matched::Any...) at operators.jl:502\n  +(!Matched::Complex{Bool}, ::Real) at complex.jl:292\n  +(!Matched::Missing, ::Number) at missing.jl:93\n  ...",
     "output_type": "error",
     "traceback": [
      "MethodError: no method matching +(::Array{Float64,2}, ::Int64)\nClosest candidates are:\n  +(::Any, ::Any, !Matched::Any, !Matched::Any...) at operators.jl:502\n  +(!Matched::Complex{Bool}, ::Real) at complex.jl:292\n  +(!Matched::Missing, ::Number) at missing.jl:93\n  ...",
      "",
      "Stacktrace:",
      " [1] top-level scope at In[36]:1"
     ]
    }
   ],
   "source": [
    "A + 3"
   ]
  },
  {
   "cell_type": "code",
   "execution_count": 38,
   "metadata": {},
   "outputs": [
    {
     "data": {
      "text/plain": [
       "4×4 Array{Float64,2}:\n",
       " 3.30857   0.55441    0.378221   0.877523 \n",
       " 0.357562  3.79823    0.0787201  0.207697 \n",
       " 0.869954  0.0657306  3.31321    0.0713177\n",
       " 0.986541  0.814281   0.441768   3.26346  "
      ]
     },
     "execution_count": 38,
     "metadata": {},
     "output_type": "execute_result"
    }
   ],
   "source": [
    "A + 3I"
   ]
  },
  {
   "cell_type": "code",
   "execution_count": 39,
   "metadata": {},
   "outputs": [
    {
     "data": {
      "text/plain": [
       "4×4 Array{Float64,2}:\n",
       " 3.30857  3.55441  3.37822  3.87752\n",
       " 3.35756  3.79823  3.07872  3.2077 \n",
       " 3.86995  3.06573  3.31321  3.07132\n",
       " 3.98654  3.81428  3.44177  3.26346"
      ]
     },
     "execution_count": 39,
     "metadata": {},
     "output_type": "execute_result"
    }
   ],
   "source": [
    "A .+ 3"
   ]
  },
  {
   "cell_type": "markdown",
   "metadata": {},
   "source": [
    "Let's get a vector as well"
   ]
  },
  {
   "cell_type": "code",
   "execution_count": 11,
   "metadata": {},
   "outputs": [
    {
     "data": {
      "text/plain": [
       "4-element Array{Float64,1}:\n",
       " 0.4826073972459104\n",
       " 0.9373119807156252\n",
       " 0.9994912136681733\n",
       " 0.9156837953177845"
      ]
     },
     "execution_count": 11,
     "metadata": {},
     "output_type": "execute_result"
    }
   ],
   "source": [
    "v = rand(4)"
   ]
  },
  {
   "cell_type": "code",
   "execution_count": 12,
   "metadata": {},
   "outputs": [
    {
     "data": {
      "text/plain": [
       "Array{Float64,1}"
      ]
     },
     "execution_count": 12,
     "metadata": {},
     "output_type": "execute_result"
    }
   ],
   "source": [
    "typeof(v)"
   ]
  },
  {
   "cell_type": "code",
   "execution_count": 13,
   "metadata": {},
   "outputs": [
    {
     "data": {
      "text/plain": [
       "true"
      ]
     },
     "execution_count": 13,
     "metadata": {},
     "output_type": "execute_result"
    }
   ],
   "source": [
    "Array{Float64,1} === Vector{Float64}"
   ]
  },
  {
   "cell_type": "code",
   "execution_count": 23,
   "metadata": {},
   "outputs": [
    {
     "data": {
      "text/plain": [
       "1.7172428914620612"
      ]
     },
     "execution_count": 23,
     "metadata": {},
     "output_type": "execute_result"
    }
   ],
   "source": [
    "norm(v)"
   ]
  },
  {
   "cell_type": "code",
   "execution_count": 41,
   "metadata": {},
   "outputs": [
    {
     "ename": "MethodError",
     "evalue": "MethodError: no method matching ^(::Array{Float64,1}, ::Int64)\nClosest candidates are:\n  ^(!Matched::Float16, ::Integer) at math.jl:782\n  ^(!Matched::Missing, ::Integer) at missing.jl:120\n  ^(!Matched::Missing, ::Number) at missing.jl:93\n  ...",
     "output_type": "error",
     "traceback": [
      "MethodError: no method matching ^(::Array{Float64,1}, ::Int64)\nClosest candidates are:\n  ^(!Matched::Float16, ::Integer) at math.jl:782\n  ^(!Matched::Missing, ::Integer) at missing.jl:120\n  ^(!Matched::Missing, ::Number) at missing.jl:93\n  ...",
      "",
      "Stacktrace:",
      " [1] macro expansion at .\\none:0 [inlined]",
      " [2] literal_pow(::typeof(^), ::Array{Float64,1}, ::Val{2}) at .\\none:0",
      " [3] top-level scope at In[41]:1"
     ]
    }
   ],
   "source": [
    "v^2"
   ]
  },
  {
   "cell_type": "code",
   "execution_count": 58,
   "metadata": {},
   "outputs": [
    {
     "data": {
      "text/plain": [
       "4-element Array{Float64,1}:\n",
       " 0.23290989987647195\n",
       " 0.8785537491930485 \n",
       " 0.9989826861998781 \n",
       " 0.8384768130075824 "
      ]
     },
     "execution_count": 58,
     "metadata": {},
     "output_type": "execute_result"
    }
   ],
   "source": [
    "v.^2"
   ]
  },
  {
   "cell_type": "markdown",
   "metadata": {},
   "source": [
    "Some things might be suprising"
   ]
  },
  {
   "cell_type": "code",
   "execution_count": 44,
   "metadata": {},
   "outputs": [
    {
     "data": {
      "text/plain": [
       "1×4 Transpose{Float64,Array{Float64,1}}:\n",
       " 0.163655  0.317849  0.338934  0.310515"
      ]
     },
     "execution_count": 44,
     "metadata": {},
     "output_type": "execute_result"
    }
   ],
   "source": [
    "1/v"
   ]
  },
  {
   "cell_type": "markdown",
   "metadata": {},
   "source": [
    "But if it works, there is typically meaning to it. In this case it is calculating the [Moore-Penrose-Pseudoinverse](https://en.wikipedia.org/wiki/Moore%E2%80%93Penrose_inverse#Vectors) (`transpose(v)/sum(abs2,v)`)."
   ]
  },
  {
   "cell_type": "markdown",
   "metadata": {},
   "source": [
    "# Solving a linear system `Ax = b`"
   ]
  },
  {
   "cell_type": "code",
   "execution_count": 138,
   "metadata": {},
   "outputs": [
    {
     "data": {
      "text/plain": [
       "3×3 Array{Int64,2}:\n",
       "  1   3  4\n",
       " 10  10  9\n",
       "  6   1  8"
      ]
     },
     "execution_count": 138,
     "metadata": {},
     "output_type": "execute_result"
    }
   ],
   "source": [
    "A = rand(1:10, 3, 3)"
   ]
  },
  {
   "cell_type": "code",
   "execution_count": 141,
   "metadata": {},
   "outputs": [
    {
     "data": {
      "text/plain": [
       "3-element Array{Float64,1}:\n",
       " 0.9094533679558146 \n",
       " 0.21370769840394388\n",
       " 0.22126613797411077"
      ]
     },
     "execution_count": 141,
     "metadata": {},
     "output_type": "execute_result"
    }
   ],
   "source": [
    "b = rand(3)"
   ]
  },
  {
   "cell_type": "markdown",
   "metadata": {},
   "source": [
    "Solve explicitly"
   ]
  },
  {
   "cell_type": "code",
   "execution_count": 147,
   "metadata": {},
   "outputs": [
    {
     "data": {
      "text/plain": [
       "3-element Array{Float64,1}:\n",
       " -0.2773940838798093 \n",
       "  0.09761285248365623\n",
       "  0.22350222359616376"
      ]
     },
     "execution_count": 147,
     "metadata": {},
     "output_type": "execute_result"
    }
   ],
   "source": [
    "inv(A)*b"
   ]
  },
  {
   "cell_type": "markdown",
   "metadata": {},
   "source": [
    "Solve by left division `\\`"
   ]
  },
  {
   "cell_type": "code",
   "execution_count": 146,
   "metadata": {},
   "outputs": [
    {
     "data": {
      "text/plain": [
       "3-element Array{Float64,1}:\n",
       " -0.27739408387980924\n",
       "  0.0976128524836564 \n",
       "  0.22350222359616365"
      ]
     },
     "execution_count": 146,
     "metadata": {},
     "output_type": "execute_result"
    }
   ],
   "source": [
    "A\\b"
   ]
  },
  {
   "cell_type": "code",
   "execution_count": 150,
   "metadata": {},
   "outputs": [
    {
     "name": "stdout",
     "output_type": "stream",
     "text": [
      "  671.140 ns (7 allocations: 2.25 KiB)\n",
      "  229.867 ns (4 allocations: 416 bytes)\n"
     ]
    }
   ],
   "source": [
    "@btime inv($A)*$b;\n",
    "@btime $A\\$b;"
   ]
  },
  {
   "cell_type": "markdown",
   "metadata": {},
   "source": [
    "What does Julia do to make this so much faster? It know that it can perform the division much faster if it `LU` decomposes `A`."
   ]
  },
  {
   "cell_type": "code",
   "execution_count": 162,
   "metadata": {},
   "outputs": [
    {
     "data": {
      "text/plain": [
       "3-element Array{Float64,1}:\n",
       " -0.27739408387980924\n",
       "  0.0976128524836564 \n",
       "  0.22350222359616365"
      ]
     },
     "execution_count": 162,
     "metadata": {},
     "output_type": "execute_result"
    }
   ],
   "source": [
    "lu(A)\\b"
   ]
  },
  {
   "cell_type": "code",
   "execution_count": 163,
   "metadata": {},
   "outputs": [
    {
     "name": "stdout",
     "output_type": "stream",
     "text": [
      "  208.903 ns (4 allocations: 416 bytes)\n"
     ]
    },
    {
     "data": {
      "text/plain": [
       "3-element Array{Float64,1}:\n",
       " -0.27739408387980924\n",
       "  0.0976128524836564 \n",
       "  0.22350222359616365"
      ]
     },
     "execution_count": 163,
     "metadata": {},
     "output_type": "execute_result"
    }
   ],
   "source": [
    "@btime lu($A)\\$b"
   ]
  },
  {
   "cell_type": "code",
   "execution_count": 199,
   "metadata": {},
   "outputs": [
    {
     "data": {
      "text/plain": [
       "0.0"
      ]
     },
     "execution_count": 199,
     "metadata": {},
     "output_type": "execute_result"
    }
   ],
   "source": [
    "x = lu(A)\\b\n",
    "y = A\\b\n",
    "maximum(abs.(x-y)) # check that this is what Julia uses internally"
   ]
  },
  {
   "cell_type": "markdown",
   "metadata": {},
   "source": [
    "Let's inspect the output of `lu(A)`"
   ]
  },
  {
   "cell_type": "code",
   "execution_count": 164,
   "metadata": {},
   "outputs": [
    {
     "data": {
      "text/plain": [
       "LU{Float64,Array{Float64,2}}\n",
       "L factor:\n",
       "3×3 Array{Float64,2}:\n",
       "  1.0  0.0   0.0\n",
       " 10.0  1.0   0.0\n",
       "  6.0  0.85  1.0\n",
       "U factor:\n",
       "3×3 Array{Float64,2}:\n",
       " 1.0    3.0    4.0 \n",
       " 0.0  -20.0  -31.0 \n",
       " 0.0    0.0   10.35"
      ]
     },
     "execution_count": 164,
     "metadata": {},
     "output_type": "execute_result"
    }
   ],
   "source": [
    "lu(A)"
   ]
  },
  {
   "cell_type": "code",
   "execution_count": 156,
   "metadata": {},
   "outputs": [
    {
     "data": {
      "text/plain": [
       "LU{Float64,Array{Float64,2}}"
      ]
     },
     "execution_count": 156,
     "metadata": {},
     "output_type": "execute_result"
    }
   ],
   "source": [
    "typeof(lu(A))"
   ]
  },
  {
   "cell_type": "code",
   "execution_count": 159,
   "metadata": {},
   "outputs": [
    {
     "data": {
      "text/html": [
       "16-element Array{Method,1}:<ul><li> /(B::<b>AbstractArray{T,2} where T</b>, A::<b>LU</b>) in LinearAlgebra at <a href=\"file://C:/cygwin/home/Administrator/buildbot/worker/package_win64/build/usr/share/julia/stdlib/v1.0/LinearAlgebra/src/lu.jl\" target=\"_blank\">C:\\cygwin\\home\\Administrator\\buildbot\\worker\\package_win64\\build\\usr\\share\\julia\\stdlib\\v1.0\\LinearAlgebra\\src\\lu.jl:626</a><li> adjoint(F::<b>LU</b>) in LinearAlgebra at <a href=\"file://C:/cygwin/home/Administrator/buildbot/worker/package_win64/build/usr/share/julia/stdlib/v1.0/LinearAlgebra/src/lu.jl\" target=\"_blank\">C:\\cygwin\\home\\Administrator\\buildbot\\worker\\package_win64\\build\\usr\\share\\julia\\stdlib\\v1.0\\LinearAlgebra\\src\\lu.jl:31</a><li> iterate(S::<b>LU</b>) in LinearAlgebra at <a href=\"file://C:/cygwin/home/Administrator/buildbot/worker/package_win64/build/usr/share/julia/stdlib/v1.0/LinearAlgebra/src/lu.jl\" target=\"_blank\">C:\\cygwin\\home\\Administrator\\buildbot\\worker\\package_win64\\build\\usr\\share\\julia\\stdlib\\v1.0\\LinearAlgebra\\src\\lu.jl:26</a><li> iterate(S::<b>LU</b>, ::<b>Val{:U}</b>) in LinearAlgebra at <a href=\"file://C:/cygwin/home/Administrator/buildbot/worker/package_win64/build/usr/share/julia/stdlib/v1.0/LinearAlgebra/src/lu.jl\" target=\"_blank\">C:\\cygwin\\home\\Administrator\\buildbot\\worker\\package_win64\\build\\usr\\share\\julia\\stdlib\\v1.0\\LinearAlgebra\\src\\lu.jl:27</a><li> iterate(S::<b>LU</b>, ::<b>Val{:p}</b>) in LinearAlgebra at <a href=\"file://C:/cygwin/home/Administrator/buildbot/worker/package_win64/build/usr/share/julia/stdlib/v1.0/LinearAlgebra/src/lu.jl\" target=\"_blank\">C:\\cygwin\\home\\Administrator\\buildbot\\worker\\package_win64\\build\\usr\\share\\julia\\stdlib\\v1.0\\LinearAlgebra\\src\\lu.jl:28</a><li> iterate(S::<b>LU</b>, ::<b>Val{:done}</b>) in LinearAlgebra at <a href=\"file://C:/cygwin/home/Administrator/buildbot/worker/package_win64/build/usr/share/julia/stdlib/v1.0/LinearAlgebra/src/lu.jl\" target=\"_blank\">C:\\cygwin\\home\\Administrator\\buildbot\\worker\\package_win64\\build\\usr\\share\\julia\\stdlib\\v1.0\\LinearAlgebra\\src\\lu.jl:29</a><li> propertynames(F::<b>LU</b>) in LinearAlgebra at <a href=\"file://C:/cygwin/home/Administrator/buildbot/worker/package_win64/build/usr/share/julia/stdlib/v1.0/LinearAlgebra/src/lu.jl\" target=\"_blank\">C:\\cygwin\\home\\Administrator\\buildbot\\worker\\package_win64\\build\\usr\\share\\julia\\stdlib\\v1.0\\LinearAlgebra\\src\\lu.jl:301</a><li> propertynames(F::<b>LU</b>, private::<b>Bool</b>) in LinearAlgebra at <a href=\"file://C:/cygwin/home/Administrator/buildbot/worker/package_win64/build/usr/share/julia/stdlib/v1.0/LinearAlgebra/src/lu.jl\" target=\"_blank\">C:\\cygwin\\home\\Administrator\\buildbot\\worker\\package_win64\\build\\usr\\share\\julia\\stdlib\\v1.0\\LinearAlgebra\\src\\lu.jl:301</a><li> show(io::<b>IO</b>, mime::<b>MIME{Symbol(\"text/plain\")}</b>, F::<b>LU</b>) in LinearAlgebra at <a href=\"file://C:/cygwin/home/Administrator/buildbot/worker/package_win64/build/usr/share/julia/stdlib/v1.0/LinearAlgebra/src/lu.jl\" target=\"_blank\">C:\\cygwin\\home\\Administrator\\buildbot\\worker\\package_win64\\build\\usr\\share\\julia\\stdlib\\v1.0\\LinearAlgebra\\src\\lu.jl:307</a><li> size(A::<b>LU</b>) in LinearAlgebra at <a href=\"file://C:/cygwin/home/Administrator/buildbot/worker/package_win64/build/usr/share/julia/stdlib/v1.0/LinearAlgebra/src/lu.jl\" target=\"_blank\">C:\\cygwin\\home\\Administrator\\buildbot\\worker\\package_win64\\build\\usr\\share\\julia\\stdlib\\v1.0\\LinearAlgebra\\src\\lu.jl:272</a><li> size(A::<b>LU</b>, i) in LinearAlgebra at <a href=\"file://C:/cygwin/home/Administrator/buildbot/worker/package_win64/build/usr/share/julia/stdlib/v1.0/LinearAlgebra/src/lu.jl\" target=\"_blank\">C:\\cygwin\\home\\Administrator\\buildbot\\worker\\package_win64\\build\\usr\\share\\julia\\stdlib\\v1.0\\LinearAlgebra\\src\\lu.jl:273</a><li> transpose(F::<b>LU</b>) in LinearAlgebra at <a href=\"file://C:/cygwin/home/Administrator/buildbot/worker/package_win64/build/usr/share/julia/stdlib/v1.0/LinearAlgebra/src/lu.jl\" target=\"_blank\">C:\\cygwin\\home\\Administrator\\buildbot\\worker\\package_win64\\build\\usr\\share\\julia\\stdlib\\v1.0\\LinearAlgebra\\src\\lu.jl:32</a><li> det<i>{T}</i>(F::<b>LU{T,S} where S<:AbstractArray{T,2}</b>) in LinearAlgebra at <a href=\"file://C:/cygwin/home/Administrator/buildbot/worker/package_win64/build/usr/share/julia/stdlib/v1.0/LinearAlgebra/src/lu.jl\" target=\"_blank\">C:\\cygwin\\home\\Administrator\\buildbot\\worker\\package_win64\\build\\usr\\share\\julia\\stdlib\\v1.0\\LinearAlgebra\\src\\lu.jl:378</a><li> issuccess(F::<b>LU</b>) in LinearAlgebra at <a href=\"file://C:/cygwin/home/Administrator/buildbot/worker/package_win64/build/usr/share/julia/stdlib/v1.0/LinearAlgebra/src/lu.jl\" target=\"_blank\">C:\\cygwin\\home\\Administrator\\buildbot\\worker\\package_win64\\build\\usr\\share\\julia\\stdlib\\v1.0\\LinearAlgebra\\src\\lu.jl:304</a><li> logabsdet<i>{T}</i>(F::<b>LU{T,S} where S<:AbstractArray{T,2}</b>) in LinearAlgebra at <a href=\"file://C:/cygwin/home/Administrator/buildbot/worker/package_win64/build/usr/share/julia/stdlib/v1.0/LinearAlgebra/src/lu.jl\" target=\"_blank\">C:\\cygwin\\home\\Administrator\\buildbot\\worker\\package_win64\\build\\usr\\share\\julia\\stdlib\\v1.0\\LinearAlgebra\\src\\lu.jl:393</a><li> lu(S::<b>LU</b>) in LinearAlgebra at <a href=\"file://C:/cygwin/home/Administrator/buildbot/worker/package_win64/build/usr/share/julia/stdlib/v1.0/LinearAlgebra/src/lu.jl\" target=\"_blank\">C:\\cygwin\\home\\Administrator\\buildbot\\worker\\package_win64\\build\\usr\\share\\julia\\stdlib\\v1.0\\LinearAlgebra\\src\\lu.jl:255</a></ul>"
      ],
      "text/plain": [
       "[1] /(B::AbstractArray{T,2} where T, A::LU) in LinearAlgebra at C:\\cygwin\\home\\Administrator\\buildbot\\worker\\package_win64\\build\\usr\\share\\julia\\stdlib\\v1.0\\LinearAlgebra\\src\\lu.jl:626\n",
       "[2] adjoint(F::LU) in LinearAlgebra at C:\\cygwin\\home\\Administrator\\buildbot\\worker\\package_win64\\build\\usr\\share\\julia\\stdlib\\v1.0\\LinearAlgebra\\src\\lu.jl:31\n",
       "[3] iterate(S::LU) in LinearAlgebra at C:\\cygwin\\home\\Administrator\\buildbot\\worker\\package_win64\\build\\usr\\share\\julia\\stdlib\\v1.0\\LinearAlgebra\\src\\lu.jl:26\n",
       "[4] iterate(S::LU, ::Val{:U}) in LinearAlgebra at C:\\cygwin\\home\\Administrator\\buildbot\\worker\\package_win64\\build\\usr\\share\\julia\\stdlib\\v1.0\\LinearAlgebra\\src\\lu.jl:27\n",
       "[5] iterate(S::LU, ::Val{:p}) in LinearAlgebra at C:\\cygwin\\home\\Administrator\\buildbot\\worker\\package_win64\\build\\usr\\share\\julia\\stdlib\\v1.0\\LinearAlgebra\\src\\lu.jl:28\n",
       "[6] iterate(S::LU, ::Val{:done}) in LinearAlgebra at C:\\cygwin\\home\\Administrator\\buildbot\\worker\\package_win64\\build\\usr\\share\\julia\\stdlib\\v1.0\\LinearAlgebra\\src\\lu.jl:29\n",
       "[7] propertynames(F::LU) in LinearAlgebra at C:\\cygwin\\home\\Administrator\\buildbot\\worker\\package_win64\\build\\usr\\share\\julia\\stdlib\\v1.0\\LinearAlgebra\\src\\lu.jl:301\n",
       "[8] propertynames(F::LU, private::Bool) in LinearAlgebra at C:\\cygwin\\home\\Administrator\\buildbot\\worker\\package_win64\\build\\usr\\share\\julia\\stdlib\\v1.0\\LinearAlgebra\\src\\lu.jl:301\n",
       "[9] show(io::IO, mime::MIME{Symbol(\"text/plain\")}, F::LU) in LinearAlgebra at C:\\cygwin\\home\\Administrator\\buildbot\\worker\\package_win64\\build\\usr\\share\\julia\\stdlib\\v1.0\\LinearAlgebra\\src\\lu.jl:307\n",
       "[10] size(A::LU) in LinearAlgebra at C:\\cygwin\\home\\Administrator\\buildbot\\worker\\package_win64\\build\\usr\\share\\julia\\stdlib\\v1.0\\LinearAlgebra\\src\\lu.jl:272\n",
       "[11] size(A::LU, i) in LinearAlgebra at C:\\cygwin\\home\\Administrator\\buildbot\\worker\\package_win64\\build\\usr\\share\\julia\\stdlib\\v1.0\\LinearAlgebra\\src\\lu.jl:273\n",
       "[12] transpose(F::LU) in LinearAlgebra at C:\\cygwin\\home\\Administrator\\buildbot\\worker\\package_win64\\build\\usr\\share\\julia\\stdlib\\v1.0\\LinearAlgebra\\src\\lu.jl:32\n",
       "[13] det(F::LU{T,S} where S<:AbstractArray{T,2}) where T in LinearAlgebra at C:\\cygwin\\home\\Administrator\\buildbot\\worker\\package_win64\\build\\usr\\share\\julia\\stdlib\\v1.0\\LinearAlgebra\\src\\lu.jl:378\n",
       "[14] issuccess(F::LU) in LinearAlgebra at C:\\cygwin\\home\\Administrator\\buildbot\\worker\\package_win64\\build\\usr\\share\\julia\\stdlib\\v1.0\\LinearAlgebra\\src\\lu.jl:304\n",
       "[15] logabsdet(F::LU{T,S} where S<:AbstractArray{T,2}) where T in LinearAlgebra at C:\\cygwin\\home\\Administrator\\buildbot\\worker\\package_win64\\build\\usr\\share\\julia\\stdlib\\v1.0\\LinearAlgebra\\src\\lu.jl:393\n",
       "[16] lu(S::LU) in LinearAlgebra at C:\\cygwin\\home\\Administrator\\buildbot\\worker\\package_win64\\build\\usr\\share\\julia\\stdlib\\v1.0\\LinearAlgebra\\src\\lu.jl:255"
      ]
     },
     "execution_count": 159,
     "metadata": {},
     "output_type": "execute_result"
    }
   ],
   "source": [
    "methodswith(LU)"
   ]
  },
  {
   "cell_type": "code",
   "execution_count": 161,
   "metadata": {},
   "outputs": [
    {
     "data": {
      "text/plain": [
       "Factorization"
      ]
     },
     "execution_count": 161,
     "metadata": {},
     "output_type": "execute_result"
    }
   ],
   "source": [
    "supertype(LU)"
   ]
  },
  {
   "cell_type": "code",
   "execution_count": 160,
   "metadata": {},
   "outputs": [
    {
     "data": {
      "text/html": [
       "12-element Array{Method,1}:<ul><li> ==<i>{T<:Factorization}</i>(F::<b>T</b>, G::<b>T</b>) in LinearAlgebra at <a href=\"file://C:/cygwin/home/Administrator/buildbot/worker/package_win64/build/usr/share/julia/stdlib/v1.0/LinearAlgebra/src/factorization.jl\" target=\"_blank\">C:\\cygwin\\home\\Administrator\\buildbot\\worker\\package_win64\\build\\usr\\share\\julia\\stdlib\\v1.0\\LinearAlgebra\\src\\factorization.jl:53</a><li> \\(F::<b>Factorization</b>, D::<b>Diagonal</b>) in LinearAlgebra at <a href=\"file://C:/cygwin/home/Administrator/buildbot/worker/package_win64/build/usr/share/julia/stdlib/v1.0/LinearAlgebra/src/diagonal.jl\" target=\"_blank\">C:\\cygwin\\home\\Administrator\\buildbot\\worker\\package_win64\\build\\usr\\share\\julia\\stdlib\\v1.0\\LinearAlgebra\\src\\diagonal.jl:375</a><li> \\(F::<b>Factorization</b>, B::<b>Union{AbstractArray{T,2}, AbstractArray{T,1}} where T</b>) in LinearAlgebra at <a href=\"file://C:/cygwin/home/Administrator/buildbot/worker/package_win64/build/usr/share/julia/stdlib/v1.0/LinearAlgebra/src/factorization.jl\" target=\"_blank\">C:\\cygwin\\home\\Administrator\\buildbot\\worker\\package_win64\\build\\usr\\share\\julia\\stdlib\\v1.0\\LinearAlgebra\\src\\factorization.jl:83</a><li> convert<i>{T<:Factorization}</i>(::<b>Type{T}</b>, f::<b>T</b>) in LinearAlgebra at <a href=\"file://C:/cygwin/home/Administrator/buildbot/worker/package_win64/build/usr/share/julia/stdlib/v1.0/LinearAlgebra/src/factorization.jl\" target=\"_blank\">C:\\cygwin\\home\\Administrator\\buildbot\\worker\\package_win64\\build\\usr\\share\\julia\\stdlib\\v1.0\\LinearAlgebra\\src\\factorization.jl:43</a><li> convert<i>{T<:Factorization}</i>(::<b>Type{T}</b>, f::<b>Factorization</b>) in LinearAlgebra at <a href=\"file://C:/cygwin/home/Administrator/buildbot/worker/package_win64/build/usr/share/julia/stdlib/v1.0/LinearAlgebra/src/factorization.jl\" target=\"_blank\">C:\\cygwin\\home\\Administrator\\buildbot\\worker\\package_win64\\build\\usr\\share\\julia\\stdlib\\v1.0\\LinearAlgebra\\src\\factorization.jl:44</a><li> convert<i>{T<:AbstractArray}</i>(::<b>Type{T}</b>, f::<b>Factorization</b>) in LinearAlgebra at <a href=\"file://C:/cygwin/home/Administrator/buildbot/worker/package_win64/build/usr/share/julia/stdlib/v1.0/LinearAlgebra/src/factorization.jl\" target=\"_blank\">C:\\cygwin\\home\\Administrator\\buildbot\\worker\\package_win64\\build\\usr\\share\\julia\\stdlib\\v1.0\\LinearAlgebra\\src\\factorization.jl:46</a><li> hash(F::<b>Factorization</b>, h::<b>UInt64</b>) in LinearAlgebra at <a href=\"file://C:/cygwin/home/Administrator/buildbot/worker/package_win64/build/usr/share/julia/stdlib/v1.0/LinearAlgebra/src/factorization.jl\" target=\"_blank\">C:\\cygwin\\home\\Administrator\\buildbot\\worker\\package_win64\\build\\usr\\share\\julia\\stdlib\\v1.0\\LinearAlgebra\\src\\factorization.jl:52</a><li> inv<i>{T}</i>(F::<b>Factorization{T}</b>) in LinearAlgebra at <a href=\"file://C:/cygwin/home/Administrator/buildbot/worker/package_win64/build/usr/share/julia/stdlib/v1.0/LinearAlgebra/src/factorization.jl\" target=\"_blank\">C:\\cygwin\\home\\Administrator\\buildbot\\worker\\package_win64\\build\\usr\\share\\julia\\stdlib\\v1.0\\LinearAlgebra\\src\\factorization.jl:50</a><li> isequal<i>{T<:Factorization}</i>(F::<b>T</b>, G::<b>T</b>) in LinearAlgebra at <a href=\"file://C:/cygwin/home/Administrator/buildbot/worker/package_win64/build/usr/share/julia/stdlib/v1.0/LinearAlgebra/src/factorization.jl\" target=\"_blank\">C:\\cygwin\\home\\Administrator\\buildbot\\worker\\package_win64\\build\\usr\\share\\julia\\stdlib\\v1.0\\LinearAlgebra\\src\\factorization.jl:54</a><li> det(F::<b>Factorization</b>) in LinearAlgebra at <a href=\"file://C:/cygwin/home/Administrator/buildbot/worker/package_win64/build/usr/share/julia/stdlib/v1.0/LinearAlgebra/src/factorization.jl\" target=\"_blank\">C:\\cygwin\\home\\Administrator\\buildbot\\worker\\package_win64\\build\\usr\\share\\julia\\stdlib\\v1.0\\LinearAlgebra\\src\\factorization.jl:39</a><li> ldiv!(Y::<b>Union{AbstractArray{T,2}, AbstractArray{T,1}} where T</b>, A::<b>Factorization</b>, B::<b>Union{AbstractArray{T,2}, AbstractArray{T,1}} where T</b>) in LinearAlgebra at <a href=\"file://C:/cygwin/home/Administrator/buildbot/worker/package_win64/build/usr/share/julia/stdlib/v1.0/LinearAlgebra/src/factorization.jl\" target=\"_blank\">C:\\cygwin\\home\\Administrator\\buildbot\\worker\\package_win64\\build\\usr\\share\\julia\\stdlib\\v1.0\\LinearAlgebra\\src\\factorization.jl:100</a><li> logdet(F::<b>Factorization</b>) in LinearAlgebra at <a href=\"file://C:/cygwin/home/Administrator/buildbot/worker/package_win64/build/usr/share/julia/stdlib/v1.0/LinearAlgebra/src/factorization.jl\" target=\"_blank\">C:\\cygwin\\home\\Administrator\\buildbot\\worker\\package_win64\\build\\usr\\share\\julia\\stdlib\\v1.0\\LinearAlgebra\\src\\factorization.jl:34</a></ul>"
      ],
      "text/plain": [
       "[1] ==(F::T, G::T) where T<:Factorization in LinearAlgebra at C:\\cygwin\\home\\Administrator\\buildbot\\worker\\package_win64\\build\\usr\\share\\julia\\stdlib\\v1.0\\LinearAlgebra\\src\\factorization.jl:53\n",
       "[2] \\(F::Factorization, D::Diagonal) in LinearAlgebra at C:\\cygwin\\home\\Administrator\\buildbot\\worker\\package_win64\\build\\usr\\share\\julia\\stdlib\\v1.0\\LinearAlgebra\\src\\diagonal.jl:375\n",
       "[3] \\(F::Factorization, B::Union{AbstractArray{T,2}, AbstractArray{T,1}} where T) in LinearAlgebra at C:\\cygwin\\home\\Administrator\\buildbot\\worker\\package_win64\\build\\usr\\share\\julia\\stdlib\\v1.0\\LinearAlgebra\\src\\factorization.jl:83\n",
       "[4] convert(::Type{T}, f::T) where T<:Factorization in LinearAlgebra at C:\\cygwin\\home\\Administrator\\buildbot\\worker\\package_win64\\build\\usr\\share\\julia\\stdlib\\v1.0\\LinearAlgebra\\src\\factorization.jl:43\n",
       "[5] convert(::Type{T}, f::Factorization) where T<:Factorization in LinearAlgebra at C:\\cygwin\\home\\Administrator\\buildbot\\worker\\package_win64\\build\\usr\\share\\julia\\stdlib\\v1.0\\LinearAlgebra\\src\\factorization.jl:44\n",
       "[6] convert(::Type{T}, f::Factorization) where T<:AbstractArray in LinearAlgebra at C:\\cygwin\\home\\Administrator\\buildbot\\worker\\package_win64\\build\\usr\\share\\julia\\stdlib\\v1.0\\LinearAlgebra\\src\\factorization.jl:46\n",
       "[7] hash(F::Factorization, h::UInt64) in LinearAlgebra at C:\\cygwin\\home\\Administrator\\buildbot\\worker\\package_win64\\build\\usr\\share\\julia\\stdlib\\v1.0\\LinearAlgebra\\src\\factorization.jl:52\n",
       "[8] inv(F::Factorization{T}) where T in LinearAlgebra at C:\\cygwin\\home\\Administrator\\buildbot\\worker\\package_win64\\build\\usr\\share\\julia\\stdlib\\v1.0\\LinearAlgebra\\src\\factorization.jl:50\n",
       "[9] isequal(F::T, G::T) where T<:Factorization in LinearAlgebra at C:\\cygwin\\home\\Administrator\\buildbot\\worker\\package_win64\\build\\usr\\share\\julia\\stdlib\\v1.0\\LinearAlgebra\\src\\factorization.jl:54\n",
       "[10] det(F::Factorization) in LinearAlgebra at C:\\cygwin\\home\\Administrator\\buildbot\\worker\\package_win64\\build\\usr\\share\\julia\\stdlib\\v1.0\\LinearAlgebra\\src\\factorization.jl:39\n",
       "[11] ldiv!(Y::Union{AbstractArray{T,2}, AbstractArray{T,1}} where T, A::Factorization, B::Union{AbstractArray{T,2}, AbstractArray{T,1}} where T) in LinearAlgebra at C:\\cygwin\\home\\Administrator\\buildbot\\worker\\package_win64\\build\\usr\\share\\julia\\stdlib\\v1.0\\LinearAlgebra\\src\\factorization.jl:100\n",
       "[12] logdet(F::Factorization) in LinearAlgebra at C:\\cygwin\\home\\Administrator\\buildbot\\worker\\package_win64\\build\\usr\\share\\julia\\stdlib\\v1.0\\LinearAlgebra\\src\\factorization.jl:34"
      ]
     },
     "execution_count": 160,
     "metadata": {},
     "output_type": "execute_result"
    }
   ],
   "source": [
    "methodswith(Factorization)"
   ]
  },
  {
   "cell_type": "markdown",
   "metadata": {},
   "source": [
    "# Factorizations"
   ]
  },
  {
   "cell_type": "markdown",
   "metadata": {},
   "source": [
    "### Matrix factorizations\n",
    "\n",
    "[Matrix factorizations (a.k.a. matrix decompositions)](https://en.wikipedia.org/wiki/Matrix_decomposition)\n",
    "compute the factorization of a matrix into a product of matrices, and are one of the central concepts\n",
    "in linear algebra.\n",
    "\n",
    "The following table summarizes the types of matrix factorizations that have been implemented in\n",
    "Julia. Details of their associated methods can be found in the [Standard Functions](@ref) section\n",
    "of the Linear Algebra documentation.\n",
    "\n",
    "| Type              | Description                                                                                                    |\n",
    "|:----------------- |:-------------------------------------------------------------------------------------------------------------- |\n",
    "| `Cholesky`        | [Cholesky factorization](https://en.wikipedia.org/wiki/Cholesky_decomposition)                                 |\n",
    "| `CholeskyPivoted` | [Pivoted](https://en.wikipedia.org/wiki/Pivot_element) Cholesky factorization                                  |\n",
    "| `LU`              | [LU factorization](https://en.wikipedia.org/wiki/LU_decomposition)                                             |\n",
    "| `LUTridiagonal`   | LU factorization for [`Tridiagonal`](@ref) matrices                                                            |\n",
    "| `QR`              | [QR factorization](https://en.wikipedia.org/wiki/QR_decomposition)                                             |\n",
    "| `QRCompactWY`     | Compact WY form of the QR factorization                                                                        |\n",
    "| `QRPivoted`       | Pivoted [QR factorization](https://en.wikipedia.org/wiki/QR_decomposition)                                     |\n",
    "| `Hessenberg`      | [Hessenberg decomposition](http://mathworld.wolfram.com/HessenbergDecomposition.html)                          |\n",
    "| `Eigen`           | [Spectral decomposition](https://en.wikipedia.org/wiki/Eigendecomposition_(matrix))                            |\n",
    "| `SVD`             | [Singular value decomposition](https://en.wikipedia.org/wiki/Singular_value_decomposition)                     |\n",
    "| `GeneralizedSVD`  | [Generalized SVD](https://en.wikipedia.org/wiki/Generalized_singular_value_decomposition#Higher_order_version) |\n",
    "\n",
    "Taken from: https://docs.julialang.org/en/v1.0.0/stdlib/LinearAlgebra/#man-linalg-factorizations-1"
   ]
  },
  {
   "cell_type": "code",
   "execution_count": 173,
   "metadata": {},
   "outputs": [
    {
     "name": "stdout",
     "output_type": "stream",
     "text": [
      "  207.591 ns (4 allocations: 416 bytes)\n",
      "  2.095 μs (9 allocations: 976 bytes)\n",
      "  4.328 μs (18 allocations: 3.30 KiB)\n"
     ]
    }
   ],
   "source": [
    "@btime lu($A)\\$b\n",
    "@btime qr($A)\\$b\n",
    "@btime svd($A)\\$b;"
   ]
  },
  {
   "cell_type": "code",
   "execution_count": 174,
   "metadata": {
    "scrolled": true
   },
   "outputs": [
    {
     "name": "stdout",
     "output_type": "stream",
     "text": [
      "search: \u001b[0m\u001b[1m\\\u001b[22m\n",
      "\n"
     ]
    },
    {
     "data": {
      "text/markdown": [
       "```\n",
       "\\(x, y)\n",
       "```\n",
       "\n",
       "Left division operator: multiplication of `y` by the inverse of `x` on the left. Gives floating-point results for integer arguments.\n",
       "\n",
       "# Examples\n",
       "\n",
       "```jldoctest\n",
       "julia> 3 \\ 6\n",
       "2.0\n",
       "\n",
       "julia> inv(3) * 6\n",
       "2.0\n",
       "\n",
       "julia> A = [1 2; 3 4]; x = [5, 6];\n",
       "\n",
       "julia> A \\ x\n",
       "2-element Array{Float64,1}:\n",
       " -4.0\n",
       "  4.5\n",
       "\n",
       "julia> inv(A) * x\n",
       "2-element Array{Float64,1}:\n",
       " -4.0\n",
       "  4.5\n",
       "```\n",
       "\n",
       "---\n",
       "\n",
       "```\n",
       "\\(A, B)\n",
       "```\n",
       "\n",
       "Matrix division using a polyalgorithm. For input matrices `A` and `B`, the result `X` is such that `A*X == B` when `A` is square. The solver that is used depends upon the structure of `A`.  If `A` is upper or lower triangular (or diagonal), no factorization of `A` is required and the system is solved with either forward or backward substitution. For non-triangular square matrices, an LU factorization is used.\n",
       "\n",
       "For rectangular `A` the result is the minimum-norm least squares solution computed by a pivoted QR factorization of `A` and a rank estimate of `A` based on the R factor.\n",
       "\n",
       "When `A` is sparse, a similar polyalgorithm is used. For indefinite matrices, the `LDLt` factorization does not use pivoting during the numerical factorization and therefore the procedure can fail even for invertible matrices.\n",
       "\n",
       "# Examples\n",
       "\n",
       "```jldoctest\n",
       "julia> A = [1 0; 1 -2]; B = [32; -4];\n",
       "\n",
       "julia> X = A \\ B\n",
       "2-element Array{Float64,1}:\n",
       " 32.0\n",
       " 18.0\n",
       "\n",
       "julia> A * X == B\n",
       "true\n",
       "```\n",
       "\n",
       "---\n",
       "\n",
       "```\n",
       "(\\)(F::QRSparse, B::StridedVecOrMat)\n",
       "```\n",
       "\n",
       "Solve the least squares problem $\\min\\|Ax - b\\|^2$ or the linear system of equations $Ax=b$ when `F` is the sparse QR factorization of $A$. A basic solution is returned when the problem is underdetermined.\n",
       "\n",
       "# Examples\n",
       "\n",
       "```jldoctest\n",
       "julia> A = sparse([1,2,4], [1,1,1], [1.0,1.0,1.0], 4, 2)\n",
       "4×2 SparseMatrixCSC{Float64,Int64} with 3 stored entries:\n",
       "  [1, 1]  =  1.0\n",
       "  [2, 1]  =  1.0\n",
       "  [4, 1]  =  1.0\n",
       "\n",
       "julia> qr(A)\\fill(1.0, 4)\n",
       "2-element Array{Float64,1}:\n",
       " 1.0\n",
       " 0.0\n",
       "```\n"
      ],
      "text/plain": [
       "\u001b[36m  \\(x, y)\u001b[39m\n",
       "\n",
       "  Left division operator: multiplication of \u001b[36my\u001b[39m by the inverse of \u001b[36mx\u001b[39m on the left.\n",
       "  Gives floating-point results for integer arguments.\n",
       "\n",
       "\u001b[1m  Examples\u001b[22m\n",
       "\u001b[1m  ≡≡≡≡≡≡≡≡≡≡\u001b[22m\n",
       "\n",
       "\u001b[36m  julia> 3 \\ 6\u001b[39m\n",
       "\u001b[36m  2.0\u001b[39m\n",
       "\u001b[36m  \u001b[39m\n",
       "\u001b[36m  julia> inv(3) * 6\u001b[39m\n",
       "\u001b[36m  2.0\u001b[39m\n",
       "\u001b[36m  \u001b[39m\n",
       "\u001b[36m  julia> A = [1 2; 3 4]; x = [5, 6];\u001b[39m\n",
       "\u001b[36m  \u001b[39m\n",
       "\u001b[36m  julia> A \\ x\u001b[39m\n",
       "\u001b[36m  2-element Array{Float64,1}:\u001b[39m\n",
       "\u001b[36m   -4.0\u001b[39m\n",
       "\u001b[36m    4.5\u001b[39m\n",
       "\u001b[36m  \u001b[39m\n",
       "\u001b[36m  julia> inv(A) * x\u001b[39m\n",
       "\u001b[36m  2-element Array{Float64,1}:\u001b[39m\n",
       "\u001b[36m   -4.0\u001b[39m\n",
       "\u001b[36m    4.5\u001b[39m\n",
       "\n",
       "  ────────────────────────────────────────────────────────────────────────────\n",
       "\n",
       "\u001b[36m  \\(A, B)\u001b[39m\n",
       "\n",
       "  Matrix division using a polyalgorithm. For input matrices \u001b[36mA\u001b[39m and \u001b[36mB\u001b[39m, the\n",
       "  result \u001b[36mX\u001b[39m is such that \u001b[36mA*X == B\u001b[39m when \u001b[36mA\u001b[39m is square. The solver that is used\n",
       "  depends upon the structure of \u001b[36mA\u001b[39m. If \u001b[36mA\u001b[39m is upper or lower triangular (or\n",
       "  diagonal), no factorization of \u001b[36mA\u001b[39m is required and the system is solved with\n",
       "  either forward or backward substitution. For non-triangular square matrices,\n",
       "  an LU factorization is used.\n",
       "\n",
       "  For rectangular \u001b[36mA\u001b[39m the result is the minimum-norm least squares solution\n",
       "  computed by a pivoted QR factorization of \u001b[36mA\u001b[39m and a rank estimate of \u001b[36mA\u001b[39m based\n",
       "  on the R factor.\n",
       "\n",
       "  When \u001b[36mA\u001b[39m is sparse, a similar polyalgorithm is used. For indefinite matrices,\n",
       "  the \u001b[36mLDLt\u001b[39m factorization does not use pivoting during the numerical\n",
       "  factorization and therefore the procedure can fail even for invertible\n",
       "  matrices.\n",
       "\n",
       "\u001b[1m  Examples\u001b[22m\n",
       "\u001b[1m  ≡≡≡≡≡≡≡≡≡≡\u001b[22m\n",
       "\n",
       "\u001b[36m  julia> A = [1 0; 1 -2]; B = [32; -4];\u001b[39m\n",
       "\u001b[36m  \u001b[39m\n",
       "\u001b[36m  julia> X = A \\ B\u001b[39m\n",
       "\u001b[36m  2-element Array{Float64,1}:\u001b[39m\n",
       "\u001b[36m   32.0\u001b[39m\n",
       "\u001b[36m   18.0\u001b[39m\n",
       "\u001b[36m  \u001b[39m\n",
       "\u001b[36m  julia> A * X == B\u001b[39m\n",
       "\u001b[36m  true\u001b[39m\n",
       "\n",
       "  ────────────────────────────────────────────────────────────────────────────\n",
       "\n",
       "\u001b[36m  (\\)(F::QRSparse, B::StridedVecOrMat)\u001b[39m\n",
       "\n",
       "  Solve the least squares problem \u001b[35m\\min\\|Ax - b\\|^2\u001b[39m or the linear system of\n",
       "  equations \u001b[35mAx=b\u001b[39m when \u001b[36mF\u001b[39m is the sparse QR factorization of \u001b[35mA\u001b[39m. A basic solution\n",
       "  is returned when the problem is underdetermined.\n",
       "\n",
       "\u001b[1m  Examples\u001b[22m\n",
       "\u001b[1m  ≡≡≡≡≡≡≡≡≡≡\u001b[22m\n",
       "\n",
       "\u001b[36m  julia> A = sparse([1,2,4], [1,1,1], [1.0,1.0,1.0], 4, 2)\u001b[39m\n",
       "\u001b[36m  4×2 SparseMatrixCSC{Float64,Int64} with 3 stored entries:\u001b[39m\n",
       "\u001b[36m    [1, 1]  =  1.0\u001b[39m\n",
       "\u001b[36m    [2, 1]  =  1.0\u001b[39m\n",
       "\u001b[36m    [4, 1]  =  1.0\u001b[39m\n",
       "\u001b[36m  \u001b[39m\n",
       "\u001b[36m  julia> qr(A)\\fill(1.0, 4)\u001b[39m\n",
       "\u001b[36m  2-element Array{Float64,1}:\u001b[39m\n",
       "\u001b[36m   1.0\u001b[39m\n",
       "\u001b[36m   0.0\u001b[39m"
      ]
     },
     "execution_count": 174,
     "metadata": {},
     "output_type": "execute_result"
    }
   ],
   "source": [
    "?\\"
   ]
  },
  {
   "cell_type": "markdown",
   "metadata": {},
   "source": [
    "This is what the actual heuristic looks like (`@which`/`@edit` are your friends!)\n",
    "\n",
    "```julia\n",
    "function (\\)(A::AbstractMatrix, B::AbstractVecOrMat)\n",
    "    @assert !has_offset_axes(A, B)\n",
    "    m, n = size(A)\n",
    "    if m == n\n",
    "        if istril(A)\n",
    "            if istriu(A)\n",
    "                return Diagonal(A) \\ B\n",
    "            else\n",
    "                return LowerTriangular(A) \\ B\n",
    "            end\n",
    "        end\n",
    "        if istriu(A)\n",
    "            return UpperTriangular(A) \\ B\n",
    "        end\n",
    "        return lu(A) \\ B\n",
    "    end\n",
    "    return qr(A,Val(true)) \\ B\n",
    "end\n",
    "```"
   ]
  },
  {
   "cell_type": "markdown",
   "metadata": {},
   "source": [
    "### Choosing a factorization"
   ]
  },
  {
   "cell_type": "code",
   "execution_count": 175,
   "metadata": {
    "scrolled": true
   },
   "outputs": [
    {
     "name": "stdout",
     "output_type": "stream",
     "text": [
      "search: \u001b[0m\u001b[1mf\u001b[22m\u001b[0m\u001b[1ma\u001b[22m\u001b[0m\u001b[1mc\u001b[22m\u001b[0m\u001b[1mt\u001b[22m\u001b[0m\u001b[1mo\u001b[22m\u001b[0m\u001b[1mr\u001b[22m\u001b[0m\u001b[1mi\u001b[22m\u001b[0m\u001b[1mz\u001b[22m\u001b[0m\u001b[1me\u001b[22m \u001b[0m\u001b[1mF\u001b[22m\u001b[0m\u001b[1ma\u001b[22m\u001b[0m\u001b[1mc\u001b[22m\u001b[0m\u001b[1mt\u001b[22m\u001b[0m\u001b[1mo\u001b[22m\u001b[0m\u001b[1mr\u001b[22m\u001b[0m\u001b[1mi\u001b[22m\u001b[0m\u001b[1mz\u001b[22mation \u001b[0m\u001b[1mf\u001b[22m\u001b[0m\u001b[1ma\u001b[22m\u001b[0m\u001b[1mc\u001b[22m\u001b[0m\u001b[1mt\u001b[22m\u001b[0m\u001b[1mo\u001b[22m\u001b[0m\u001b[1mr\u001b[22m\u001b[0m\u001b[1mi\u001b[22mal\n",
      "\n"
     ]
    },
    {
     "data": {
      "text/markdown": [
       "```\n",
       "factorize(A)\n",
       "```\n",
       "\n",
       "Compute a convenient factorization of `A`, based upon the type of the input matrix. `factorize` checks `A` to see if it is symmetric/triangular/etc. if `A` is passed as a generic matrix. `factorize` checks every element of `A` to verify/rule out each property. It will short-circuit as soon as it can rule out symmetry/triangular structure. The return value can be reused for efficient solving of multiple systems. For example: `A=factorize(A); x=A\\b; y=A\\C`.\n",
       "\n",
       "| Properties of `A`          | type of factorization                      |\n",
       "|:-------------------------- |:------------------------------------------ |\n",
       "| Positive-definite          | Cholesky (see [`cholesky`](@ref))          |\n",
       "| Dense Symmetric/Hermitian  | Bunch-Kaufman (see [`bunchkaufman`](@ref)) |\n",
       "| Sparse Symmetric/Hermitian | LDLt (see [`ldlt`](@ref))                  |\n",
       "| Triangular                 | Triangular                                 |\n",
       "| Diagonal                   | Diagonal                                   |\n",
       "| Bidiagonal                 | Bidiagonal                                 |\n",
       "| Tridiagonal                | LU (see [`lu`](@ref))                      |\n",
       "| Symmetric real tridiagonal | LDLt (see [`ldlt`](@ref))                  |\n",
       "| General square             | LU (see [`lu`](@ref))                      |\n",
       "| General non-square         | QR (see [`qr`](@ref))                      |\n",
       "\n",
       "If `factorize` is called on a Hermitian positive-definite matrix, for instance, then `factorize` will return a Cholesky factorization.\n",
       "\n",
       "# Examples\n",
       "\n",
       "```jldoctest\n",
       "julia> A = Array(Bidiagonal(fill(1.0, (5, 5)), :U))\n",
       "5×5 Array{Float64,2}:\n",
       " 1.0  1.0  0.0  0.0  0.0\n",
       " 0.0  1.0  1.0  0.0  0.0\n",
       " 0.0  0.0  1.0  1.0  0.0\n",
       " 0.0  0.0  0.0  1.0  1.0\n",
       " 0.0  0.0  0.0  0.0  1.0\n",
       "\n",
       "julia> factorize(A) # factorize will check to see that A is already factorized\n",
       "5×5 Bidiagonal{Float64,Array{Float64,1}}:\n",
       " 1.0  1.0   ⋅    ⋅    ⋅\n",
       "  ⋅   1.0  1.0   ⋅    ⋅\n",
       "  ⋅    ⋅   1.0  1.0   ⋅\n",
       "  ⋅    ⋅    ⋅   1.0  1.0\n",
       "  ⋅    ⋅    ⋅    ⋅   1.0\n",
       "```\n",
       "\n",
       "This returns a `5×5 Bidiagonal{Float64}`, which can now be passed to other linear algebra functions (e.g. eigensolvers) which will use specialized methods for `Bidiagonal` types.\n"
      ],
      "text/plain": [
       "\u001b[36m  factorize(A)\u001b[39m\n",
       "\n",
       "  Compute a convenient factorization of \u001b[36mA\u001b[39m, based upon the type of the input\n",
       "  matrix. \u001b[36mfactorize\u001b[39m checks \u001b[36mA\u001b[39m to see if it is symmetric/triangular/etc. if \u001b[36mA\u001b[39m is\n",
       "  passed as a generic matrix. \u001b[36mfactorize\u001b[39m checks every element of \u001b[36mA\u001b[39m to\n",
       "  verify/rule out each property. It will short-circuit as soon as it can rule\n",
       "  out symmetry/triangular structure. The return value can be reused for\n",
       "  efficient solving of multiple systems. For example: \u001b[36mA=factorize(A); x=A\\b;\n",
       "  y=A\\C\u001b[39m.\n",
       "\n",
       "Properties of \u001b[36mA\u001b[39m            type of factorization           \n",
       "–––––––––––––––––––––––––– ––––––––––––––––––––––––––––––––\n",
       "Positive-definite          Cholesky (see \u001b[36mcholesky\u001b[39m)         \n",
       "Dense Symmetric/Hermitian  Bunch-Kaufman (see \u001b[36mbunchkaufman\u001b[39m)\n",
       "Sparse Symmetric/Hermitian LDLt (see \u001b[36mldlt\u001b[39m)                 \n",
       "Triangular                 Triangular                      \n",
       "Diagonal                   Diagonal                        \n",
       "Bidiagonal                 Bidiagonal                      \n",
       "Tridiagonal                LU (see \u001b[36mlu\u001b[39m)                     \n",
       "Symmetric real tridiagonal LDLt (see \u001b[36mldlt\u001b[39m)                 \n",
       "General square             LU (see \u001b[36mlu\u001b[39m)                     \n",
       "General non-square         QR (see \u001b[36mqr\u001b[39m)                     \n",
       "\n",
       "  If \u001b[36mfactorize\u001b[39m is called on a Hermitian positive-definite matrix, for\n",
       "  instance, then \u001b[36mfactorize\u001b[39m will return a Cholesky factorization.\n",
       "\n",
       "\u001b[1m  Examples\u001b[22m\n",
       "\u001b[1m  ≡≡≡≡≡≡≡≡≡≡\u001b[22m\n",
       "\n",
       "\u001b[36m  julia> A = Array(Bidiagonal(fill(1.0, (5, 5)), :U))\u001b[39m\n",
       "\u001b[36m  5×5 Array{Float64,2}:\u001b[39m\n",
       "\u001b[36m   1.0  1.0  0.0  0.0  0.0\u001b[39m\n",
       "\u001b[36m   0.0  1.0  1.0  0.0  0.0\u001b[39m\n",
       "\u001b[36m   0.0  0.0  1.0  1.0  0.0\u001b[39m\n",
       "\u001b[36m   0.0  0.0  0.0  1.0  1.0\u001b[39m\n",
       "\u001b[36m   0.0  0.0  0.0  0.0  1.0\u001b[39m\n",
       "\u001b[36m  \u001b[39m\n",
       "\u001b[36m  julia> factorize(A) # factorize will check to see that A is already factorized\u001b[39m\n",
       "\u001b[36m  5×5 Bidiagonal{Float64,Array{Float64,1}}:\u001b[39m\n",
       "\u001b[36m   1.0  1.0   ⋅    ⋅    ⋅\u001b[39m\n",
       "\u001b[36m    ⋅   1.0  1.0   ⋅    ⋅\u001b[39m\n",
       "\u001b[36m    ⋅    ⋅   1.0  1.0   ⋅\u001b[39m\n",
       "\u001b[36m    ⋅    ⋅    ⋅   1.0  1.0\u001b[39m\n",
       "\u001b[36m    ⋅    ⋅    ⋅    ⋅   1.0\u001b[39m\n",
       "\n",
       "  This returns a \u001b[36m5×5 Bidiagonal{Float64}\u001b[39m, which can now be passed to other\n",
       "  linear algebra functions (e.g. eigensolvers) which will use specialized\n",
       "  methods for \u001b[36mBidiagonal\u001b[39m types."
      ]
     },
     "execution_count": 175,
     "metadata": {},
     "output_type": "execute_result"
    }
   ],
   "source": [
    "?factorize"
   ]
  },
  {
   "cell_type": "code",
   "execution_count": 201,
   "metadata": {},
   "outputs": [
    {
     "data": {
      "text/plain": [
       "LU{Float64,Array{Float64,2}}"
      ]
     },
     "execution_count": 201,
     "metadata": {},
     "output_type": "execute_result"
    }
   ],
   "source": [
    "typeof(factorize(A))"
   ]
  },
  {
   "cell_type": "code",
   "execution_count": 202,
   "metadata": {},
   "outputs": [
    {
     "data": {
      "text/plain": [
       "BunchKaufman{Float64,Array{Float64,2}}"
      ]
     },
     "execution_count": 202,
     "metadata": {},
     "output_type": "execute_result"
    }
   ],
   "source": [
    "typeof(factorize(A+A'))"
   ]
  },
  {
   "cell_type": "markdown",
   "metadata": {},
   "source": [
    "# Use types to tag your matrices"
   ]
  },
  {
   "cell_type": "markdown",
   "metadata": {},
   "source": [
    "Ok, we've seen that Julia analyses the input matrix using some heuristic, factorizes it appropriately to then perform the calculation efficiently. \n",
    "\n",
    "But we can (and probably should) also be more explicit about our input to avoid this heuristic. We can encode the special structure of our matrix in a type such that we dispatch directly to the efficient method. Remember, the types decide which method is actually being run!\n",
    "\n",
    "There are many reasons to indicate what kind of matrix we have.\n",
    "\n",
    "* Don't rely on a heuristic. Not all methods have one!\n",
    "* The heurisitc comes with a small performance penalty.\n",
    "* The heurisitc isn't perfect and might fail to notice our matrix's special structure. Maybe because it's not known to base Julia. As we'll see later on, many external packages define additional special matrix types and efficient procedures for them.\n",
    "\n",
    "The following special matrix types are available out-of-the-box."
   ]
  },
  {
   "cell_type": "markdown",
   "metadata": {},
   "source": [
    "### Special matrices\n",
    "\n",
    "[Matrices with special symmetries and structures](http://www2.imm.dtu.dk/pubdb/views/publication_details.php?id=3274)\n",
    "arise often in linear algebra and are frequently associated with various matrix factorizations.\n",
    "Julia features a rich collection of special matrix types, which allow for fast computation with\n",
    "specialized routines that are specially developed for particular matrix types.\n",
    "\n",
    "The following tables summarize the types of special matrices that have been implemented in Julia,\n",
    "as well as whether hooks to various optimized methods for them in LAPACK are available.\n",
    "\n",
    "| Type                      | Description                                                                      |\n",
    "|:------------------------- |:-------------------------------------------------------------------------------- |\n",
    "| [`Symmetric`](@ref)       | [Symmetric matrix](https://en.wikipedia.org/wiki/Symmetric_matrix)               |\n",
    "| [`Hermitian`](@ref)       | [Hermitian matrix](https://en.wikipedia.org/wiki/Hermitian_matrix)               |\n",
    "| [`UpperTriangular`](@ref) | Upper [triangular matrix](https://en.wikipedia.org/wiki/Triangular_matrix)       |\n",
    "| [`LowerTriangular`](@ref) | Lower [triangular matrix](https://en.wikipedia.org/wiki/Triangular_matrix)       |\n",
    "| [`Tridiagonal`](@ref)     | [Tridiagonal matrix](https://en.wikipedia.org/wiki/Tridiagonal_matrix)           |\n",
    "| [`SymTridiagonal`](@ref)  | Symmetric tridiagonal matrix                                                     |\n",
    "| [`Bidiagonal`](@ref)      | Upper/lower [bidiagonal matrix](https://en.wikipedia.org/wiki/Bidiagonal_matrix) |\n",
    "| [`Diagonal`](@ref)        | [Diagonal matrix](https://en.wikipedia.org/wiki/Diagonal_matrix)                 |\n",
    "| [`UniformScaling`](@ref)  | [Uniform scaling operator](https://en.wikipedia.org/wiki/Uniform_scaling)        |\n",
    "\n",
    "See: https://docs.julialang.org/en/v1.0.0/stdlib/LinearAlgebra/#Special-matrices-1"
   ]
  },
  {
   "cell_type": "code",
   "execution_count": 251,
   "metadata": {},
   "outputs": [
    {
     "data": {
      "text/plain": [
       "3×3 Diagonal{Int64,UnitRange{Int64}}:\n",
       " 1  ⋅  ⋅\n",
       " ⋅  2  ⋅\n",
       " ⋅  ⋅  3"
      ]
     },
     "execution_count": 251,
     "metadata": {},
     "output_type": "execute_result"
    }
   ],
   "source": [
    "D = Diagonal(1:3)"
   ]
  },
  {
   "cell_type": "code",
   "execution_count": 252,
   "metadata": {},
   "outputs": [
    {
     "data": {
      "text/plain": [
       "3×3 Array{Int64,2}:\n",
       " 1  0  0\n",
       " 0  2  0\n",
       " 0  0  3"
      ]
     },
     "execution_count": 252,
     "metadata": {},
     "output_type": "execute_result"
    }
   ],
   "source": [
    "Ddense = Matrix(D) # same matrix but type doesn't indicate diagonal structure"
   ]
  },
  {
   "cell_type": "code",
   "execution_count": 253,
   "metadata": {},
   "outputs": [
    {
     "data": {
      "text/plain": [
       "3×3 Array{Int64,2}:\n",
       " 9  5   5\n",
       " 8  3   2\n",
       " 6  9  10"
      ]
     },
     "execution_count": 253,
     "metadata": {},
     "output_type": "execute_result"
    }
   ],
   "source": [
    "X = rand(1:10, 3,3) # truly dense matrix for comparison"
   ]
  },
  {
   "cell_type": "code",
   "execution_count": 254,
   "metadata": {},
   "outputs": [
    {
     "name": "stdout",
     "output_type": "stream",
     "text": [
      "  29.062 ns (1 allocation: 112 bytes)\n",
      "  39.582 ns (1 allocation: 112 bytes)\n",
      "  39.583 ns (1 allocation: 112 bytes)\n"
     ]
    },
    {
     "data": {
      "text/plain": [
       "3-element Array{Float64,1}:\n",
       " 10.359949493492604\n",
       "  8.35928231480657 \n",
       "  9.592750873111491"
      ]
     },
     "execution_count": 254,
     "metadata": {},
     "output_type": "execute_result"
    }
   ],
   "source": [
    "@btime $D*$b\n",
    "@btime $Ddense*$b\n",
    "@btime $X*$b"
   ]
  },
  {
   "cell_type": "markdown",
   "metadata": {},
   "source": [
    "What does it actually dispatch to?"
   ]
  },
  {
   "cell_type": "code",
   "execution_count": 243,
   "metadata": {},
   "outputs": [
    {
     "data": {
      "text/html": [
       "*(D::<b>Diagonal</b>, V::<b>AbstractArray{T,1} where T</b>) in LinearAlgebra at <a href=\"file://C:/cygwin/home/Administrator/buildbot/worker/package_win64/build/usr/share/julia/stdlib/v1.0/LinearAlgebra/src/diagonal.jl\" target=\"_blank\">C:\\cygwin\\home\\Administrator\\buildbot\\worker\\package_win64\\build\\usr\\share\\julia\\stdlib\\v1.0\\LinearAlgebra\\src\\diagonal.jl:159</a>"
      ],
      "text/plain": [
       "*(D::Diagonal, V::AbstractArray{T,1} where T) in LinearAlgebra at C:\\cygwin\\home\\Administrator\\buildbot\\worker\\package_win64\\build\\usr\\share\\julia\\stdlib\\v1.0\\LinearAlgebra\\src\\diagonal.jl:159"
      ]
     },
     "execution_count": 243,
     "metadata": {},
     "output_type": "execute_result"
    }
   ],
   "source": [
    "@which D*b"
   ]
  },
  {
   "cell_type": "code",
   "execution_count": 244,
   "metadata": {},
   "outputs": [
    {
     "data": {
      "text/html": [
       "*<i>{T, S}</i>(A::<b>AbstractArray{T,2}</b>, x::<b>AbstractArray{S,1}</b>) in LinearAlgebra at <a href=\"file://C:/cygwin/home/Administrator/buildbot/worker/package_win64/build/usr/share/julia/stdlib/v1.0/LinearAlgebra/src/matmul.jl\" target=\"_blank\">C:\\cygwin\\home\\Administrator\\buildbot\\worker\\package_win64\\build\\usr\\share\\julia\\stdlib\\v1.0\\LinearAlgebra\\src\\matmul.jl:49</a>"
      ],
      "text/plain": [
       "*(A::AbstractArray{T,2}, x::AbstractArray{S,1}) where {T, S} in LinearAlgebra at C:\\cygwin\\home\\Administrator\\buildbot\\worker\\package_win64\\build\\usr\\share\\julia\\stdlib\\v1.0\\LinearAlgebra\\src\\matmul.jl:49"
      ]
     },
     "execution_count": 244,
     "metadata": {},
     "output_type": "execute_result"
    }
   ],
   "source": [
    "@which Ddense*b"
   ]
  },
  {
   "cell_type": "markdown",
   "metadata": {},
   "source": [
    "**Dense Diagonal** (`Ddense*b`)\n",
    "\n",
    "```julia\n",
    "function (*)(A::AbstractMatrix{T}, x::AbstractVector{S}) where {T,S}\n",
    "    TS = promote_op(matprod, T, S)\n",
    "    mul!(similar(x,TS,axes(A,1)),A,x)\n",
    "end\n",
    "```\n",
    "\n",
    "**Diagonal** (`D*b`)\n",
    "```julia\n",
    "(*)(D::Diagonal, V::AbstractVector) = D.diag .* V\n",
    "```"
   ]
  },
  {
   "cell_type": "markdown",
   "metadata": {},
   "source": [
    "# Hamiltonian-like matrices"
   ]
  },
  {
   "cell_type": "markdown",
   "metadata": {},
   "source": [
    "Let's build a simple Hamiltonian-like matrix"
   ]
  },
  {
   "cell_type": "code",
   "execution_count": 272,
   "metadata": {},
   "outputs": [],
   "source": [
    "N = 100\n",
    "μ = fill(-0.5, N)\n",
    "t = fill(1, N-1);"
   ]
  },
  {
   "cell_type": "code",
   "execution_count": 273,
   "metadata": {},
   "outputs": [
    {
     "data": {
      "text/plain": [
       "100×100 Array{Float64,2}:\n",
       " -0.5   1.0   0.0   0.0   0.0   0.0  …   0.0   0.0   0.0   0.0   0.0   0.0\n",
       "  1.0  -0.5   1.0   0.0   0.0   0.0      0.0   0.0   0.0   0.0   0.0   0.0\n",
       "  0.0   1.0  -0.5   1.0   0.0   0.0      0.0   0.0   0.0   0.0   0.0   0.0\n",
       "  0.0   0.0   1.0  -0.5   1.0   0.0      0.0   0.0   0.0   0.0   0.0   0.0\n",
       "  0.0   0.0   0.0   1.0  -0.5   1.0      0.0   0.0   0.0   0.0   0.0   0.0\n",
       "  0.0   0.0   0.0   0.0   1.0  -0.5  …   0.0   0.0   0.0   0.0   0.0   0.0\n",
       "  0.0   0.0   0.0   0.0   0.0   1.0      0.0   0.0   0.0   0.0   0.0   0.0\n",
       "  0.0   0.0   0.0   0.0   0.0   0.0      0.0   0.0   0.0   0.0   0.0   0.0\n",
       "  0.0   0.0   0.0   0.0   0.0   0.0      0.0   0.0   0.0   0.0   0.0   0.0\n",
       "  0.0   0.0   0.0   0.0   0.0   0.0      0.0   0.0   0.0   0.0   0.0   0.0\n",
       "  0.0   0.0   0.0   0.0   0.0   0.0  …   0.0   0.0   0.0   0.0   0.0   0.0\n",
       "  0.0   0.0   0.0   0.0   0.0   0.0      0.0   0.0   0.0   0.0   0.0   0.0\n",
       "  0.0   0.0   0.0   0.0   0.0   0.0      0.0   0.0   0.0   0.0   0.0   0.0\n",
       "  ⋮                             ⋮    ⋱         ⋮                          \n",
       "  0.0   0.0   0.0   0.0   0.0   0.0      0.0   0.0   0.0   0.0   0.0   0.0\n",
       "  0.0   0.0   0.0   0.0   0.0   0.0      0.0   0.0   0.0   0.0   0.0   0.0\n",
       "  0.0   0.0   0.0   0.0   0.0   0.0  …   0.0   0.0   0.0   0.0   0.0   0.0\n",
       "  0.0   0.0   0.0   0.0   0.0   0.0      0.0   0.0   0.0   0.0   0.0   0.0\n",
       "  0.0   0.0   0.0   0.0   0.0   0.0      0.0   0.0   0.0   0.0   0.0   0.0\n",
       "  0.0   0.0   0.0   0.0   0.0   0.0      1.0   0.0   0.0   0.0   0.0   0.0\n",
       "  0.0   0.0   0.0   0.0   0.0   0.0     -0.5   1.0   0.0   0.0   0.0   0.0\n",
       "  0.0   0.0   0.0   0.0   0.0   0.0  …   1.0  -0.5   1.0   0.0   0.0   0.0\n",
       "  0.0   0.0   0.0   0.0   0.0   0.0      0.0   1.0  -0.5   1.0   0.0   0.0\n",
       "  0.0   0.0   0.0   0.0   0.0   0.0      0.0   0.0   1.0  -0.5   1.0   0.0\n",
       "  0.0   0.0   0.0   0.0   0.0   0.0      0.0   0.0   0.0   1.0  -0.5   1.0\n",
       "  0.0   0.0   0.0   0.0   0.0   0.0      0.0   0.0   0.0   0.0   1.0  -0.5"
      ]
     },
     "execution_count": 273,
     "metadata": {},
     "output_type": "execute_result"
    }
   ],
   "source": [
    "H = diagm(0 => μ, 1 => t, -1 => t)"
   ]
  },
  {
   "cell_type": "code",
   "execution_count": 274,
   "metadata": {},
   "outputs": [
    {
     "data": {
      "text/plain": [
       "transform (generic function with 1 method)"
      ]
     },
     "execution_count": 274,
     "metadata": {},
     "output_type": "execute_result"
    }
   ],
   "source": [
    "function transform(H)\n",
    "    # Some operation on H\n",
    "    return H*H\n",
    "end"
   ]
  },
  {
   "cell_type": "code",
   "execution_count": 275,
   "metadata": {},
   "outputs": [
    {
     "name": "stdout",
     "output_type": "stream",
     "text": [
      "  37.410 μs (2 allocations: 78.20 KiB)\n"
     ]
    }
   ],
   "source": [
    "@btime transform($H);"
   ]
  },
  {
   "cell_type": "code",
   "execution_count": 276,
   "metadata": {},
   "outputs": [
    {
     "data": {
      "text/plain": [
       "Array{Float64,2}"
      ]
     },
     "execution_count": 276,
     "metadata": {},
     "output_type": "execute_result"
    }
   ],
   "source": [
    "typeof(H)"
   ]
  },
  {
   "cell_type": "markdown",
   "metadata": {},
   "source": [
    "As long as the code is generic (respects the informal `AbstractArray` interface), we can use the same piece of code for completely different array types."
   ]
  },
  {
   "cell_type": "code",
   "execution_count": 277,
   "metadata": {},
   "outputs": [
    {
     "data": {
      "text/plain": [
       "100×100 SparseMatrixCSC{Float64,Int64} with 298 stored entries:\n",
       "  [1  ,   1]  =  -0.5\n",
       "  [2  ,   1]  =  1.0\n",
       "  [1  ,   2]  =  1.0\n",
       "  [2  ,   2]  =  -0.5\n",
       "  [3  ,   2]  =  1.0\n",
       "  [2  ,   3]  =  1.0\n",
       "  [3  ,   3]  =  -0.5\n",
       "  [4  ,   3]  =  1.0\n",
       "  [3  ,   4]  =  1.0\n",
       "  [4  ,   4]  =  -0.5\n",
       "  [5  ,   4]  =  1.0\n",
       "  [4  ,   5]  =  1.0\n",
       "  ⋮\n",
       "  [97 ,  96]  =  1.0\n",
       "  [96 ,  97]  =  1.0\n",
       "  [97 ,  97]  =  -0.5\n",
       "  [98 ,  97]  =  1.0\n",
       "  [97 ,  98]  =  1.0\n",
       "  [98 ,  98]  =  -0.5\n",
       "  [99 ,  98]  =  1.0\n",
       "  [98 ,  99]  =  1.0\n",
       "  [99 ,  99]  =  -0.5\n",
       "  [100,  99]  =  1.0\n",
       "  [99 , 100]  =  1.0\n",
       "  [100, 100]  =  -0.5"
      ]
     },
     "execution_count": 277,
     "metadata": {},
     "output_type": "execute_result"
    }
   ],
   "source": [
    "Hsparse = sparse(H)"
   ]
  },
  {
   "cell_type": "code",
   "execution_count": 278,
   "metadata": {},
   "outputs": [
    {
     "name": "stdout",
     "output_type": "stream",
     "text": [
      "  19.169 μs (309 allocations: 32.11 KiB)\n"
     ]
    }
   ],
   "source": [
    "@btime transform($Hsparse);"
   ]
  },
  {
   "cell_type": "markdown",
   "metadata": {},
   "source": [
    "Let's exploit the banded structure of the Hamiltonian"
   ]
  },
  {
   "cell_type": "code",
   "execution_count": 279,
   "metadata": {},
   "outputs": [
    {
     "data": {
      "text/plain": [
       "100×100 BandedMatrix{Float64,Array{Float64,2}}:\n",
       " -0.5   1.0    ⋅     ⋅     ⋅     ⋅   …    ⋅     ⋅     ⋅     ⋅     ⋅     ⋅ \n",
       "  1.0  -0.5   1.0    ⋅     ⋅     ⋅        ⋅     ⋅     ⋅     ⋅     ⋅     ⋅ \n",
       "   ⋅    1.0  -0.5   1.0    ⋅     ⋅        ⋅     ⋅     ⋅     ⋅     ⋅     ⋅ \n",
       "   ⋅     ⋅    1.0  -0.5   1.0    ⋅        ⋅     ⋅     ⋅     ⋅     ⋅     ⋅ \n",
       "   ⋅     ⋅     ⋅    1.0  -0.5   1.0       ⋅     ⋅     ⋅     ⋅     ⋅     ⋅ \n",
       "   ⋅     ⋅     ⋅     ⋅    1.0  -0.5  …    ⋅     ⋅     ⋅     ⋅     ⋅     ⋅ \n",
       "   ⋅     ⋅     ⋅     ⋅     ⋅    1.0       ⋅     ⋅     ⋅     ⋅     ⋅     ⋅ \n",
       "   ⋅     ⋅     ⋅     ⋅     ⋅     ⋅        ⋅     ⋅     ⋅     ⋅     ⋅     ⋅ \n",
       "   ⋅     ⋅     ⋅     ⋅     ⋅     ⋅        ⋅     ⋅     ⋅     ⋅     ⋅     ⋅ \n",
       "   ⋅     ⋅     ⋅     ⋅     ⋅     ⋅        ⋅     ⋅     ⋅     ⋅     ⋅     ⋅ \n",
       "   ⋅     ⋅     ⋅     ⋅     ⋅     ⋅   …    ⋅     ⋅     ⋅     ⋅     ⋅     ⋅ \n",
       "   ⋅     ⋅     ⋅     ⋅     ⋅     ⋅        ⋅     ⋅     ⋅     ⋅     ⋅     ⋅ \n",
       "   ⋅     ⋅     ⋅     ⋅     ⋅     ⋅        ⋅     ⋅     ⋅     ⋅     ⋅     ⋅ \n",
       "  ⋮                             ⋮    ⋱         ⋮                          \n",
       "   ⋅     ⋅     ⋅     ⋅     ⋅     ⋅        ⋅     ⋅     ⋅     ⋅     ⋅     ⋅ \n",
       "   ⋅     ⋅     ⋅     ⋅     ⋅     ⋅        ⋅     ⋅     ⋅     ⋅     ⋅     ⋅ \n",
       "   ⋅     ⋅     ⋅     ⋅     ⋅     ⋅   …    ⋅     ⋅     ⋅     ⋅     ⋅     ⋅ \n",
       "   ⋅     ⋅     ⋅     ⋅     ⋅     ⋅        ⋅     ⋅     ⋅     ⋅     ⋅     ⋅ \n",
       "   ⋅     ⋅     ⋅     ⋅     ⋅     ⋅        ⋅     ⋅     ⋅     ⋅     ⋅     ⋅ \n",
       "   ⋅     ⋅     ⋅     ⋅     ⋅     ⋅       1.0    ⋅     ⋅     ⋅     ⋅     ⋅ \n",
       "   ⋅     ⋅     ⋅     ⋅     ⋅     ⋅      -0.5   1.0    ⋅     ⋅     ⋅     ⋅ \n",
       "   ⋅     ⋅     ⋅     ⋅     ⋅     ⋅   …   1.0  -0.5   1.0    ⋅     ⋅     ⋅ \n",
       "   ⋅     ⋅     ⋅     ⋅     ⋅     ⋅        ⋅    1.0  -0.5   1.0    ⋅     ⋅ \n",
       "   ⋅     ⋅     ⋅     ⋅     ⋅     ⋅        ⋅     ⋅    1.0  -0.5   1.0    ⋅ \n",
       "   ⋅     ⋅     ⋅     ⋅     ⋅     ⋅        ⋅     ⋅     ⋅    1.0  -0.5   1.0\n",
       "   ⋅     ⋅     ⋅     ⋅     ⋅     ⋅        ⋅     ⋅     ⋅     ⋅    1.0  -0.5"
      ]
     },
     "execution_count": 279,
     "metadata": {},
     "output_type": "execute_result"
    }
   ],
   "source": [
    "using BandedMatrices\n",
    "Hbanded = BandedMatrix(0 => μ, 1 => t, -1 => t)"
   ]
  },
  {
   "cell_type": "code",
   "execution_count": 280,
   "metadata": {},
   "outputs": [
    {
     "name": "stdout",
     "output_type": "stream",
     "text": [
      "  4.682 μs (2 allocations: 4.11 KiB)\n"
     ]
    }
   ],
   "source": [
    "@btime transform($Hbanded);"
   ]
  },
  {
   "cell_type": "markdown",
   "metadata": {},
   "source": [
    "## It's not that easy though"
   ]
  },
  {
   "cell_type": "markdown",
   "metadata": {},
   "source": [
    "Unfortunately life's not that simple. Choosing the best type (and therewith an algorithm) can be tricky and one has to play around a bit.\n",
    "\n",
    "For example, you would expect that `Tridiagonal` is a reasonable type for aboves example. Turns out that multiplication of two `Tridiagonal` matrices is slower than the generic matrix-matrix product."
   ]
  },
  {
   "cell_type": "code",
   "execution_count": 283,
   "metadata": {},
   "outputs": [
    {
     "data": {
      "text/plain": [
       "100×100 Tridiagonal{Float64,Array{Float64,1}}:\n",
       " -0.5   1.0    ⋅     ⋅     ⋅     ⋅   …    ⋅     ⋅     ⋅     ⋅     ⋅     ⋅ \n",
       "  1.0  -0.5   1.0    ⋅     ⋅     ⋅        ⋅     ⋅     ⋅     ⋅     ⋅     ⋅ \n",
       "   ⋅    1.0  -0.5   1.0    ⋅     ⋅        ⋅     ⋅     ⋅     ⋅     ⋅     ⋅ \n",
       "   ⋅     ⋅    1.0  -0.5   1.0    ⋅        ⋅     ⋅     ⋅     ⋅     ⋅     ⋅ \n",
       "   ⋅     ⋅     ⋅    1.0  -0.5   1.0       ⋅     ⋅     ⋅     ⋅     ⋅     ⋅ \n",
       "   ⋅     ⋅     ⋅     ⋅    1.0  -0.5  …    ⋅     ⋅     ⋅     ⋅     ⋅     ⋅ \n",
       "   ⋅     ⋅     ⋅     ⋅     ⋅    1.0       ⋅     ⋅     ⋅     ⋅     ⋅     ⋅ \n",
       "   ⋅     ⋅     ⋅     ⋅     ⋅     ⋅        ⋅     ⋅     ⋅     ⋅     ⋅     ⋅ \n",
       "   ⋅     ⋅     ⋅     ⋅     ⋅     ⋅        ⋅     ⋅     ⋅     ⋅     ⋅     ⋅ \n",
       "   ⋅     ⋅     ⋅     ⋅     ⋅     ⋅        ⋅     ⋅     ⋅     ⋅     ⋅     ⋅ \n",
       "   ⋅     ⋅     ⋅     ⋅     ⋅     ⋅   …    ⋅     ⋅     ⋅     ⋅     ⋅     ⋅ \n",
       "   ⋅     ⋅     ⋅     ⋅     ⋅     ⋅        ⋅     ⋅     ⋅     ⋅     ⋅     ⋅ \n",
       "   ⋅     ⋅     ⋅     ⋅     ⋅     ⋅        ⋅     ⋅     ⋅     ⋅     ⋅     ⋅ \n",
       "  ⋮                             ⋮    ⋱         ⋮                          \n",
       "   ⋅     ⋅     ⋅     ⋅     ⋅     ⋅        ⋅     ⋅     ⋅     ⋅     ⋅     ⋅ \n",
       "   ⋅     ⋅     ⋅     ⋅     ⋅     ⋅        ⋅     ⋅     ⋅     ⋅     ⋅     ⋅ \n",
       "   ⋅     ⋅     ⋅     ⋅     ⋅     ⋅   …    ⋅     ⋅     ⋅     ⋅     ⋅     ⋅ \n",
       "   ⋅     ⋅     ⋅     ⋅     ⋅     ⋅        ⋅     ⋅     ⋅     ⋅     ⋅     ⋅ \n",
       "   ⋅     ⋅     ⋅     ⋅     ⋅     ⋅        ⋅     ⋅     ⋅     ⋅     ⋅     ⋅ \n",
       "   ⋅     ⋅     ⋅     ⋅     ⋅     ⋅       1.0    ⋅     ⋅     ⋅     ⋅     ⋅ \n",
       "   ⋅     ⋅     ⋅     ⋅     ⋅     ⋅      -0.5   1.0    ⋅     ⋅     ⋅     ⋅ \n",
       "   ⋅     ⋅     ⋅     ⋅     ⋅     ⋅   …   1.0  -0.5   1.0    ⋅     ⋅     ⋅ \n",
       "   ⋅     ⋅     ⋅     ⋅     ⋅     ⋅        ⋅    1.0  -0.5   1.0    ⋅     ⋅ \n",
       "   ⋅     ⋅     ⋅     ⋅     ⋅     ⋅        ⋅     ⋅    1.0  -0.5   1.0    ⋅ \n",
       "   ⋅     ⋅     ⋅     ⋅     ⋅     ⋅        ⋅     ⋅     ⋅    1.0  -0.5   1.0\n",
       "   ⋅     ⋅     ⋅     ⋅     ⋅     ⋅        ⋅     ⋅     ⋅     ⋅    1.0  -0.5"
      ]
     },
     "execution_count": 283,
     "metadata": {},
     "output_type": "execute_result"
    }
   ],
   "source": [
    "Htr = Tridiagonal(H)"
   ]
  },
  {
   "cell_type": "code",
   "execution_count": 285,
   "metadata": {},
   "outputs": [
    {
     "name": "stdout",
     "output_type": "stream",
     "text": [
      "  33.082 μs (2 allocations: 78.20 KiB)\n",
      "  48.850 μs (6 allocations: 234.61 KiB)\n"
     ]
    }
   ],
   "source": [
    "@btime transform($H);\n",
    "@btime transform($Htr);"
   ]
  },
  {
   "cell_type": "markdown",
   "metadata": {},
   "source": [
    "The good thing is that it's very easy to try out different types!"
   ]
  },
  {
   "cell_type": "markdown",
   "metadata": {},
   "source": [
    "# Move everything to the GPU"
   ]
  },
  {
   "cell_type": "markdown",
   "metadata": {},
   "source": [
    "Just to push this idea of \"generic coding\" a bit more, want to put the calculation on a GPU? Sure... (if you have one :D)"
   ]
  },
  {
   "cell_type": "code",
   "execution_count": 291,
   "metadata": {},
   "outputs": [],
   "source": [
    "using GPUArrays"
   ]
  },
  {
   "cell_type": "code",
   "execution_count": 292,
   "metadata": {},
   "outputs": [
    {
     "data": {
      "text/plain": [
       "100×100 JLArray{Float64,2}:\n",
       " -0.5   1.0   0.0   0.0   0.0   0.0  …   0.0   0.0   0.0   0.0   0.0   0.0\n",
       "  1.0  -0.5   1.0   0.0   0.0   0.0      0.0   0.0   0.0   0.0   0.0   0.0\n",
       "  0.0   1.0  -0.5   1.0   0.0   0.0      0.0   0.0   0.0   0.0   0.0   0.0\n",
       "  0.0   0.0   1.0  -0.5   1.0   0.0      0.0   0.0   0.0   0.0   0.0   0.0\n",
       "  0.0   0.0   0.0   1.0  -0.5   1.0      0.0   0.0   0.0   0.0   0.0   0.0\n",
       "  0.0   0.0   0.0   0.0   1.0  -0.5  …   0.0   0.0   0.0   0.0   0.0   0.0\n",
       "  0.0   0.0   0.0   0.0   0.0   1.0      0.0   0.0   0.0   0.0   0.0   0.0\n",
       "  0.0   0.0   0.0   0.0   0.0   0.0      0.0   0.0   0.0   0.0   0.0   0.0\n",
       "  0.0   0.0   0.0   0.0   0.0   0.0      0.0   0.0   0.0   0.0   0.0   0.0\n",
       "  0.0   0.0   0.0   0.0   0.0   0.0      0.0   0.0   0.0   0.0   0.0   0.0\n",
       "  0.0   0.0   0.0   0.0   0.0   0.0  …   0.0   0.0   0.0   0.0   0.0   0.0\n",
       "  0.0   0.0   0.0   0.0   0.0   0.0      0.0   0.0   0.0   0.0   0.0   0.0\n",
       "  0.0   0.0   0.0   0.0   0.0   0.0      0.0   0.0   0.0   0.0   0.0   0.0\n",
       "  ⋮                             ⋮    ⋱         ⋮                          \n",
       "  0.0   0.0   0.0   0.0   0.0   0.0      0.0   0.0   0.0   0.0   0.0   0.0\n",
       "  0.0   0.0   0.0   0.0   0.0   0.0      0.0   0.0   0.0   0.0   0.0   0.0\n",
       "  0.0   0.0   0.0   0.0   0.0   0.0  …   0.0   0.0   0.0   0.0   0.0   0.0\n",
       "  0.0   0.0   0.0   0.0   0.0   0.0      0.0   0.0   0.0   0.0   0.0   0.0\n",
       "  0.0   0.0   0.0   0.0   0.0   0.0      0.0   0.0   0.0   0.0   0.0   0.0\n",
       "  0.0   0.0   0.0   0.0   0.0   0.0      1.0   0.0   0.0   0.0   0.0   0.0\n",
       "  0.0   0.0   0.0   0.0   0.0   0.0     -0.5   1.0   0.0   0.0   0.0   0.0\n",
       "  0.0   0.0   0.0   0.0   0.0   0.0  …   1.0  -0.5   1.0   0.0   0.0   0.0\n",
       "  0.0   0.0   0.0   0.0   0.0   0.0      0.0   1.0  -0.5   1.0   0.0   0.0\n",
       "  0.0   0.0   0.0   0.0   0.0   0.0      0.0   0.0   1.0  -0.5   1.0   0.0\n",
       "  0.0   0.0   0.0   0.0   0.0   0.0      0.0   0.0   0.0   1.0  -0.5   1.0\n",
       "  0.0   0.0   0.0   0.0   0.0   0.0      0.0   0.0   0.0   0.0   1.0  -0.5"
      ]
     },
     "execution_count": 292,
     "metadata": {},
     "output_type": "execute_result"
    }
   ],
   "source": [
    "# Hgpu = CuArray(H) # CUDA, CuArrays.jl\n",
    "# Hgpu = CLArray(H) # Open-CL, CLArrays.jl\n",
    "Hgpu = JLArray(H) # I don't have a GPU so I'll take a fake GPU Array on the CPU :)"
   ]
  },
  {
   "cell_type": "code",
   "execution_count": 293,
   "metadata": {},
   "outputs": [
    {
     "name": "stdout",
     "output_type": "stream",
     "text": [
      "  37.720 μs (3 allocations: 78.23 KiB)\n"
     ]
    }
   ],
   "source": [
    "@btime transform($Hgpu); # of course it's no faster without a real GPU :)"
   ]
  },
  {
   "cell_type": "markdown",
   "metadata": {},
   "source": [
    "With `DistributedArray` we'll learn about another type that is similar in spirit."
   ]
  },
  {
   "cell_type": "markdown",
   "metadata": {},
   "source": [
    "# Eigendecomposition"
   ]
  },
  {
   "cell_type": "markdown",
   "metadata": {},
   "source": [
    "Note that there are some solvers for dense matrices, others for sparse matrices, some \"classical\" ones, and other iterative solvers.\n",
    "\n",
    "Since Julia is currently mostly calling Fortran libraries (LAPACK or ARPACK.jl for sparse matrices) you won't get any real performance benefit here."
   ]
  },
  {
   "cell_type": "markdown",
   "metadata": {},
   "source": [
    "## Dense matrices"
   ]
  },
  {
   "cell_type": "code",
   "execution_count": 294,
   "metadata": {},
   "outputs": [
    {
     "data": {
      "text/plain": [
       "Eigen{Float64,Float64,Array{Float64,2},Array{Float64,1}}\n",
       "eigenvalues:\n",
       "100-element Array{Float64,1}:\n",
       " -2.4990325645839753\n",
       " -2.4961311942671887\n",
       " -2.4912986959380365\n",
       " -2.484539744726553 \n",
       " -2.475860879481513 \n",
       " -2.4652704964445267\n",
       " -2.4527788411272136\n",
       " -2.438397998399332 \n",
       " -2.422141880797449 \n",
       " -2.4040262150654583\n",
       " -2.384068526939977 \n",
       " -2.3622881241953175\n",
       " -2.3387060779644715\n",
       "  ⋮                 \n",
       "  1.362288124195319 \n",
       "  1.3840685269399784\n",
       "  1.4040262150654599\n",
       "  1.422141880797449 \n",
       "  1.4383979983993322\n",
       "  1.452778841127214 \n",
       "  1.4652704964445273\n",
       "  1.4758608794815133\n",
       "  1.484539744726553 \n",
       "  1.4912986959380372\n",
       "  1.4961311942671887\n",
       "  1.4990325645839762\n",
       "eigenvectors:\n",
       "100×100 Array{Float64,2}:\n",
       "  0.00437636   0.00874848  -0.0131121  …  0.0131121   0.00874848  0.00437636\n",
       " -0.00874848  -0.0174631    0.0261102     0.0261102   0.0174631   0.00874848\n",
       "  0.0131121    0.0261102   -0.038881      0.038881    0.0261102   0.0131121 \n",
       " -0.0174631   -0.0346562    0.0513136     0.0513136   0.0346562   0.0174631 \n",
       "  0.0217972    0.0430682   -0.0632996     0.0632996   0.0430682   0.0217972 \n",
       " -0.0261102   -0.0513136    0.0747349  …  0.0747349   0.0513136   0.0261102 \n",
       "  0.0303979    0.0593604   -0.0855198     0.0855198   0.0593604   0.0303979 \n",
       " -0.0346562   -0.0671776    0.0955607     0.0955607   0.0671776   0.0346562 \n",
       "  0.038881     0.0747349   -0.10477       0.10477     0.0747349   0.038881  \n",
       " -0.0430682   -0.082003     0.113068      0.113068    0.082003    0.0430682 \n",
       "  0.0472137    0.0889539   -0.120382   …  0.120382    0.0889539   0.0472137 \n",
       " -0.0513136   -0.0955607    0.126648      0.126648    0.0955607   0.0513136 \n",
       "  0.0553638    0.101798    -0.131812      0.131812    0.101798    0.0553638 \n",
       "  ⋮                                    ⋱                                    \n",
       "  0.0513136   -0.0955607   -0.126648      0.126648   -0.0955607   0.0513136 \n",
       " -0.0472137    0.0889539    0.120382      0.120382   -0.0889539   0.0472137 \n",
       "  0.0430682   -0.082003    -0.113068   …  0.113068   -0.082003    0.0430682 \n",
       " -0.038881     0.0747349    0.10477       0.10477    -0.0747349   0.038881  \n",
       "  0.0346562   -0.0671776   -0.0955607     0.0955607  -0.0671776   0.0346562 \n",
       " -0.0303979    0.0593604    0.0855198     0.0855198  -0.0593604   0.0303979 \n",
       "  0.0261102   -0.0513136   -0.0747349     0.0747349  -0.0513136   0.0261102 \n",
       " -0.0217972    0.0430682    0.0632996  …  0.0632996  -0.0430682   0.0217972 \n",
       "  0.0174631   -0.0346562   -0.0513136     0.0513136  -0.0346562   0.0174631 \n",
       " -0.0131121    0.0261102    0.038881      0.038881   -0.0261102   0.0131121 \n",
       "  0.00874848  -0.0174631   -0.0261102     0.0261102  -0.0174631   0.00874848\n",
       " -0.00437636   0.00874848   0.0131121     0.0131121  -0.00874848  0.00437636"
      ]
     },
     "execution_count": 294,
     "metadata": {},
     "output_type": "execute_result"
    }
   ],
   "source": [
    "eigen(H)"
   ]
  },
  {
   "cell_type": "code",
   "execution_count": 305,
   "metadata": {},
   "outputs": [
    {
     "data": {
      "text/plain": [
       "100-element Array{Float64,1}:\n",
       " -2.4990325645839757\n",
       " -2.496131194267189 \n",
       " -2.4912986959380365\n",
       " -2.4845397447265527\n",
       " -2.475860879481514 \n",
       " -2.4652704964445276\n",
       " -2.4527788411272144\n",
       " -2.4383979983993314\n",
       " -2.422141880797449 \n",
       " -2.4040262150654588\n",
       " -2.384068526939979 \n",
       " -2.3622881241953184\n",
       " -2.338706077964473 \n",
       "  ⋮                 \n",
       "  1.3622881241953189\n",
       "  1.3840685269399777\n",
       "  1.4040262150654603\n",
       "  1.4221418807974493\n",
       "  1.438397998399332 \n",
       "  1.4527788411272136\n",
       "  1.4652704964445276\n",
       "  1.4758608794815136\n",
       "  1.4845397447265527\n",
       "  1.491298695938037 \n",
       "  1.4961311942671893\n",
       "  1.499032564583976 "
      ]
     },
     "execution_count": 305,
     "metadata": {},
     "output_type": "execute_result"
    }
   ],
   "source": [
    "eigvals(H)"
   ]
  },
  {
   "cell_type": "code",
   "execution_count": 304,
   "metadata": {},
   "outputs": [
    {
     "name": "stdout",
     "output_type": "stream",
     "text": [
      "  1.786 ms (15 allocations: 272.13 KiB)\n",
      "  1.338 ms (12 allocations: 115.84 KiB)\n"
     ]
    }
   ],
   "source": [
    "@btime eigen($H);\n",
    "@btime eigvals($H);"
   ]
  },
  {
   "cell_type": "markdown",
   "metadata": {},
   "source": [
    "Since Julia is using eigenproblem solvers from LAPACK (written in a low-level language) the code is, of course, not generic.\n",
    "\n",
    "The best Julia can do is manually dispatch to the best LAPACK routine available.\n",
    "\n",
    "Hence, it won't work with most of our special matrices."
   ]
  },
  {
   "cell_type": "code",
   "execution_count": 330,
   "metadata": {},
   "outputs": [],
   "source": [
    "eigen(Diagonal(H)); # works (different Hamiltonian)"
   ]
  },
  {
   "cell_type": "code",
   "execution_count": 328,
   "metadata": {},
   "outputs": [
    {
     "ename": "MethodError",
     "evalue": "MethodError: no method matching eigen(::Tridiagonal{Float64,Array{Float64,1}})\nClosest candidates are:\n  eigen(::AbstractArray{TA,2}, !Matched::AbstractArray{TB,2}) where {TA, TB} at C:\\cygwin\\home\\Administrator\\buildbot\\worker\\package_win64\\build\\usr\\share\\julia\\stdlib\\v1.0\\LinearAlgebra\\src\\eigen.jl:382\n  eigen(!Matched::SymTridiagonal{T,V} where V<:AbstractArray{T,1}) where T at C:\\cygwin\\home\\Administrator\\buildbot\\worker\\package_win64\\build\\usr\\share\\julia\\stdlib\\v1.0\\LinearAlgebra\\src\\tridiag.jl:201\n  eigen(!Matched::SymTridiagonal{T,V} where V<:AbstractArray{T,1}, !Matched::UnitRange) where T at C:\\cygwin\\home\\Administrator\\buildbot\\worker\\package_win64\\build\\usr\\share\\julia\\stdlib\\v1.0\\LinearAlgebra\\src\\tridiag.jl:205\n  ...",
     "output_type": "error",
     "traceback": [
      "MethodError: no method matching eigen(::Tridiagonal{Float64,Array{Float64,1}})\nClosest candidates are:\n  eigen(::AbstractArray{TA,2}, !Matched::AbstractArray{TB,2}) where {TA, TB} at C:\\cygwin\\home\\Administrator\\buildbot\\worker\\package_win64\\build\\usr\\share\\julia\\stdlib\\v1.0\\LinearAlgebra\\src\\eigen.jl:382\n  eigen(!Matched::SymTridiagonal{T,V} where V<:AbstractArray{T,1}) where T at C:\\cygwin\\home\\Administrator\\buildbot\\worker\\package_win64\\build\\usr\\share\\julia\\stdlib\\v1.0\\LinearAlgebra\\src\\tridiag.jl:201\n  eigen(!Matched::SymTridiagonal{T,V} where V<:AbstractArray{T,1}, !Matched::UnitRange) where T at C:\\cygwin\\home\\Administrator\\buildbot\\worker\\package_win64\\build\\usr\\share\\julia\\stdlib\\v1.0\\LinearAlgebra\\src\\tridiag.jl:205\n  ...",
      "",
      "Stacktrace:",
      " [1] top-level scope at In[328]:1"
     ]
    }
   ],
   "source": [
    "eigen(Tridiagonal(H)); # should probably either fallback to a generic routine or error"
   ]
  },
  {
   "cell_type": "code",
   "execution_count": 327,
   "metadata": {},
   "outputs": [
    {
     "ename": "MethodError",
     "evalue": "MethodError: no method matching eigen(::BandedMatrix{Float64,Array{Float64,2}})\nClosest candidates are:\n  eigen(::AbstractArray{TA,2}, !Matched::AbstractArray{TB,2}) where {TA, TB} at C:\\cygwin\\home\\Administrator\\buildbot\\worker\\package_win64\\build\\usr\\share\\julia\\stdlib\\v1.0\\LinearAlgebra\\src\\eigen.jl:382\n  eigen(!Matched::SymTridiagonal{T,V} where V<:AbstractArray{T,1}) where T at C:\\cygwin\\home\\Administrator\\buildbot\\worker\\package_win64\\build\\usr\\share\\julia\\stdlib\\v1.0\\LinearAlgebra\\src\\tridiag.jl:201\n  eigen(!Matched::SymTridiagonal{T,V} where V<:AbstractArray{T,1}, !Matched::UnitRange) where T at C:\\cygwin\\home\\Administrator\\buildbot\\worker\\package_win64\\build\\usr\\share\\julia\\stdlib\\v1.0\\LinearAlgebra\\src\\tridiag.jl:205\n  ...",
     "output_type": "error",
     "traceback": [
      "MethodError: no method matching eigen(::BandedMatrix{Float64,Array{Float64,2}})\nClosest candidates are:\n  eigen(::AbstractArray{TA,2}, !Matched::AbstractArray{TB,2}) where {TA, TB} at C:\\cygwin\\home\\Administrator\\buildbot\\worker\\package_win64\\build\\usr\\share\\julia\\stdlib\\v1.0\\LinearAlgebra\\src\\eigen.jl:382\n  eigen(!Matched::SymTridiagonal{T,V} where V<:AbstractArray{T,1}) where T at C:\\cygwin\\home\\Administrator\\buildbot\\worker\\package_win64\\build\\usr\\share\\julia\\stdlib\\v1.0\\LinearAlgebra\\src\\tridiag.jl:201\n  eigen(!Matched::SymTridiagonal{T,V} where V<:AbstractArray{T,1}, !Matched::UnitRange) where T at C:\\cygwin\\home\\Administrator\\buildbot\\worker\\package_win64\\build\\usr\\share\\julia\\stdlib\\v1.0\\LinearAlgebra\\src\\tridiag.jl:205\n  ...",
      "",
      "Stacktrace:",
      " [1] top-level scope at In[327]:1"
     ]
    }
   ],
   "source": [
    "# doesn't work because BandedMatrices.jl is an external package (without any eigen solvers) that is unkown to base Julia\n",
    "eigen(Hbanded);"
   ]
  },
  {
   "cell_type": "code",
   "execution_count": 326,
   "metadata": {},
   "outputs": [],
   "source": [
    "eigen(Symmetric(H));"
   ]
  },
  {
   "cell_type": "code",
   "execution_count": 325,
   "metadata": {},
   "outputs": [
    {
     "name": "stdout",
     "output_type": "stream",
     "text": [
      "  1.720 ms (15 allocations: 272.13 KiB)\n"
     ]
    }
   ],
   "source": [
    "@btime eigen($(Symmetric(H))); # no faster than using plain H"
   ]
  },
  {
   "cell_type": "markdown",
   "metadata": {},
   "source": [
    "And most importantly, the sparse case"
   ]
  },
  {
   "cell_type": "code",
   "execution_count": 332,
   "metadata": {},
   "outputs": [
    {
     "ename": "ErrorException",
     "evalue": "eigen(A) not supported for sparse matrices. Use for example eigs(A) from the Arpack package instead.",
     "output_type": "error",
     "traceback": [
      "eigen(A) not supported for sparse matrices. Use for example eigs(A) from the Arpack package instead.",
      "",
      "Stacktrace:",
      " [1] error(::String) at .\\error.jl:33",
      " [2] eigen(::SparseMatrixCSC{Float64,Int64}) at C:\\cygwin\\home\\Administrator\\buildbot\\worker\\package_win64\\build\\usr\\share\\julia\\stdlib\\v1.0\\SparseArrays\\src\\linalg.jl:1113",
      " [3] top-level scope at In[332]:1"
     ]
    }
   ],
   "source": [
    "eigen(Hsparse)"
   ]
  },
  {
   "cell_type": "markdown",
   "metadata": {},
   "source": [
    "Let's follow Julia's advice and take a look at [ARPACK.jl](https://github.com/JuliaLinearAlgebra/Arpack.jl)."
   ]
  },
  {
   "cell_type": "markdown",
   "metadata": {},
   "source": [
    "## Sparse -  Arpack.jl"
   ]
  },
  {
   "cell_type": "markdown",
   "metadata": {},
   "source": [
    "Wrapper to Fortran library [ARPACK](https://www.caam.rice.edu/software/ARPACK/) which implements **iterative** eigenvalue and singular value solvers.\n",
    "\n",
    "This is the same library that scipy uses."
   ]
  },
  {
   "cell_type": "code",
   "execution_count": 336,
   "metadata": {},
   "outputs": [],
   "source": [
    "using Arpack"
   ]
  },
  {
   "cell_type": "code",
   "execution_count": 337,
   "metadata": {},
   "outputs": [
    {
     "name": "stdout",
     "output_type": "stream",
     "text": [
      "search: \u001b[0m\u001b[1me\u001b[22m\u001b[0m\u001b[1mi\u001b[22m\u001b[0m\u001b[1mg\u001b[22m\u001b[0m\u001b[1ms\u001b[22m \u001b[0m\u001b[1me\u001b[22m\u001b[0m\u001b[1mi\u001b[22m\u001b[0m\u001b[1mg\u001b[22mvec\u001b[0m\u001b[1ms\u001b[22m \u001b[0m\u001b[1me\u001b[22m\u001b[0m\u001b[1mi\u001b[22m\u001b[0m\u001b[1mg\u001b[22mval\u001b[0m\u001b[1ms\u001b[22m \u001b[0m\u001b[1me\u001b[22m\u001b[0m\u001b[1mi\u001b[22m\u001b[0m\u001b[1mg\u001b[22mval\u001b[0m\u001b[1ms\u001b[22m! l\u001b[0m\u001b[1me\u001b[22mad\u001b[0m\u001b[1mi\u001b[22mn\u001b[0m\u001b[1mg\u001b[22m_one\u001b[0m\u001b[1ms\u001b[22m l\u001b[0m\u001b[1me\u001b[22mad\u001b[0m\u001b[1mi\u001b[22mn\u001b[0m\u001b[1mg\u001b[22m_zero\u001b[0m\u001b[1ms\u001b[22m \u001b[0m\u001b[1me\u001b[22m\u001b[0m\u001b[1mi\u001b[22m\u001b[0m\u001b[1mg\u001b[22men \u001b[0m\u001b[1me\u001b[22m\u001b[0m\u001b[1mi\u001b[22m\u001b[0m\u001b[1mg\u001b[22mmin\n",
      "\n"
     ]
    },
    {
     "data": {
      "text/markdown": [
       "```\n",
       "eigs(A; nev=6, ncv=max(20,2*nev+1), which=:LM, tol=0.0, maxiter=300, sigma=nothing, ritzvec=true, v0=zeros((0,))) -> (d,[v,],nconv,niter,nmult,resid)\n",
       "```\n",
       "\n",
       "Computes eigenvalues `d` of `A` using implicitly restarted Lanczos or Arnoldi iterations for real symmetric or general nonsymmetric matrices respectively. See [the manual](@ref lib-itereigen) for more information.\n",
       "\n",
       "`eigs` returns the `nev` requested eigenvalues in `d`, the corresponding Ritz vectors `v` (only if `ritzvec=true`), the number of converged eigenvalues `nconv`, the number of iterations `niter` and the number of matrix vector multiplications `nmult`, as well as the final residual vector `resid`.\n",
       "\n",
       "# Examples\n",
       "\n",
       "```jldoctest\n",
       "julia> using Arpack\n",
       "\n",
       "julia> A = Diagonal(1:4);\n",
       "\n",
       "julia> λ, ϕ = eigs(A, nev = 2);\n",
       "\n",
       "julia> λ\n",
       "2-element Array{Float64,1}:\n",
       " 4.0\n",
       " 3.0\n",
       "```\n",
       "\n",
       "---\n",
       "\n",
       "```\n",
       "eigs(A, B; nev=6, ncv=max(20,2*nev+1), which=:LM, tol=0.0, maxiter=300, sigma=nothing, ritzvec=true, v0=zeros((0,))) -> (d,[v,],nconv,niter,nmult,resid)\n",
       "```\n",
       "\n",
       "Computes generalized eigenvalues `d` of `A` and `B` using implicitly restarted Lanczos or Arnoldi iterations for real symmetric or general nonsymmetric matrices respectively. See [the manual](@ref lib-itereigen) for more information.\n"
      ],
      "text/plain": [
       "\u001b[36m  eigs(A; nev=6, ncv=max(20,2*nev+1), which=:LM, tol=0.0, maxiter=300, sigma=nothing, ritzvec=true, v0=zeros((0,))) -> (d,[v,],nconv,niter,nmult,resid)\u001b[39m\n",
       "\n",
       "  Computes eigenvalues \u001b[36md\u001b[39m of \u001b[36mA\u001b[39m using implicitly restarted Lanczos or Arnoldi\n",
       "  iterations for real symmetric or general nonsymmetric matrices respectively.\n",
       "  See the manual for more information.\n",
       "\n",
       "  \u001b[36meigs\u001b[39m returns the \u001b[36mnev\u001b[39m requested eigenvalues in \u001b[36md\u001b[39m, the corresponding Ritz\n",
       "  vectors \u001b[36mv\u001b[39m (only if \u001b[36mritzvec=true\u001b[39m), the number of converged eigenvalues \u001b[36mnconv\u001b[39m,\n",
       "  the number of iterations \u001b[36mniter\u001b[39m and the number of matrix vector\n",
       "  multiplications \u001b[36mnmult\u001b[39m, as well as the final residual vector \u001b[36mresid\u001b[39m.\n",
       "\n",
       "\u001b[1m  Examples\u001b[22m\n",
       "\u001b[1m  ≡≡≡≡≡≡≡≡≡≡\u001b[22m\n",
       "\n",
       "\u001b[36m  julia> using Arpack\u001b[39m\n",
       "\u001b[36m  \u001b[39m\n",
       "\u001b[36m  julia> A = Diagonal(1:4);\u001b[39m\n",
       "\u001b[36m  \u001b[39m\n",
       "\u001b[36m  julia> λ, ϕ = eigs(A, nev = 2);\u001b[39m\n",
       "\u001b[36m  \u001b[39m\n",
       "\u001b[36m  julia> λ\u001b[39m\n",
       "\u001b[36m  2-element Array{Float64,1}:\u001b[39m\n",
       "\u001b[36m   4.0\u001b[39m\n",
       "\u001b[36m   3.0\u001b[39m\n",
       "\n",
       "  ────────────────────────────────────────────────────────────────────────────\n",
       "\n",
       "\u001b[36m  eigs(A, B; nev=6, ncv=max(20,2*nev+1), which=:LM, tol=0.0, maxiter=300, sigma=nothing, ritzvec=true, v0=zeros((0,))) -> (d,[v,],nconv,niter,nmult,resid)\u001b[39m\n",
       "\n",
       "  Computes generalized eigenvalues \u001b[36md\u001b[39m of \u001b[36mA\u001b[39m and \u001b[36mB\u001b[39m using implicitly restarted\n",
       "  Lanczos or Arnoldi iterations for real symmetric or general nonsymmetric\n",
       "  matrices respectively. See the manual for more information."
      ]
     },
     "execution_count": 337,
     "metadata": {},
     "output_type": "execute_result"
    }
   ],
   "source": [
    "?eigs # because it's a wrapper the function has a different name here"
   ]
  },
  {
   "cell_type": "code",
   "execution_count": 371,
   "metadata": {},
   "outputs": [
    {
     "data": {
      "text/plain": [
       "([-2.49903, -2.49613, -2.4913, -2.48454, -2.47586, -2.46527], [0.00437636 -0.00874848 … 0.0217972 0.0261102; -0.00874848 0.0174631 … -0.0430682 -0.0513136; … ; 0.00874848 0.0174631 … 0.0430682 -0.0513136; -0.00437636 -0.00874848 … -0.0217972 0.0261102], 6, 26, 344, [-0.157345, 0.207757, -0.0903062, -0.0448015, -0.060786, 0.139359, 0.106548, 0.239218, 0.0561659, 0.12447  …  0.13641, 0.108069, 0.326383, -0.108833, 0.0531306, 0.0265787, 0.0399327, -0.0496378, 0.136597, 0.0123446])"
      ]
     },
     "execution_count": 371,
     "metadata": {},
     "output_type": "execute_result"
    }
   ],
   "source": [
    "λ, ϕ = eigs(Hsparse)"
   ]
  },
  {
   "cell_type": "code",
   "execution_count": 374,
   "metadata": {},
   "outputs": [
    {
     "data": {
      "text/plain": [
       "6-element Array{Float64,1}:\n",
       " -2.499032564583982 \n",
       " -2.4961311942671998\n",
       " -2.491298695938051 \n",
       " -2.484539744726561 \n",
       " -2.475860879481513 \n",
       " -2.4652704964445307"
      ]
     },
     "execution_count": 374,
     "metadata": {},
     "output_type": "execute_result"
    }
   ],
   "source": [
    "λ"
   ]
  },
  {
   "cell_type": "code",
   "execution_count": 375,
   "metadata": {},
   "outputs": [
    {
     "data": {
      "text/plain": [
       "100×6 Array{Float64,2}:\n",
       "  0.00437636  -0.00874848   0.0131121  -0.0174631   0.0217972   0.0261102\n",
       " -0.00874848   0.0174631   -0.0261102   0.0346562  -0.0430682  -0.0513136\n",
       "  0.0131121   -0.0261102    0.038881   -0.0513136   0.0632996   0.0747349\n",
       " -0.0174631    0.0346562   -0.0513136   0.0671776  -0.082003   -0.0955607\n",
       "  0.0217972   -0.0430682    0.0632996  -0.082003    0.098727    0.113068 \n",
       " -0.0261102    0.0513136   -0.0747349   0.0955607  -0.113068   -0.126648 \n",
       "  0.0303979   -0.0593604    0.0855198  -0.107641    0.124679    0.13583  \n",
       " -0.0346562    0.0671776   -0.0955607   0.118057   -0.133281   -0.140294 \n",
       "  0.038881    -0.0747349    0.10477    -0.126648    0.138665    0.139886 \n",
       " -0.0430682    0.082003    -0.113068    0.133281   -0.140702   -0.13462  \n",
       "  0.0472137   -0.0889539    0.120382   -0.137853    0.139343    0.124679 \n",
       " -0.0513136    0.0955607   -0.126648    0.140294   -0.13462    -0.110408 \n",
       "  0.0553638   -0.101798     0.131812   -0.140566    0.126648    0.092302 \n",
       "  ⋮                                                             ⋮        \n",
       "  0.0513136    0.0955607    0.126648    0.140294    0.13462    -0.110408 \n",
       " -0.0472137   -0.0889539   -0.120382   -0.137853   -0.139343    0.124679 \n",
       "  0.0430682    0.082003     0.113068    0.133281    0.140702   -0.13462  \n",
       " -0.038881    -0.0747349   -0.10477    -0.126648   -0.138665    0.139886 \n",
       "  0.0346562    0.0671776    0.0955607   0.118057    0.133281   -0.140294 \n",
       " -0.0303979   -0.0593604   -0.0855198  -0.107641   -0.124679    0.13583  \n",
       "  0.0261102    0.0513136    0.0747349   0.0955607   0.113068   -0.126648 \n",
       " -0.0217972   -0.0430682   -0.0632996  -0.082003   -0.098727    0.113068 \n",
       "  0.0174631    0.0346562    0.0513136   0.0671776   0.082003   -0.0955607\n",
       " -0.0131121   -0.0261102   -0.038881   -0.0513136  -0.0632996   0.0747349\n",
       "  0.00874848   0.0174631    0.0261102   0.0346562   0.0430682  -0.0513136\n",
       " -0.00437636  -0.00874848  -0.0131121  -0.0174631  -0.0217972   0.0261102"
      ]
     },
     "execution_count": 375,
     "metadata": {},
     "output_type": "execute_result"
    }
   ],
   "source": [
    "ϕ"
   ]
  },
  {
   "cell_type": "code",
   "execution_count": 368,
   "metadata": {},
   "outputs": [
    {
     "name": "stdout",
     "output_type": "stream",
     "text": [
      "  1.892 ms (15 allocations: 272.13 KiB)\n",
      "  7.104 ms (1279 allocations: 78.55 KiB)\n",
      "  2.314 ms (1268 allocations: 78.95 KiB)\n"
     ]
    }
   ],
   "source": [
    "@btime eigen($H);\n",
    "@btime eigs($H);\n",
    "@btime eigs($Hsparse); # it's slower because our Hsparse is actually pretty small and non-sparse"
   ]
  },
  {
   "cell_type": "code",
   "execution_count": 364,
   "metadata": {},
   "outputs": [
    {
     "data": {
      "text/plain": [
       "0.0298"
      ]
     },
     "execution_count": 364,
     "metadata": {},
     "output_type": "execute_result"
    }
   ],
   "source": [
    "length(Hsparse.nzval) / length(Hsparse)"
   ]
  },
  {
   "cell_type": "code",
   "execution_count": 365,
   "metadata": {},
   "outputs": [
    {
     "data": {
      "text/plain": [
       "(100, 100)"
      ]
     },
     "execution_count": 365,
     "metadata": {},
     "output_type": "execute_result"
    }
   ],
   "source": [
    "size(Hsparse)"
   ]
  },
  {
   "cell_type": "markdown",
   "metadata": {},
   "source": [
    "The future might be the pure Julia packages [SparseLinearAlgebra.jl](https://github.com/JuliaLinearAlgebra/SparseLinearAlgebra.jl) and [IterativeSolvers.jl](https://github.com/JuliaMath/IterativeSolvers.jl).\n",
    "\n",
    "The latter are so called matrix free algorithms. Let's learn from an example what this actually means."
   ]
  },
  {
   "cell_type": "markdown",
   "metadata": {},
   "source": [
    "## Linear operators / maps"
   ]
  },
  {
   "cell_type": "markdown",
   "metadata": {},
   "source": [
    "See https://github.com/Jutho/LinearMaps.jl"
   ]
  },
  {
   "cell_type": "code",
   "execution_count": 104,
   "metadata": {},
   "outputs": [],
   "source": [
    "using LinearMaps"
   ]
  },
  {
   "cell_type": "code",
   "execution_count": 117,
   "metadata": {},
   "outputs": [
    {
     "name": "stdout",
     "output_type": "stream",
     "text": [
      "search: \u001b[0m\u001b[1mL\u001b[22m\u001b[0m\u001b[1mi\u001b[22m\u001b[0m\u001b[1mn\u001b[22m\u001b[0m\u001b[1me\u001b[22m\u001b[0m\u001b[1ma\u001b[22m\u001b[0m\u001b[1mr\u001b[22m\u001b[0m\u001b[1mM\u001b[22m\u001b[0m\u001b[1ma\u001b[22m\u001b[0m\u001b[1mp\u001b[22m \u001b[0m\u001b[1mL\u001b[22m\u001b[0m\u001b[1mi\u001b[22m\u001b[0m\u001b[1mn\u001b[22m\u001b[0m\u001b[1me\u001b[22m\u001b[0m\u001b[1ma\u001b[22m\u001b[0m\u001b[1mr\u001b[22m\u001b[0m\u001b[1mM\u001b[22m\u001b[0m\u001b[1ma\u001b[22m\u001b[0m\u001b[1mp\u001b[22ms \u001b[0m\u001b[1mL\u001b[22m\u001b[0m\u001b[1mi\u001b[22m\u001b[0m\u001b[1mn\u001b[22m\u001b[0m\u001b[1me\u001b[22m\u001b[0m\u001b[1ma\u001b[22m\u001b[0m\u001b[1mr\u001b[22mI\u001b[0m\u001b[1mm\u001b[22mplicitEuler\n",
      "\n"
     ]
    },
    {
     "data": {
      "text/markdown": [
       "```\n",
       "LinearMap(A; kwargs...)\n",
       "LinearMap{T=Float64}(f, [fc,], M::Int, N::Int = M; kwargs...)\n",
       "```\n",
       "\n",
       "Construct a linear map object, either from an existing `LinearMap` or `AbstractMatrix` `A`, with the purpose of redefining its properties via the keyword arguments `kwargs`, or from a function or callable object `f`. In the latter case, one also needs to specify the size of the equivalent matrix representation `(M, N)`, i.e. for functions `f` acting on length `N` vectors and producing length `M` vectors (with default value `N=M`). Preferably, also the `eltype` `T` of the corresponding matrix representation needs to be specified, i.e. whether the action of `f` on a vector will be similar to e.g. multiplying by numbers of type `T`. If not specified, the devault value `T=Float64` will be assumed. Optionally, a corresponding function `fc` can be specified that implements the transpose/adjoint of `f`.\n",
       "\n",
       "The keyword arguments and their default values for functions `f` are\n",
       "\n",
       "  * issymmetric::Bool = false : whether `A` or `f` acts as a symmetric matrix\n",
       "  * ishermitian::Bool = issymmetric & T<:Real : whether `A` or `f` acts as a Hermitian matrix\n",
       "  * isposdef::Bool = false : whether `A` or `f` acts as a positive definite matrix.\n",
       "\n",
       "For existing linear maps or matrices `A`, the default values will be taken by calling `issymmetric`, `ishermitian` and `isposdef` on the existing object `A`.\n",
       "\n",
       "For functions `f`, there is one more keyword arguments\n",
       "\n",
       "  * ismutating::Bool : flags whether the function acts as a mutating matrix multiplication   `f(y,x)` where the result vector `y` is the first argument (in case of `true`),   or as a normal matrix multiplication that is called as `y=f(x)` (in case of `false`).   The default value is guessed by looking at the number of arguments of the first occurence   of `f` in the method table.\n"
      ],
      "text/plain": [
       "\u001b[36m  LinearMap(A; kwargs...)\u001b[39m\n",
       "\u001b[36m  LinearMap{T=Float64}(f, [fc,], M::Int, N::Int = M; kwargs...)\u001b[39m\n",
       "\n",
       "  Construct a linear map object, either from an existing \u001b[36mLinearMap\u001b[39m or\n",
       "  \u001b[36mAbstractMatrix\u001b[39m \u001b[36mA\u001b[39m, with the purpose of redefining its properties via the\n",
       "  keyword arguments \u001b[36mkwargs\u001b[39m, or from a function or callable object \u001b[36mf\u001b[39m. In the\n",
       "  latter case, one also needs to specify the size of the equivalent matrix\n",
       "  representation \u001b[36m(M, N)\u001b[39m, i.e. for functions \u001b[36mf\u001b[39m acting on length \u001b[36mN\u001b[39m vectors and\n",
       "  producing length \u001b[36mM\u001b[39m vectors (with default value \u001b[36mN=M\u001b[39m). Preferably, also the\n",
       "  \u001b[36meltype\u001b[39m \u001b[36mT\u001b[39m of the corresponding matrix representation needs to be specified,\n",
       "  i.e. whether the action of \u001b[36mf\u001b[39m on a vector will be similar to e.g. multiplying\n",
       "  by numbers of type \u001b[36mT\u001b[39m. If not specified, the devault value \u001b[36mT=Float64\u001b[39m will be\n",
       "  assumed. Optionally, a corresponding function \u001b[36mfc\u001b[39m can be specified that\n",
       "  implements the transpose/adjoint of \u001b[36mf\u001b[39m.\n",
       "\n",
       "  The keyword arguments and their default values for functions \u001b[36mf\u001b[39m are\n",
       "\n",
       "    •    issymmetric::Bool = false : whether \u001b[36mA\u001b[39m or \u001b[36mf\u001b[39m acts as a symmetric\n",
       "        matrix\n",
       "\n",
       "    •    ishermitian::Bool = issymmetric & T<:Real : whether \u001b[36mA\u001b[39m or \u001b[36mf\u001b[39m acts as\n",
       "        a Hermitian matrix\n",
       "\n",
       "    •    isposdef::Bool = false : whether \u001b[36mA\u001b[39m or \u001b[36mf\u001b[39m acts as a positive\n",
       "        definite matrix.\n",
       "\n",
       "  For existing linear maps or matrices \u001b[36mA\u001b[39m, the default values will be taken by\n",
       "  calling \u001b[36missymmetric\u001b[39m, \u001b[36mishermitian\u001b[39m and \u001b[36misposdef\u001b[39m on the existing object \u001b[36mA\u001b[39m.\n",
       "\n",
       "  For functions \u001b[36mf\u001b[39m, there is one more keyword arguments\n",
       "\n",
       "    •    ismutating::Bool : flags whether the function acts as a mutating\n",
       "        matrix multiplication \u001b[36mf(y,x)\u001b[39m where the result vector \u001b[36my\u001b[39m is the\n",
       "        first argument (in case of \u001b[36mtrue\u001b[39m), or as a normal matrix\n",
       "        multiplication that is called as \u001b[36my=f(x)\u001b[39m (in case of \u001b[36mfalse\u001b[39m). The\n",
       "        default value is guessed by looking at the number of arguments of\n",
       "        the first occurence of \u001b[36mf\u001b[39m in the method table."
      ]
     },
     "execution_count": 117,
     "metadata": {},
     "output_type": "execute_result"
    }
   ],
   "source": [
    "?LinearMap"
   ]
  },
  {
   "cell_type": "code",
   "execution_count": 141,
   "metadata": {},
   "outputs": [
    {
     "data": {
      "text/plain": [
       "1000×1000 Array{Int64,2}:\n",
       " 1  0  0  0  0  0  0  0  0   0   0   0  …    0    0    0    0    0    0     0\n",
       " 0  2  0  0  0  0  0  0  0   0   0   0       0    0    0    0    0    0     0\n",
       " 0  0  3  0  0  0  0  0  0   0   0   0       0    0    0    0    0    0     0\n",
       " 0  0  0  4  0  0  0  0  0   0   0   0       0    0    0    0    0    0     0\n",
       " 0  0  0  0  5  0  0  0  0   0   0   0       0    0    0    0    0    0     0\n",
       " 0  0  0  0  0  6  0  0  0   0   0   0  …    0    0    0    0    0    0     0\n",
       " 0  0  0  0  0  0  7  0  0   0   0   0       0    0    0    0    0    0     0\n",
       " 0  0  0  0  0  0  0  8  0   0   0   0       0    0    0    0    0    0     0\n",
       " 0  0  0  0  0  0  0  0  9   0   0   0       0    0    0    0    0    0     0\n",
       " 0  0  0  0  0  0  0  0  0  10   0   0       0    0    0    0    0    0     0\n",
       " 0  0  0  0  0  0  0  0  0   0  11   0  …    0    0    0    0    0    0     0\n",
       " 0  0  0  0  0  0  0  0  0   0   0  12       0    0    0    0    0    0     0\n",
       " 0  0  0  0  0  0  0  0  0   0   0   0       0    0    0    0    0    0     0\n",
       " ⋮              ⋮                ⋮      ⋱              ⋮                     \n",
       " 0  0  0  0  0  0  0  0  0   0   0   0       0    0    0    0    0    0     0\n",
       " 0  0  0  0  0  0  0  0  0   0   0   0       0    0    0    0    0    0     0\n",
       " 0  0  0  0  0  0  0  0  0   0   0   0  …    0    0    0    0    0    0     0\n",
       " 0  0  0  0  0  0  0  0  0   0   0   0       0    0    0    0    0    0     0\n",
       " 0  0  0  0  0  0  0  0  0   0   0   0       0    0    0    0    0    0     0\n",
       " 0  0  0  0  0  0  0  0  0   0   0   0     994    0    0    0    0    0     0\n",
       " 0  0  0  0  0  0  0  0  0   0   0   0       0  995    0    0    0    0     0\n",
       " 0  0  0  0  0  0  0  0  0   0   0   0  …    0    0  996    0    0    0     0\n",
       " 0  0  0  0  0  0  0  0  0   0   0   0       0    0    0  997    0    0     0\n",
       " 0  0  0  0  0  0  0  0  0   0   0   0       0    0    0    0  998    0     0\n",
       " 0  0  0  0  0  0  0  0  0   0   0   0       0    0    0    0    0  999     0\n",
       " 0  0  0  0  0  0  0  0  0   0   0   0       0    0    0    0    0    0  1000"
      ]
     },
     "execution_count": 141,
     "metadata": {},
     "output_type": "execute_result"
    }
   ],
   "source": [
    "H = diagm(0 => 1:1000) # diagonal but not properly typed"
   ]
  },
  {
   "cell_type": "code",
   "execution_count": 142,
   "metadata": {},
   "outputs": [
    {
     "name": "stdout",
     "output_type": "stream",
     "text": [
      "  153.608 ms (2046 allocations: 7.94 MiB)\n"
     ]
    }
   ],
   "source": [
    "@btime eigs($H);"
   ]
  },
  {
   "cell_type": "code",
   "execution_count": 159,
   "metadata": {},
   "outputs": [
    {
     "name": "stdout",
     "output_type": "stream",
     "text": [
      "  40.323 ms (2533 allocations: 334.16 KiB)\n"
     ]
    }
   ],
   "source": [
    "# Define map through matrix-vector multiplication. In-place version, y is the result.\n",
    "function Hmult!(y::AbstractVector, x::AbstractVector)\n",
    "    N = length(x)\n",
    "    @inbounds for i=1:N\n",
    "        y[i] = i*x[i]\n",
    "    end\n",
    "    nothing\n",
    "end\n",
    "\n",
    "D = LinearMap(Hmult!, 1000; ismutating=true, issymmetric=true, isposdef=true)\n",
    "\n",
    "@btime eigs($D);"
   ]
  },
  {
   "cell_type": "markdown",
   "metadata": {},
   "source": [
    "However, this is not faster than using `SparseMatrixCSC` or `Diagonal`."
   ]
  },
  {
   "cell_type": "code",
   "execution_count": 152,
   "metadata": {},
   "outputs": [
    {
     "name": "stdout",
     "output_type": "stream",
     "text": [
      "  41.547 ms (2075 allocations: 335.95 KiB)\n"
     ]
    }
   ],
   "source": [
    "Hsparse = sparse(H);\n",
    "@btime eigs($Hsparse);"
   ]
  },
  {
   "cell_type": "code",
   "execution_count": 154,
   "metadata": {},
   "outputs": [
    {
     "name": "stdout",
     "output_type": "stream",
     "text": [
      "  42.279 ms (2094 allocations: 328.70 KiB)\n"
     ]
    }
   ],
   "source": [
    "Hdiag = Diagonal(H);\n",
    "@btime eigs($Hdiag);"
   ]
  },
  {
   "cell_type": "markdown",
   "metadata": {},
   "source": [
    "# Numpy speed comparison"
   ]
  },
  {
   "cell_type": "code",
   "execution_count": 408,
   "metadata": {},
   "outputs": [],
   "source": [
    "using LinearAlgebra, PyCall, BenchmarkTools\n",
    "@pyimport numpy as np"
   ]
  },
  {
   "cell_type": "code",
   "execution_count": 409,
   "metadata": {},
   "outputs": [
    {
     "data": {
      "text/plain": [
       "2.3447910280083306e-13"
      ]
     },
     "execution_count": 409,
     "metadata": {},
     "output_type": "execute_result"
    }
   ],
   "source": [
    "X = rand(1000,1000);\n",
    "\n",
    "# python\n",
    "rpy = np.linalg[:eig](X);\n",
    "\n",
    "# julia\n",
    "r = eigen(X);\n",
    "\n",
    "# check eigenvalues\n",
    "maximum(sort(abs.(r.values)) - sort(abs.(rpy[1]))) # maximum abs difference of eigenvalues"
   ]
  },
  {
   "cell_type": "code",
   "execution_count": 410,
   "metadata": {},
   "outputs": [
    {
     "name": "stdout",
     "output_type": "stream",
     "text": [
      "  1.052 s (165 allocations: 15.28 MiB)\n",
      "  1.016 s (45 allocations: 31.57 MiB)\n"
     ]
    }
   ],
   "source": [
    "# Benchmark\n",
    "@btime np.linalg[:eig]($X);\n",
    "@btime eigen($X);"
   ]
  },
  {
   "cell_type": "code",
   "execution_count": 412,
   "metadata": {},
   "outputs": [
    {
     "name": "stdout",
     "output_type": "stream",
     "text": [
      "  231.522 ms (15 allocations: 23.25 MiB)\n",
      "  1.052 s (4004172 allocations: 129.79 MiB)\n"
     ]
    }
   ],
   "source": [
    "# Benchmark - symmetrized\n",
    "X = X + transpose(X) # symmetrize (but keep generic type to make it fair)\n",
    "\n",
    "@btime eigen($X);\n",
    "@btime np.linalg[:eig]($X); # seems to be slower because it doesn't seem to check for symmetry"
   ]
  },
  {
   "cell_type": "markdown",
   "metadata": {},
   "source": [
    "### What about sparse matrices?"
   ]
  },
  {
   "cell_type": "markdown",
   "metadata": {},
   "source": [
    "Unfortunately, we need some (tiny) conversion functions."
   ]
  },
  {
   "cell_type": "code",
   "execution_count": 395,
   "metadata": {},
   "outputs": [
    {
     "data": {
      "text/plain": [
       "sparsepy2jl"
      ]
     },
     "execution_count": 395,
     "metadata": {},
     "output_type": "execute_result"
    }
   ],
   "source": [
    "using PyCall\n",
    "@pyimport scipy.sparse as pysparse\n",
    "\n",
    "\"\"\"\n",
    "    sparsejl2py(X)\n",
    "\n",
    "Convert julia sparse matrix to python (scipy csc) sparse matrix.\n",
    "\"\"\"\n",
    "function sparsejl2py(S::SparseMatrixCSC)\n",
    "  pysparse.csc_matrix((S.nzval, S.rowval .- 1, S.colptr .- 1), shape=size(S))\n",
    "end\n",
    "\n",
    "\"\"\"\n",
    "    sparsepy2jl(X::PyObject)\n",
    "\n",
    "Convert python sparse matrix to julia sparse matrix.\n",
    "\"\"\"\n",
    "sparsepy2jl(S) =\n",
    "    SparseMatrixCSC(S[:m], S[:n], S[:indptr] .+ 1, S[:indices] .+ 1, S[:data])"
   ]
  },
  {
   "cell_type": "code",
   "execution_count": 378,
   "metadata": {},
   "outputs": [
    {
     "data": {
      "text/plain": [
       "PyObject <100000x100000 sparse matrix of type '<class 'numpy.float64'>'\n",
       "\twith 99688 stored elements in Compressed Sparse Column format>"
      ]
     },
     "execution_count": 378,
     "metadata": {},
     "output_type": "execute_result"
    }
   ],
   "source": [
    "X = sprand(100000,100000,1e-5);\n",
    "Xpy = sparsejl2py(X)"
   ]
  },
  {
   "cell_type": "code",
   "execution_count": 401,
   "metadata": {},
   "outputs": [
    {
     "data": {
      "text/plain": [
       "(Complex{Float64}[0.687346+0.0im, -4.85723e-16+0.59115im, -4.85723e-16-0.59115im, -0.59115+0.0im, 0.59115+0.0im, -0.590928+0.0im], Complex{Float64}[-2.56971e-20+0.0im 5.20715e-21-5.30628e-21im … 4.02235e-23+0.0im -1.83038e-20+0.0im; 2.21014e-20+0.0im -3.81312e-21+3.96956e-21im … 1.31167e-22+0.0im 1.5037e-20+0.0im; … ; 1.31805e-20+0.0im -2.65787e-21+2.66813e-21im … 9.01171e-24+0.0im 9.3059e-21+0.0im; -9.8744e-19+0.0im 2.04001e-19+2.78387e-19im … -8.6112e-21+0.0im -1.78495e-18+0.0im], 6, 19, 249, [3.22335e-19, -2.0667e-18, 3.19084e-19, -1.3239e-19, 4.37178e-15, -2.38686e-19, 9.16878e-14, -2.25677e-17, -2.2533e-15, -1.0442e-16  …  3.52047e-18, -9.16409e-21, -1.06057e-7, 1.7677e-19, 3.35373e-16, 1.3887e-16, 3.94468e-14, -8.59802e-20, -1.62549e-19, -1.00281e-10])"
      ]
     },
     "execution_count": 401,
     "metadata": {},
     "output_type": "execute_result"
    }
   ],
   "source": [
    "@pyimport scipy.sparse.linalg as scipy\n",
    "# python\n",
    "rpy = scipy.eigs(Xpy)\n",
    "\n",
    "# julia\n",
    "r = eigs(X)"
   ]
  },
  {
   "cell_type": "code",
   "execution_count": 407,
   "metadata": {},
   "outputs": [
    {
     "data": {
      "text/plain": [
       "true"
      ]
     },
     "execution_count": 407,
     "metadata": {},
     "output_type": "execute_result"
    }
   ],
   "source": [
    "isapprox(sort(real.(r[1])), sort(real.(rpy[1])))"
   ]
  },
  {
   "cell_type": "code",
   "execution_count": 393,
   "metadata": {},
   "outputs": [
    {
     "name": "stdout",
     "output_type": "stream",
     "text": [
      "  721.323 ms (1106 allocations: 61.85 MiB)\n",
      "  613.550 ms (180 allocations: 9.16 MiB)\n"
     ]
    }
   ],
   "source": [
    "@btime Arpack.eigs($X, nev=6, which=:LM);\n",
    "@btime scipy.eigs($Xpy, k=6, which=:LM);"
   ]
  }
 ],
 "metadata": {
  "kernelspec": {
   "display_name": "Julia 1.0.0",
   "language": "julia",
   "name": "julia-1.0"
  },
  "language_info": {
   "file_extension": ".jl",
   "mimetype": "application/julia",
   "name": "julia",
   "version": "1.0.0"
  }
 },
 "nbformat": 4,
 "nbformat_minor": 2
}
