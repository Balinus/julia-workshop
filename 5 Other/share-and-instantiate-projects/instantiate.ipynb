{
 "cells": [
  {
   "cell_type": "markdown",
   "metadata": {},
   "source": [
    "# Sharing projects made easy: Julia's package manager"
   ]
  },
  {
   "cell_type": "markdown",
   "metadata": {},
   "source": [
    "Let's inspect the code files in \"my-project\\\\\"."
   ]
  },
  {
   "cell_type": "markdown",
   "metadata": {},
   "source": [
    "The code in this folder depends on the useless package https://github.com/crstnbr/Useless.jl.\n",
    "\n",
    "You can add it by `] add https://github.com/crstnbr/Useless.jl`."
   ]
  },
  {
   "cell_type": "markdown",
   "metadata": {},
   "source": [
    "Think of this dependency as representing many real dependencies in a project of yours."
   ]
  },
  {
   "cell_type": "markdown",
   "metadata": {},
   "source": [
    "Let's say you'd like to send this project to your collegue for collaboration or help. He might not have `Useless` installed himself. And even if he has the package, he might have a different version of the package.\n",
    "\n",
    "**The source code alone isn't a runable project!**"
   ]
  },
  {
   "cell_type": "markdown",
   "metadata": {},
   "source": [
    "Fortunately, Julia's package manager `Pkg` allows you to prepare your project in such a way, that it also contains all package dependency information and is, in a sense, self-contained."
   ]
  },
  {
   "cell_type": "markdown",
   "metadata": {},
   "source": [
    "## Generating a Project: Being the \"sender\""
   ]
  },
  {
   "cell_type": "markdown",
   "metadata": {},
   "source": [
    "*Demo in the terminal/REPL*\n",
    "\n",
    "```julia\n",
    "# cd to my-project folder\n",
    "] activate . # activating/creating an environment for this package\n",
    "] st # no packages associated with this project\n",
    "] add https://github.com/crstnbr/Useless.jl # adding the dependency\n",
    "#(note that if the package is already installed this will just add it as a dependency and won't duplicate it!)\n",
    "] st # Useless is now showing up\n",
    "# inspect \"my-project\" and see that files Project.toml and Manifest.toml have been created\n",
    "\n",
    "# we now have a project that contains source code + dependency information\n",
    "# Let's send it to a collegue!\n",
    "# (I'll be the collegue as well. What I'll do is switch back to the general environment (] activate) and remove Useless (] rm Useless and ] gc) to have a clean julia installation again.)\n",
    "```"
   ]
  },
  {
   "cell_type": "markdown",
   "metadata": {},
   "source": [
    "## Instantiating a project: Being the \"receiver\"\n",
    "\n",
    "Ok, I received this folder \"my-project\" from my collegue and I'd like to run it.\n",
    "\n",
    "Of course, running the project naively won't work:\n",
    "\n",
    "```julia\n",
    "julia> include(\"main.jl\")\n",
    "ERROR: LoadError: ArgumentError: Package Useless not found in current path:\n",
    "- Run `Pkg.add(\"Useless\")` to install the Useless package.\n",
    "```\n",
    "\n",
    "However, we can simply instantiate the project which will download (if necessary) all the dependencies.\n",
    "\n",
    "```julia\n",
    "] activate . # activate the project's environment\n",
    "] instantiate . # instantiate all the dependencies\n",
    "```\n",
    "\n",
    "Now we have exactly the same packages (and versions) that the sender has.\n",
    "\n",
    "The code will now run and collaboration can start!"
   ]
  },
  {
   "cell_type": "code",
   "execution_count": null,
   "metadata": {},
   "outputs": [],
   "source": []
  }
 ],
 "metadata": {
  "kernelspec": {
   "display_name": "Julia 1.0.0",
   "language": "julia",
   "name": "julia-1.0"
  },
  "language_info": {
   "file_extension": ".jl",
   "mimetype": "application/julia",
   "name": "julia",
   "version": "1.0.0"
  }
 },
 "nbformat": 4,
 "nbformat_minor": 2
}
