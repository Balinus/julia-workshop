{
 "cells": [
  {
   "cell_type": "markdown",
   "metadata": {},
   "source": [
    "# Calculating with the type system"
   ]
  },
  {
   "cell_type": "markdown",
   "metadata": {},
   "source": [
    "Taken from Andy Ferris's talk at JuliaCon 2018"
   ]
  },
  {
   "cell_type": "code",
   "execution_count": 9,
   "metadata": {},
   "outputs": [],
   "source": [
    "# Binary representation at the type level - no run-time data!\n",
    "\n",
    "abstract type Bit; end\n",
    "\n",
    "struct Zero <: Bit; end\n",
    "struct One <: Bit; end"
   ]
  },
  {
   "cell_type": "code",
   "execution_count": 10,
   "metadata": {},
   "outputs": [],
   "source": [
    "# OR and AND for two Bits\n",
    "\n",
    "Base.:|(::Zero, ::Zero) = Zero()\n",
    "Base.:|(::Zero, ::One)  = One()\n",
    "Base.:|(::One,  ::Zero) = One()\n",
    "Base.:|(::One,  ::One)  = One()\n",
    "\n",
    "Base.:&(::Zero, ::Zero) = Zero()\n",
    "Base.:&(::Zero, ::One)  = Zero()\n",
    "Base.:&(::One,  ::Zero) = Zero()\n",
    "Base.:&(::One,  ::One)  = One()"
   ]
  },
  {
   "cell_type": "code",
   "execution_count": 11,
   "metadata": {},
   "outputs": [],
   "source": [
    "# 8 Bits make a Byte\n",
    "\n",
    "struct Byte{Bit1 <: Bit, Bit2 <: Bit, Bit3 <: Bit, Bit4 <: Bit, Bit5 <: Bit, Bit6 <: Bit, Bit7 <: Bit, Bit8 <: Bit}\n",
    "    bit1::Bit1\n",
    "    bit2::Bit2\n",
    "    bit3::Bit3\n",
    "    bit4::Bit4\n",
    "    bit5::Bit5\n",
    "    bit6::Bit6\n",
    "    bit7::Bit7\n",
    "    bit8::Bit8\n",
    "end"
   ]
  },
  {
   "cell_type": "code",
   "execution_count": 12,
   "metadata": {},
   "outputs": [],
   "source": [
    "# Bitwise OR and AND on Bytes\n",
    "\n",
    "function Base.:|(byte1::Byte, byte2::Byte)\n",
    "    return Byte(byte1.bit1 | byte2.bit1,\n",
    "                byte1.bit2 | byte2.bit2,\n",
    "                byte1.bit3 | byte2.bit3,\n",
    "                byte1.bit4 | byte2.bit4,\n",
    "                byte1.bit5 | byte2.bit5,\n",
    "                byte1.bit6 | byte2.bit6,\n",
    "                byte1.bit7 | byte2.bit7,\n",
    "                byte1.bit8 | byte2.bit8)\n",
    "end\n",
    "\n",
    "function Base.:&(byte1::Byte, byte2::Byte)\n",
    "    return Byte(byte1.bit1 & byte2.bit1,\n",
    "                byte1.bit2 & byte2.bit2,\n",
    "                byte1.bit3 & byte2.bit3,\n",
    "                byte1.bit4 & byte2.bit4,\n",
    "                byte1.bit5 & byte2.bit5,\n",
    "                byte1.bit6 & byte2.bit6,\n",
    "                byte1.bit7 & byte2.bit7,\n",
    "                byte1.bit8 & byte2.bit8)\n",
    "end"
   ]
  },
  {
   "cell_type": "markdown",
   "metadata": {},
   "source": [
    "We can now perform almost arbitrary logic on bits and bytes! (For arbitrary we need a NAND for example)"
   ]
  },
  {
   "cell_type": "code",
   "execution_count": 13,
   "metadata": {},
   "outputs": [
    {
     "data": {
      "text/plain": [
       "Byte{Zero,One,Zero,Zero,Zero,One,Zero,One}(Zero(), One(), Zero(), Zero(), Zero(), One(), Zero(), One())"
      ]
     },
     "execution_count": 13,
     "metadata": {},
     "output_type": "execute_result"
    }
   ],
   "source": [
    "byte1 = Byte(Zero(), Zero(), One(),  Zero(), Zero(), One(), One(),  One())\n",
    "byte2 = Byte(Zero(), One(),  Zero(), Zero(), Zero(), One(), Zero(), One())"
   ]
  },
  {
   "cell_type": "code",
   "execution_count": 14,
   "metadata": {},
   "outputs": [
    {
     "data": {
      "text/plain": [
       "Byte{Zero,One,One,Zero,Zero,One,One,One}(Zero(), One(), One(), Zero(), Zero(), One(), One(), One())"
      ]
     },
     "execution_count": 14,
     "metadata": {},
     "output_type": "execute_result"
    }
   ],
   "source": [
    "byte1 | byte2"
   ]
  },
  {
   "cell_type": "code",
   "execution_count": 15,
   "metadata": {},
   "outputs": [
    {
     "data": {
      "text/plain": [
       "Byte{Zero,Zero,Zero,Zero,Zero,One,Zero,One}(Zero(), Zero(), Zero(), Zero(), Zero(), One(), Zero(), One())"
      ]
     },
     "execution_count": 15,
     "metadata": {},
     "output_type": "execute_result"
    }
   ],
   "source": [
    "byte1 & byte2"
   ]
  },
  {
   "cell_type": "code",
   "execution_count": 16,
   "metadata": {},
   "outputs": [
    {
     "data": {
      "text/plain": [
       "CodeInfo(\n",
       "\u001b[90m\u001b[64G│╻ getproperty\u001b[1G\u001b[39m\u001b[90m4 \u001b[39m1 ─     (Base.getfield)(byte1, :bit1)\u001b[90m::Zero\u001b[39m\n",
       "\u001b[90m\u001b[64G││\u001b[1G\u001b[39m\u001b[90m  \u001b[39m│       (Base.getfield)(byte2, :bit1)\u001b[90m::Zero\u001b[39m\n",
       "\u001b[90m\u001b[64G││\u001b[1G\u001b[39m\u001b[90m  \u001b[39m│       (Base.getfield)(byte1, :bit2)\u001b[90m::Zero\u001b[39m\n",
       "\u001b[90m\u001b[64G││\u001b[1G\u001b[39m\u001b[90m  \u001b[39m│       (Base.getfield)(byte2, :bit2)\u001b[90m::One\u001b[39m\n",
       "\u001b[90m\u001b[64G││\u001b[1G\u001b[39m\u001b[90m  \u001b[39m│       (Base.getfield)(byte1, :bit3)\u001b[90m::One\u001b[39m\n",
       "\u001b[90m\u001b[64G││\u001b[1G\u001b[39m\u001b[90m  \u001b[39m│       (Base.getfield)(byte2, :bit3)\u001b[90m::Zero\u001b[39m\n",
       "\u001b[90m\u001b[64G││\u001b[1G\u001b[39m\u001b[90m  \u001b[39m│       (Base.getfield)(byte1, :bit4)\u001b[90m::Zero\u001b[39m\n",
       "\u001b[90m\u001b[64G││\u001b[1G\u001b[39m\u001b[90m  \u001b[39m│       (Base.getfield)(byte2, :bit4)\u001b[90m::Zero\u001b[39m\n",
       "\u001b[90m\u001b[64G││\u001b[1G\u001b[39m\u001b[90m  \u001b[39m│       (Base.getfield)(byte1, :bit5)\u001b[90m::Zero\u001b[39m\n",
       "\u001b[90m\u001b[64G││\u001b[1G\u001b[39m\u001b[90m  \u001b[39m│       (Base.getfield)(byte2, :bit5)\u001b[90m::Zero\u001b[39m\n",
       "\u001b[90m\u001b[64G││\u001b[1G\u001b[39m\u001b[90m  \u001b[39m│       (Base.getfield)(byte1, :bit6)\u001b[90m::One\u001b[39m\n",
       "\u001b[90m\u001b[64G││\u001b[1G\u001b[39m\u001b[90m  \u001b[39m│       (Base.getfield)(byte2, :bit6)\u001b[90m::One\u001b[39m\n",
       "\u001b[90m\u001b[64G││\u001b[1G\u001b[39m\u001b[90m  \u001b[39m│       (Base.getfield)(byte1, :bit7)\u001b[90m::One\u001b[39m\n",
       "\u001b[90m\u001b[64G││\u001b[1G\u001b[39m\u001b[90m  \u001b[39m│       (Base.getfield)(byte2, :bit7)\u001b[90m::Zero\u001b[39m\n",
       "\u001b[90m\u001b[64G││\u001b[1G\u001b[39m\u001b[90m  \u001b[39m│       (Base.getfield)(byte1, :bit8)\u001b[90m::One\u001b[39m\n",
       "\u001b[90m\u001b[64G││\u001b[1G\u001b[39m\u001b[90m  \u001b[39m│       (Base.getfield)(byte2, :bit8)\u001b[90m::One\u001b[39m\n",
       "\u001b[90m\u001b[64G│ \u001b[1G\u001b[39m\u001b[90m  \u001b[39m└──     return $(QuoteNode(Byte{Zero,One,One,Zero,Zero,One,One,One}(Zero(), One(), One(), Zero(), Zero(), One(), One(), One())))\n",
       ") => Byte{Zero,One,One,Zero,Zero,One,One,One}"
      ]
     },
     "execution_count": 16,
     "metadata": {},
     "output_type": "execute_result"
    }
   ],
   "source": [
    "# Let's see if type inference is doing the computation at compile-time\n",
    "\n",
    "@code_typed byte1 | byte2"
   ]
  },
  {
   "cell_type": "markdown",
   "metadata": {},
   "source": [
    "### Turing Complete\n",
    "\n",
    "To make this Turing-complete, we need some way of creating \"memory\". One could use more `struct`s to build a heirarchy of words and pages of increasing number of bits, complete with a system of pointers and so-on!\n",
    "\n",
    "Alternatively, one can use the built-in `Tuple` type which can accept an arbitrary number of fields of different types. In either case, it is possible to perform just about any computation purely in the type domain."
   ]
  }
 ],
 "metadata": {
  "kernelspec": {
   "display_name": "Julia 1.0.0",
   "language": "julia",
   "name": "julia-1.0"
  },
  "language_info": {
   "file_extension": ".jl",
   "mimetype": "application/julia",
   "name": "julia",
   "version": "1.0.0"
  }
 },
 "nbformat": 4,
 "nbformat_minor": 2
}
